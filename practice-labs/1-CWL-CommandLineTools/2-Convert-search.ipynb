{
 "cells": [
  {
   "cell_type": "markdown",
   "metadata": {},
   "source": [
    "# Convert-search\n",
    "\n",
    "Invoke a Common Workflow Language CommandLineTool bash script to invoke `yq` to:\n",
    "- extract the discovered STAC Items `self` link `href` that is used as an input in the water bodies detection sub-workflow\n",
    "- extract the aoi bounding box from the `search_request` input parameter\n",
    "\n",
    "This notebook is linked to: https://eoap.github.io/zarr-cloud-native-format/cwl-cli/convert-search/\n",
    "\n"
   ]
  },
  {
   "cell_type": "markdown",
   "metadata": {},
   "source": [
    "## Setup"
   ]
  },
  {
   "cell_type": "code",
   "execution_count": 8,
   "metadata": {
    "vscode": {
     "languageId": "shellscript"
    }
   },
   "outputs": [],
   "source": [
    "export WORKSPACE=/workspace/zarr-cloud-native-format\n",
    "export RUNTIME=${WORKSPACE}/runs\n",
    "mkdir -p ${RUNTIME}\n",
    "cd ${RUNTIME}\n",
    "\n",
    "curl -q -L https://github.com/eoap/zarr-cloud-native-format/releases/download/0.3.0/app-water-bodies.0.3.0.cwl > ${WORKSPACE}/cwl-workflow/app-water-bodies.cwl 2> /dev/null"
   ]
  },
  {
   "cell_type": "markdown",
   "metadata": {},
   "source": [
    "## Run the convert-seach step\n",
    "\n",
    "Inspect and use `cwltool` to run the CommandLineTool definition:\n"
   ]
  },
  {
   "cell_type": "code",
   "execution_count": 9,
   "metadata": {
    "vscode": {
     "languageId": "shellscript"
    }
   },
   "outputs": [
    {
     "name": "stdout",
     "output_type": "stream",
     "text": [
      "\u001b[36mclass\u001b[0m:\u001b[32m CommandLineTool\u001b[0m\n",
      "\u001b[32m\u001b[0m\u001b[36mid\u001b[0m:\u001b[32m convert-search\u001b[0m\n",
      "\u001b[32m\u001b[0m\u001b[36mlabel\u001b[0m:\u001b[32m Gets the item self hrefs\u001b[0m\n",
      "\u001b[32m\u001b[0m\u001b[36mdoc\u001b[0m:\u001b[32m Gets the item self hrefs from a STAC search result\u001b[0m\n",
      "\u001b[32m\u001b[0m\u001b[36mbaseCommand\u001b[0m: [\u001b[32m\"/bin/sh\"\u001b[0m,\u001b[32m \"run.sh\"\u001b[0m]\u001b[36m\u001b[0m\n",
      "\u001b[36marguments\u001b[0m: []\u001b[36m\u001b[0m\n",
      "\u001b[36mhints\u001b[0m:\u001b[36m\u001b[0m\n",
      "\u001b[36m  DockerRequirement\u001b[0m:\u001b[36m\u001b[0m\n",
      "\u001b[36m    dockerPull\u001b[0m:\u001b[32m ghcr.io/eoap/zarr-cloud-native-format/yq@sha256:401655f3f4041bf3d03b05f3b24ad4b9d18cfcf908c3b44f5901383621d0688a\u001b[0m\n",
      "\u001b[32m\u001b[0m\u001b[36mrequirements\u001b[0m:\n",
      "  -\u001b[36m class\u001b[0m:\u001b[32m InlineJavascriptRequirement\u001b[0m\n",
      "\u001b[32m  \u001b[0m-\u001b[36m class\u001b[0m:\u001b[32m SchemaDefRequirement\u001b[0m\n",
      "\u001b[32m    \u001b[0m\u001b[36mtypes\u001b[0m:\n",
      "      -\u001b[36m $import\u001b[0m:\u001b[32m https://raw.githubusercontent.com/eoap/schemas/main/string_format.yaml\u001b[0m\n",
      "\u001b[32m      \u001b[0m-\u001b[36m $import\u001b[0m:\u001b[32m https://raw.githubusercontent.com/eoap/schemas/main/geojson.yaml\u001b[0m\n",
      "\u001b[32m      \u001b[0m-\u001b[36m $import\u001b[0m: |-\n",
      "\u001b[32m          https://raw.githubusercontent.com/eoap/schemas/main/experimental/api-endpoint.yaml\u001b[0m\n",
      "\u001b[32m      \u001b[0m-\u001b[36m $import\u001b[0m:\u001b[32m https://raw.githubusercontent.com/eoap/schemas/main/experimental/discovery.yaml\u001b[0m\n",
      "\u001b[32m  \u001b[0m-\u001b[36m class\u001b[0m:\u001b[32m InitialWorkDirRequirement\u001b[0m\n",
      "\u001b[32m    \u001b[0m\u001b[36mlisting\u001b[0m:\n",
      "      -\u001b[36m entryname\u001b[0m:\u001b[32m run.sh\u001b[0m\n",
      "\u001b[32m        \u001b[0m\u001b[36mentry\u001b[0m: |-\n",
      "\u001b[32m          #!/usr/bin/env sh\u001b[0m\n",
      "\u001b[32m          set -x\u001b[0m\n",
      "\u001b[32m          set -euo pipefail\u001b[0m\n",
      "\u001b[32m\u001b[0m\n",
      "\u001b[32m          yq '[.features[].links[] | select(.rel==\"self\") | .href]' \"$(inputs.search_results.path)\" > items.json\u001b[0m\n",
      "\u001b[32m\u001b[0m\n",
      "\u001b[32m          echo \"$(inputs.search_request)\" | yq '.bbox | @csv' - > aoi.txt\u001b[0m\n",
      "\u001b[32m\u001b[0m\u001b[36minputs\u001b[0m:\u001b[36m\u001b[0m\n",
      "\u001b[36m  search_request\u001b[0m:\u001b[36m\u001b[0m\n",
      "\u001b[36m    label\u001b[0m:\u001b[32m Search Request\u001b[0m\n",
      "\u001b[32m    \u001b[0m\u001b[36mdoc\u001b[0m:\u001b[32m Search request from the discovery step\u001b[0m\n",
      "\u001b[32m    \u001b[0m\u001b[36mtype\u001b[0m:\u001b[32m https://raw.githubusercontent.com/eoap/schemas/main/experimental/discovery.yaml#STACSearchSettings\u001b[0m\n",
      "\u001b[32m  \u001b[0m\u001b[36msearch_results\u001b[0m:\u001b[36m\u001b[0m\n",
      "\u001b[36m    label\u001b[0m:\u001b[32m Search Results\u001b[0m\n",
      "\u001b[32m    \u001b[0m\u001b[36mdoc\u001b[0m:\u001b[32m Search results from the discovery step\u001b[0m\n",
      "\u001b[32m    \u001b[0m\u001b[36mtype\u001b[0m:\u001b[32m File\u001b[0m\n",
      "\u001b[32m\u001b[0m\u001b[36moutputs\u001b[0m:\u001b[36m\u001b[0m\n",
      "\u001b[36m  items\u001b[0m:\u001b[36m\u001b[0m\n",
      "\u001b[36m    type\u001b[0m:\u001b[32m Any\u001b[0m\n",
      "\u001b[32m    \u001b[0m\u001b[36moutputBinding\u001b[0m:\u001b[36m\u001b[0m\n",
      "\u001b[36m      glob\u001b[0m:\u001b[32m items.json\u001b[0m\n",
      "\u001b[32m      \u001b[0m\u001b[36mloadContents\u001b[0m:\u001b[95m true\u001b[0m\n",
      "\u001b[95m      \u001b[0m\u001b[36moutputEval\u001b[0m:\u001b[32m ${ return JSON.parse(self[0].contents); }\u001b[0m\n",
      "\u001b[32m  \u001b[0m\u001b[36maoi\u001b[0m:\u001b[36m\u001b[0m\n",
      "\u001b[36m    type\u001b[0m:\u001b[32m string\u001b[0m\n",
      "\u001b[32m    \u001b[0m\u001b[36moutputBinding\u001b[0m:\u001b[36m\u001b[0m\n",
      "\u001b[36m      glob\u001b[0m:\u001b[32m aoi.txt\u001b[0m\n",
      "\u001b[32m      \u001b[0m\u001b[36mloadContents\u001b[0m:\u001b[95m true\u001b[0m\n",
      "\u001b[95m      \u001b[0m\u001b[36moutputEval\u001b[0m:\u001b[32m ${ return self[0].contents.trim(); }\u001b[0m\n"
     ]
    }
   ],
   "source": [
    "cat ${WORKSPACE}/cwl-workflow/app-water-bodies.cwl | yq e '.[\"$graph\"][1]' -"
   ]
  },
  {
   "cell_type": "markdown",
   "metadata": {},
   "source": [
    "The bash script to run is:"
   ]
  },
  {
   "cell_type": "code",
   "execution_count": 10,
   "metadata": {
    "vscode": {
     "languageId": "shellscript"
    }
   },
   "outputs": [
    {
     "name": "stdout",
     "output_type": "stream",
     "text": [
      "#!/usr/bin/env sh\n",
      "set -x\n",
      "set -euo pipefail\n",
      "\n",
      "yq '[.features[].links[] | select(.rel==\"self\") | .href]' \"$(inputs.search_results.path)\" > items.json\n",
      "\n",
      "echo \"$(inputs.search_request)\" | yq '.bbox | @csv' - > aoi.txt\n"
     ]
    }
   ],
   "source": [
    "yq e '.[\"$graph\"][1].requirements[]\n",
    "      | select(.class == \"InitialWorkDirRequirement\")\n",
    "      | .listing[0].entry' \\\n",
    "  \"${WORKSPACE}/cwl-workflow/app-water-bodies.cwl\""
   ]
  },
  {
   "cell_type": "markdown",
   "metadata": {},
   "source": [
    "Run the CWL description:"
   ]
  },
  {
   "cell_type": "code",
   "execution_count": 12,
   "metadata": {
    "vscode": {
     "languageId": "shellscript"
    }
   },
   "outputs": [
    {
     "name": "stdout",
     "output_type": "stream",
     "text": [
      "\u001b[36msearch_request\u001b[0m:\u001b[36m\u001b[0m\n",
      "\u001b[36m  bbox\u001b[0m:\n",
      "    -\u001b[95m -121.399\u001b[0m\n",
      "\u001b[95m    \u001b[0m-\u001b[95m 39.834\u001b[0m\n",
      "\u001b[95m    \u001b[0m-\u001b[95m -120.74\u001b[0m\n",
      "\u001b[95m    \u001b[0m-\u001b[95m 40.472\u001b[0m\n",
      "\u001b[95m  \u001b[0m\u001b[36mcollections\u001b[0m:\n",
      "    -\u001b[32m sentinel-2-l2a\u001b[0m\n",
      "\u001b[32m  \u001b[0m\u001b[36mdatetime_interval\u001b[0m:\u001b[36m\u001b[0m\n",
      "\u001b[36m    end\u001b[0m:\u001b[36m\u001b[0m\n",
      "\u001b[36m      value\u001b[0m:\u001b[32m '2021-08-01T23:59:59'\u001b[0m\u001b[36m\u001b[0m\n",
      "\u001b[36m    start\u001b[0m:\u001b[36m\u001b[0m\n",
      "\u001b[36m      value\u001b[0m:\u001b[32m '2021-06-01T00:00:00'\u001b[0m\u001b[36m\u001b[0m\n",
      "\u001b[36m  limit\u001b[0m:\u001b[95m 20\u001b[0m\n",
      "\u001b[95m  \u001b[0m\u001b[36mmax-items\u001b[0m:\u001b[95m 10\u001b[0m\n",
      "\u001b[95m\u001b[0m\u001b[36msearch_results\u001b[0m:\u001b[36m\u001b[0m\n",
      "\u001b[36m  class\u001b[0m:\u001b[32m File\u001b[0m\n",
      "\u001b[32m  \u001b[0m\u001b[36mpath\u001b[0m:\u001b[32m \"/workspace/zarr-cloud-native-format/runs/discovery-output.json\"\u001b[0m\n"
     ]
    }
   ],
   "source": [
    "cat <<EOF > convert-search-params.yaml\n",
    "search_request:\n",
    "  bbox:\n",
    "  - -121.399\n",
    "  - 39.834\n",
    "  - -120.74\n",
    "  - 40.472\n",
    "  collections:\n",
    "  - sentinel-2-l2a\n",
    "  datetime_interval:\n",
    "    end:\n",
    "      value: '2021-08-01T23:59:59'\n",
    "    start:\n",
    "      value: '2021-06-01T00:00:00'\n",
    "  limit: 20\n",
    "  max-items: 10\n",
    "\n",
    "search_results:\n",
    "  class: File\n",
    "  path: \"${WORKSPACE}/runs/discovery-output.json\"\n",
    "EOF\n",
    "\n",
    "cat convert-search-params.yaml | yq ."
   ]
  },
  {
   "cell_type": "code",
   "execution_count": 14,
   "metadata": {
    "vscode": {
     "languageId": "shellscript"
    }
   },
   "outputs": [],
   "source": [
    "\n",
    "\n",
    "cwltool \\\n",
    "    --podman \\\n",
    "    --outdir ${WORKSPACE}/runs \\\n",
    "    ${WORKSPACE}/cwl-workflow/app-water-bodies.cwl#convert-search \\\n",
    "    convert-search-params.yaml > convert-search-results.json 2> convert-search.log"
   ]
  },
  {
   "cell_type": "markdown",
   "metadata": {},
   "source": [
    "Let's look at the content of the stderr:"
   ]
  },
  {
   "cell_type": "code",
   "execution_count": 15,
   "metadata": {
    "vscode": {
     "languageId": "shellscript"
    }
   },
   "outputs": [
    {
     "name": "stdout",
     "output_type": "stream",
     "text": [
      "\u001b[1;30mINFO\u001b[0m /home/fbrito/.local/bin/cwltool 3.1.20250110105449\n",
      "\u001b[1;30mINFO\u001b[0m Resolved '/workspace/zarr-cloud-native-format/cwl-workflow/app-water-bodies.cwl#convert-search' to 'file:///workspace/zarr-cloud-native-format/cwl-workflow/app-water-bodies.cwl#convert-search'\n",
      "\u001b[1;30mINFO\u001b[0m [job convert-search] /tmp/z4_3c9ik$ podman \\\n",
      "    run \\\n",
      "    -i \\\n",
      "    --userns=keep-id \\\n",
      "    --mount=type=bind,source=/tmp/z4_3c9ik,target=/xSpKRG \\\n",
      "    --mount=type=bind,source=/tmp/lasrxu0p,target=/tmp \\\n",
      "    --mount=type=bind,source=/workspace/zarr-cloud-native-format/runs/discovery-output.json,target=/var/lib/cwl/stg68b29ab9-0a96-4f10-8ce9-3b59912147e3/discovery-output.json,readonly \\\n",
      "    --workdir=/xSpKRG \\\n",
      "    --read-only=true \\\n",
      "    --user=1000:1000 \\\n",
      "    --rm \\\n",
      "    --cidfile=/tmp/xwp01rr9/20250915142619-690236.cid \\\n",
      "    --env=TMPDIR=/tmp \\\n",
      "    --env=HOME=/xSpKRG \\\n",
      "    ghcr.io/eoap/zarr-cloud-native-format/yq@sha256:401655f3f4041bf3d03b05f3b24ad4b9d18cfcf908c3b44f5901383621d0688a \\\n",
      "    /bin/sh \\\n",
      "    run.sh\n",
      "+ set -euo pipefail\n",
      "+ yq '[.features[].links[] | select(.rel==\"self\") | .href]' /var/lib/cwl/stg68b29ab9-0a96-4f10-8ce9-3b59912147e3/discovery-output.json\n",
      "+ echo '{bbox: [-121.399, 39.834, -120.74, 40.472], collections: [sentinel-2-l2a], datetime: null, datetime-interval: null, datetime_interval: {end: {value: 2021-08-01T23:59:59}, start: {value: 2021-06-01T00:00:00}}, fields: null, filter: null, filter-crs: null, filter-lang: null, ids: null, intersects: null, limit: 20, max-items: 10, sortby: null}'\n",
      "+ yq '.bbox | @csv' -\n",
      "\u001b[1;30mINFO\u001b[0m [job convert-search] completed success\n",
      "\u001b[1;30mINFO\u001b[0m Final process status is success\n"
     ]
    }
   ],
   "source": [
    "cat convert-search.log | egrep -v \"WARNING|JSHINT\""
   ]
  },
  {
   "cell_type": "markdown",
   "metadata": {},
   "source": [
    "Let's inspect the stdout produced. There are two `output` blocks with the id `aoi` and `items`. \n",
    "\n",
    "These are what the water bodies detection sub-workflow expects as inputs"
   ]
  },
  {
   "cell_type": "code",
   "execution_count": 16,
   "metadata": {
    "vscode": {
     "languageId": "shellscript"
    }
   },
   "outputs": [
    {
     "name": "stdout",
     "output_type": "stream",
     "text": [
      "\u001b[1;39m{\n",
      "  \u001b[0m\u001b[1;34m\"aoi\"\u001b[0m\u001b[1;39m: \u001b[0m\u001b[0;32m\"-121.399,39.834,-120.74,40.472\"\u001b[0m\u001b[1;39m,\n",
      "  \u001b[0m\u001b[1;34m\"items\"\u001b[0m\u001b[1;39m: \u001b[0m\u001b[1;39m[\n",
      "    \u001b[0;32m\"https://earth-search.aws.element84.com/v1/collections/sentinel-2-l2a/items/S2A_10TFK_20210728_0_L2A\"\u001b[0m\u001b[1;39m,\n",
      "    \u001b[0;32m\"https://earth-search.aws.element84.com/v1/collections/sentinel-2-l2a/items/S2A_10TFK_20210728_1_L2A\"\u001b[0m\u001b[1;39m,\n",
      "    \u001b[0;32m\"https://earth-search.aws.element84.com/v1/collections/sentinel-2-l2a/items/S2B_10TFK_20210723_1_L2A\"\u001b[0m\u001b[1;39m,\n",
      "    \u001b[0;32m\"https://earth-search.aws.element84.com/v1/collections/sentinel-2-l2a/items/S2B_10TFK_20210723_0_L2A\"\u001b[0m\u001b[1;39m,\n",
      "    \u001b[0;32m\"https://earth-search.aws.element84.com/v1/collections/sentinel-2-l2a/items/S2A_10TFK_20210718_0_L2A\"\u001b[0m\u001b[1;39m,\n",
      "    \u001b[0;32m\"https://earth-search.aws.element84.com/v1/collections/sentinel-2-l2a/items/S2B_10TFK_20210713_1_L2A\"\u001b[0m\u001b[1;39m,\n",
      "    \u001b[0;32m\"https://earth-search.aws.element84.com/v1/collections/sentinel-2-l2a/items/S2B_10TFK_20210713_0_L2A\"\u001b[0m\u001b[1;39m,\n",
      "    \u001b[0;32m\"https://earth-search.aws.element84.com/v1/collections/sentinel-2-l2a/items/S2A_10TFK_20210708_0_L2A\"\u001b[0m\u001b[1;39m,\n",
      "    \u001b[0;32m\"https://earth-search.aws.element84.com/v1/collections/sentinel-2-l2a/items/S2A_10TFK_20210708_1_L2A\"\u001b[0m\u001b[1;39m,\n",
      "    \u001b[0;32m\"https://earth-search.aws.element84.com/v1/collections/sentinel-2-l2a/items/S2A_10TFK_20210628_0_L2A\"\u001b[0m\u001b[1;39m\n",
      "  \u001b[1;39m]\u001b[0m\u001b[1;39m\n",
      "\u001b[1;39m}\u001b[0m\n"
     ]
    }
   ],
   "source": [
    "cat convert-search-results.json | jq . -"
   ]
  },
  {
   "cell_type": "code",
   "execution_count": null,
   "metadata": {
    "vscode": {
     "languageId": "shellscript"
    }
   },
   "outputs": [],
   "source": []
  }
 ],
 "metadata": {
  "kernelspec": {
   "display_name": "Bash",
   "language": "bash",
   "name": "bash"
  },
  "language_info": {
   "codemirror_mode": "shell",
   "file_extension": ".sh",
   "mimetype": "text/x-sh",
   "name": "bash"
  }
 },
 "nbformat": 4,
 "nbformat_minor": 2
}
