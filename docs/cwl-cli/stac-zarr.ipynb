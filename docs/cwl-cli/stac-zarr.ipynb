{
 "cells": [
  {
   "cell_type": "markdown",
   "id": "56118ed5",
   "metadata": {},
   "source": [
    "# STAC Zarr"
   ]
  },
  {
   "cell_type": "markdown",
   "id": "f582c73a",
   "metadata": {},
   "source": []
  }
 ],
 "metadata": {
  "language_info": {
   "name": "python"
  }
 },
 "nbformat": 4,
 "nbformat_minor": 5
}
