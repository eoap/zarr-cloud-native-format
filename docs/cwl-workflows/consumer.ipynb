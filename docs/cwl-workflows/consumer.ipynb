{
 "cells": [
  {
   "cell_type": "markdown",
   "id": "0d027a71",
   "metadata": {},
   "source": [
    "# Consumer\n",
    "\n",
    "This is a downstream Application Package that produces the mean value using as input the Zarr store of the detected water bodies described as a STAC Collection including the STAC Datacube extension"
   ]
  },
  {
   "cell_type": "code",
   "execution_count": null,
   "id": "92bc0937",
   "metadata": {
    "vscode": {
     "languageId": "plaintext"
    }
   },
   "outputs": [],
   "source": []
  },
  {
   "cell_type": "markdown",
   "id": "9030f658",
   "metadata": {},
   "source": []
  }
 ],
 "metadata": {
  "language_info": {
   "name": "python"
  }
 },
 "nbformat": 4,
 "nbformat_minor": 5
}
