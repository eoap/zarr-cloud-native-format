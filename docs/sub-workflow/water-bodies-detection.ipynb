{
 "cells": [
  {
   "cell_type": "markdown",
   "id": "98882f8f",
   "metadata": {},
   "source": [
    "# Water bodies detection"
   ]
  },
  {
   "cell_type": "markdown",
   "id": "76e46592",
   "metadata": {},
   "source": []
  }
 ],
 "metadata": {
  "language_info": {
   "name": "python"
  }
 },
 "nbformat": 4,
 "nbformat_minor": 5
}
