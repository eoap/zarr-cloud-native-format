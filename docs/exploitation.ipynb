{
 "cells": [
  {
   "cell_type": "markdown",
   "metadata": {},
   "source": [
    "# Zarr Cloud native format in Earth Observation Application Packages"
   ]
  },
  {
   "cell_type": "markdown",
   "metadata": {},
   "source": [
    "## Part 1 - Application Package execution\n",
    "\n",
    "Use `cwltool` to run the Application Package"
   ]
  },
  {
   "cell_type": "markdown",
   "metadata": {},
   "source": [
    "### Modules used"
   ]
  },
  {
   "cell_type": "code",
   "execution_count": 33,
   "metadata": {},
   "outputs": [],
   "source": [
    "import yaml\n",
    "from shutil import which\n",
    "import nest_asyncio\n",
    "from cwltool.main import main\n",
    "from io import StringIO\n",
    "import argparse\n",
    "import json\n",
    "nest_asyncio.apply()"
   ]
  },
  {
   "cell_type": "markdown",
   "metadata": {},
   "source": [
    "### Container runtime\n",
    "\n",
    "Check if `podman` or `docker` are available:"
   ]
  },
  {
   "cell_type": "code",
   "execution_count": 34,
   "metadata": {},
   "outputs": [
    {
     "name": "stdout",
     "output_type": "stream",
     "text": [
      "Using podman\n"
     ]
    }
   ],
   "source": [
    "if which(\"podman\"):\n",
    "    podman = True\n",
    "    print(\"Using podman\")\n",
    "elif which(\"docker\"):\n",
    "    podman = False\n",
    "    print(\"Using docker\")\n",
    "else:\n",
    "    raise ValueError(\"No container engine\")\n",
    "\n",
    "podman = False"
   ]
  },
  {
   "cell_type": "markdown",
   "metadata": {},
   "source": [
    "### Prepare the Application Package execution\n",
    "\n",
    "Use `cwltool` and Python to execute the Application Package.\n",
    "\n"
   ]
  },
  {
   "cell_type": "code",
   "execution_count": 35,
   "metadata": {},
   "outputs": [],
   "source": [
    "params = {}\n",
    "\n",
    "params[\"bands\"] = [\"green\", \"nir\"]\n",
    "\n",
    "params[\"stac_api_endpoint\"] = {\n",
    "    \"url\": {\"value\": \"https://earth-search.aws.element84.com/v1/\"},\n",
    "    \"headers\": [],\n",
    "}\n",
    "\n",
    "params[\"search_request\"] = {\n",
    "    \"limit\": 20,\n",
    "    \"collections\": [\"sentinel-2-l2a\"],\n",
    "    \"datetime_interval\": {\n",
    "        \"start\": {\"value\": \"2021-06-01T00:00:00\"},\n",
    "        \"end\": {\"value\": \"2021-08-01T23:59:59\"},\n",
    "    },\n",
    "    \"bbox\": [-121.399, 39.834, -120.74, 40.472],\n",
    "    \"max-items\": 10\n",
    "}\n",
    "\n",
    "with open(\"params.yaml\", \"w\") as file:\n",
    "    print(yaml.dump(params), file=file)"
   ]
  },
  {
   "cell_type": "markdown",
   "metadata": {},
   "source": [
    "### Application Package execution\n",
    "\n",
    "We use the released application package available here: https://github.com/eoap/zarr-cloud-native-format/releases"
   ]
  },
  {
   "cell_type": "code",
   "execution_count": null,
   "metadata": {},
   "outputs": [
    {
     "ename": "ValidationException",
     "evalue": "Not found: '../app-water-bodies.cwl#water-bodies'",
     "output_type": "error",
     "traceback": [
      "\u001b[31m---------------------------------------------------------------------------\u001b[39m",
      "\u001b[31mValidationException\u001b[39m                       Traceback (most recent call last)",
      "\u001b[36mCell\u001b[39m\u001b[36m \u001b[39m\u001b[32mIn[36]\u001b[39m\u001b[32m, line 15\u001b[39m\n\u001b[32m     12\u001b[39m stream_out = StringIO()\n\u001b[32m     13\u001b[39m stream_err = StringIO()\n\u001b[32m---> \u001b[39m\u001b[32m15\u001b[39m res = \u001b[43mmain\u001b[49m\u001b[43m(\u001b[49m\n\u001b[32m     16\u001b[39m \u001b[43m    \u001b[49m\u001b[43margs\u001b[49m\u001b[43m=\u001b[49m\u001b[43mparsed_args\u001b[49m\u001b[43m,\u001b[49m\n\u001b[32m     17\u001b[39m \u001b[43m    \u001b[49m\u001b[43mstdout\u001b[49m\u001b[43m=\u001b[49m\u001b[43mstream_out\u001b[49m\u001b[43m,\u001b[49m\n\u001b[32m     18\u001b[39m \u001b[43m    \u001b[49m\u001b[43mstderr\u001b[49m\u001b[43m=\u001b[49m\u001b[43mstream_err\u001b[49m\u001b[43m,\u001b[49m\n\u001b[32m     19\u001b[39m \u001b[43m)\u001b[49m\n\u001b[32m     21\u001b[39m \u001b[38;5;28;01massert\u001b[39;00m res == \u001b[32m0\u001b[39m\n",
      "\u001b[36mFile \u001b[39m\u001b[32m~/.local/share/hatch/env/virtual/zarr-cloud-native-format/Cgmo9BVv/zarr-cloud-native-format/lib/python3.13/site-packages/cwltool/main.py:1075\u001b[39m, in \u001b[36mmain\u001b[39m\u001b[34m(argsl, args, job_order_object, stdin, stdout, stderr, versionfunc, logger_handler, custom_schema_callback, executor, loadingContext, runtimeContext, input_required)\u001b[39m\n\u001b[32m   1072\u001b[39m     runtimeContext.prov_host = loadingContext.host_provenance\n\u001b[32m   1073\u001b[39m     runtimeContext.prov_user = loadingContext.user_provenance\n\u001b[32m-> \u001b[39m\u001b[32m1075\u001b[39m uri, tool_file_uri = \u001b[43mresolve_tool_uri\u001b[49m\u001b[43m(\u001b[49m\n\u001b[32m   1076\u001b[39m \u001b[43m    \u001b[49m\u001b[43margs\u001b[49m\u001b[43m.\u001b[49m\u001b[43mworkflow\u001b[49m\u001b[43m,\u001b[49m\n\u001b[32m   1077\u001b[39m \u001b[43m    \u001b[49m\u001b[43mresolver\u001b[49m\u001b[43m=\u001b[49m\u001b[43mloadingContext\u001b[49m\u001b[43m.\u001b[49m\u001b[43mresolver\u001b[49m\u001b[43m,\u001b[49m\n\u001b[32m   1078\u001b[39m \u001b[43m    \u001b[49m\u001b[43mfetcher_constructor\u001b[49m\u001b[43m=\u001b[49m\u001b[43mloadingContext\u001b[49m\u001b[43m.\u001b[49m\u001b[43mfetcher_constructor\u001b[49m\u001b[43m,\u001b[49m\n\u001b[32m   1079\u001b[39m \u001b[43m\u001b[49m\u001b[43m)\u001b[49m\n\u001b[32m   1081\u001b[39m try_again_msg = \u001b[33m\"\u001b[39m\u001b[33m\"\u001b[39m \u001b[38;5;28;01mif\u001b[39;00m args.debug \u001b[38;5;28;01melse\u001b[39;00m \u001b[33m\"\u001b[39m\u001b[33m, try again with --debug for more information\u001b[39m\u001b[33m\"\u001b[39m\n\u001b[32m   1083\u001b[39m \u001b[38;5;28;01mtry\u001b[39;00m:\n",
      "\u001b[36mFile \u001b[39m\u001b[32m~/.local/share/hatch/env/virtual/zarr-cloud-native-format/Cgmo9BVv/zarr-cloud-native-format/lib/python3.13/site-packages/cwltool/load_tool.py:99\u001b[39m, in \u001b[36mresolve_tool_uri\u001b[39m\u001b[34m(argsworkflow, resolver, fetcher_constructor, document_loader)\u001b[39m\n\u001b[32m     96\u001b[39m     uri = resolver(document_loader \u001b[38;5;129;01mor\u001b[39;00m default_loader(fetcher_constructor), argsworkflow)\n\u001b[32m     98\u001b[39m \u001b[38;5;28;01mif\u001b[39;00m uri \u001b[38;5;129;01mis\u001b[39;00m \u001b[38;5;28;01mNone\u001b[39;00m:\n\u001b[32m---> \u001b[39m\u001b[32m99\u001b[39m     \u001b[38;5;28;01mraise\u001b[39;00m ValidationException(\u001b[33m\"\u001b[39m\u001b[33mNot found: \u001b[39m\u001b[33m'\u001b[39m\u001b[38;5;132;01m%s\u001b[39;00m\u001b[33m'\u001b[39m\u001b[33m\"\u001b[39m % argsworkflow)\n\u001b[32m    101\u001b[39m \u001b[38;5;28;01mif\u001b[39;00m argsworkflow != uri:\n\u001b[32m    102\u001b[39m     _logger.info(\u001b[33m\"\u001b[39m\u001b[33mResolved \u001b[39m\u001b[33m'\u001b[39m\u001b[38;5;132;01m%s\u001b[39;00m\u001b[33m'\u001b[39m\u001b[33m to \u001b[39m\u001b[33m'\u001b[39m\u001b[38;5;132;01m%s\u001b[39;00m\u001b[33m'\u001b[39m\u001b[33m\"\u001b[39m, argsworkflow, uri)\n",
      "\u001b[31mValidationException\u001b[39m: Not found: '../app-water-bodies.cwl#water-bodies'"
     ]
    }
   ],
   "source": [
    "\n",
    "parsed_args = argparse.Namespace(\n",
    "    podman=podman,\n",
    "    parallel=False,\n",
    "    validate=False,\n",
    "    debug=False,\n",
    "    outdir=\"./runs\",\n",
    "    quiet=True,\n",
    "    workflow=\"https://github.com/eoap/zarr-cloud-native-format/releases/download/0.3.0/app-water-bodies.0.3.0.cwl#water-bodies\",\n",
    "    job_order=[\"params.yaml\"],\n",
    ")\n",
    "\n",
    "stream_out = StringIO()\n",
    "stream_err = StringIO()\n",
    "\n",
    "res = main(\n",
    "    args=parsed_args,\n",
    "    stdout=stream_out,\n",
    "    stderr=stream_err,\n",
    ")\n",
    "\n",
    "assert res == 0"
   ]
  },
  {
   "cell_type": "markdown",
   "metadata": {},
   "source": [
    "The `stream_out` object contains the cwltool stdout.\n",
    "\n",
    "We can list the results keys with:"
   ]
  },
  {
   "cell_type": "code",
   "execution_count": 5,
   "metadata": {},
   "outputs": [
    {
     "data": {
      "text/plain": [
       "['zarr_stac_catalog', 'stac_catalog']"
      ]
     },
     "execution_count": 5,
     "metadata": {},
     "output_type": "execute_result"
    }
   ],
   "source": [
    "results = json.loads(stream_out.getvalue())\n",
    "\n",
    "list(results.keys())"
   ]
  },
  {
   "cell_type": "markdown",
   "metadata": {},
   "source": [
    "And find the location of the directory containing the STAC Catalog:"
   ]
  },
  {
   "cell_type": "code",
   "execution_count": 6,
   "metadata": {},
   "outputs": [
    {
     "data": {
      "text/plain": [
       "'file:///data/work/github/eoap/zarr-cloud-native-format/docs/runs/pycm4gtj'"
      ]
     },
     "execution_count": 6,
     "metadata": {},
     "output_type": "execute_result"
    }
   ],
   "source": [
    "results[\"zarr_stac_catalog\"][\"location\"]"
   ]
  },
  {
   "cell_type": "markdown",
   "metadata": {},
   "source": [
    "## Part 2 - Inspect Application Package results\n",
    "\n",
    "Read the STAC Catalog containing the zarr result"
   ]
  },
  {
   "cell_type": "markdown",
   "metadata": {},
   "source": [
    "### Modules"
   ]
  },
  {
   "cell_type": "code",
   "execution_count": 7,
   "metadata": {},
   "outputs": [],
   "source": [
    "import pystac\n",
    "import os\n",
    "from pystac.extensions.datacube import DatacubeExtension\n"
   ]
  },
  {
   "cell_type": "markdown",
   "metadata": {},
   "source": [
    "### Inpect the STAC Item metadata"
   ]
  },
  {
   "cell_type": "code",
   "execution_count": 8,
   "metadata": {},
   "outputs": [],
   "source": [
    "cat = pystac.Catalog.from_file(\n",
    "    os.path.join(\n",
    "        results[\"zarr_stac_catalog\"][\"location\"].replace(\"file://\", \"\"), \"catalog.json\"\n",
    "    )\n",
    ")"
   ]
  },
  {
   "cell_type": "code",
   "execution_count": 9,
   "metadata": {},
   "outputs": [
    {
     "name": "stdout",
     "output_type": "stream",
     "text": [
      "* <Catalog id=water-bodies>\n",
      "    * <Collection id=water-bodies>\n"
     ]
    }
   ],
   "source": [
    "cat.describe()"
   ]
  },
  {
   "cell_type": "code",
   "execution_count": 11,
   "metadata": {},
   "outputs": [],
   "source": [
    "collection = cat.get_child(\"water-bodies\")"
   ]
  },
  {
   "cell_type": "code",
   "execution_count": 12,
   "metadata": {},
   "outputs": [
    {
     "data": {
      "text/html": [
       "&lt;Asset href=result.zarr&gt;"
      ],
      "text/plain": [
       "<Asset href=result.zarr>"
      ]
     },
     "execution_count": 12,
     "metadata": {},
     "output_type": "execute_result"
    }
   ],
   "source": [
    "zarr_asset = collection.get_assets()[\"data\"]\n",
    "\n",
    "zarr_asset"
   ]
  },
  {
   "cell_type": "markdown",
   "metadata": {},
   "source": [
    "Inspect the datacube extension metadata:"
   ]
  },
  {
   "cell_type": "code",
   "execution_count": 13,
   "metadata": {},
   "outputs": [],
   "source": [
    "dc_collection = DatacubeExtension.ext(collection)"
   ]
  },
  {
   "cell_type": "markdown",
   "metadata": {},
   "source": [
    "* List and describe the dimensions"
   ]
  },
  {
   "cell_type": "code",
   "execution_count": 14,
   "metadata": {},
   "outputs": [
    {
     "data": {
      "text/plain": [
       "{'x': <pystac.extensions.datacube.HorizontalSpatialDimension at 0x76074c57b230>,\n",
       " 'y': <pystac.extensions.datacube.HorizontalSpatialDimension at 0x76074c50afd0>,\n",
       " 'time': <pystac.extensions.datacube.TemporalDimension at 0x76074c57af90>}"
      ]
     },
     "execution_count": 14,
     "metadata": {},
     "output_type": "execute_result"
    }
   ],
   "source": [
    "dc_collection.dimensions"
   ]
  },
  {
   "cell_type": "code",
   "execution_count": null,
   "metadata": {},
   "outputs": [
    {
     "name": "stdout",
     "output_type": "stream",
     "text": [
      "x {'type': 'spatial', 'axis': 'x', 'extent': [636995.0, 691585.0], 'reference_system': 'epsg:32610'}\n",
      "y {'type': 'spatial', 'axis': 'y', 'extent': [4410555.0, 4482595.0], 'reference_system': 'epsg:32610'}\n",
      "time {'type': 'temporal', 'extent': ['2021-06-23T19:03:23.000000000', '2021-07-28T19:03:25.000000000']}\n"
     ]
    }
   ],
   "source": [
    "for key, value in dc_collection.dimensions.items():\n",
    "\n",
    "    print(key, dc_collection.dimensions[key].to_dict())"
   ]
  },
  {
   "cell_type": "markdown",
   "metadata": {},
   "source": [
    "* List and describe the variables"
   ]
  },
  {
   "cell_type": "code",
   "execution_count": 16,
   "metadata": {},
   "outputs": [
    {
     "data": {
      "text/plain": [
       "{'data': <pystac.extensions.datacube.Variable at 0x76074c50b250>}"
      ]
     },
     "execution_count": 16,
     "metadata": {},
     "output_type": "execute_result"
    }
   ],
   "source": [
    "dc_collection.variables"
   ]
  },
  {
   "cell_type": "code",
   "execution_count": 17,
   "metadata": {},
   "outputs": [
    {
     "name": "stdout",
     "output_type": "stream",
     "text": [
      "data {'type': 'bands', 'name': 'data', 'description': 'detected water bodies', 'dimensions': ['y', 'x', 'time'], 'chunks': [512, 512, 1]}\n"
     ]
    }
   ],
   "source": [
    "for key, value in dc_collection.variables.items():\n",
    "    print(key, dc_collection.variables[key].to_dict())"
   ]
  },
  {
   "cell_type": "code",
   "execution_count": 18,
   "metadata": {},
   "outputs": [
    {
     "data": {
      "text/plain": [
       "{'type': 'bands',\n",
       " 'name': 'data',\n",
       " 'description': 'detected water bodies',\n",
       " 'dimensions': ['y', 'x', 'time'],\n",
       " 'chunks': [512, 512, 1]}"
      ]
     },
     "execution_count": 18,
     "metadata": {},
     "output_type": "execute_result"
    }
   ],
   "source": [
    "dc_collection.variables[\"data\"].to_dict()"
   ]
  },
  {
   "cell_type": "markdown",
   "metadata": {},
   "source": [
    "## Part 3 - Inspect the zarr result\n",
    "\n",
    "Open the Zarr result"
   ]
  },
  {
   "cell_type": "markdown",
   "metadata": {},
   "source": [
    "### Modules"
   ]
  },
  {
   "cell_type": "code",
   "execution_count": 22,
   "metadata": {},
   "outputs": [],
   "source": [
    "import xarray as xr"
   ]
  },
  {
   "cell_type": "code",
   "execution_count": 23,
   "metadata": {},
   "outputs": [
    {
     "data": {
      "text/plain": [
       "{'consolidated': True}"
      ]
     },
     "execution_count": 23,
     "metadata": {},
     "output_type": "execute_result"
    }
   ],
   "source": [
    "zarr_asset.extra_fields[\"xarray:open_kwargs\"]"
   ]
  },
  {
   "cell_type": "markdown",
   "metadata": {},
   "source": [
    "### Open the Zarr result with xarray"
   ]
  },
  {
   "cell_type": "code",
   "execution_count": 24,
   "metadata": {},
   "outputs": [],
   "source": [
    "water_bodies = xr.open_zarr(zarr_asset.get_absolute_href(), **zarr_asset.extra_fields[\"xarray:open_kwargs\"])\n"
   ]
  },
  {
   "cell_type": "code",
   "execution_count": 25,
   "metadata": {},
   "outputs": [
    {
     "data": {
      "text/html": [
       "<pre>&lt;xarray.Dataset&gt; Size: 157MB\n",
       "Dimensions:      (time: 4, y: 7205, x: 5460)\n",
       "Coordinates:\n",
       "  * time         (time) datetime64[ns] 32B 2021-07-18T19:03:25.940000 ... 202...\n",
       "  * x            (x) float64 44kB 6.37e+05 6.37e+05 ... 6.916e+05 6.916e+05\n",
       "  * y            (y) float64 58kB 4.483e+06 4.483e+06 ... 4.411e+06 4.411e+06\n",
       "Data variables:\n",
       "    data         (time, y, x) uint8 157MB dask.array&lt;chunksize=(1, 512, 512), meta=np.ndarray&gt;\n",
       "    spatial_ref  int32 4B ...</pre>"
      ],
      "text/plain": [
       "<xarray.Dataset> Size: 157MB\n",
       "Dimensions:      (time: 4, y: 7205, x: 5460)\n",
       "Coordinates:\n",
       "  * time         (time) datetime64[ns] 32B 2021-07-18T19:03:25.940000 ... 202...\n",
       "  * x            (x) float64 44kB 6.37e+05 6.37e+05 ... 6.916e+05 6.916e+05\n",
       "  * y            (y) float64 58kB 4.483e+06 4.483e+06 ... 4.411e+06 4.411e+06\n",
       "Data variables:\n",
       "    data         (time, y, x) uint8 157MB dask.array<chunksize=(1, 512, 512), meta=np.ndarray>\n",
       "    spatial_ref  int32 4B ..."
      ]
     },
     "execution_count": 25,
     "metadata": {},
     "output_type": "execute_result"
    }
   ],
   "source": [
    "xr.set_options(display_style=\"text\")\n",
    "\n",
    "water_bodies"
   ]
  },
  {
   "cell_type": "markdown",
   "metadata": {},
   "source": [
    "* Check the geospatial metadata"
   ]
  },
  {
   "cell_type": "code",
   "execution_count": 26,
   "metadata": {},
   "outputs": [
    {
     "data": {
      "text/html": [
       "<pre>&lt;xarray.DataArray &#x27;spatial_ref&#x27; ()&gt; Size: 4B\n",
       "[1 values with dtype=int32]\n",
       "Attributes: (12/18)\n",
       "    GeoTransform:                      636990 10 0 4482600 0 -10\n",
       "    crs_wkt:                           PROJCRS[&quot;WGS 84 / UTM zone 10N&quot;,BASEGE...\n",
       "    false_easting:                     500000.0\n",
       "    false_northing:                    0.0\n",
       "    geographic_crs_name:               WGS 84\n",
       "    grid_mapping_name:                 transverse_mercator\n",
       "    ...                                ...\n",
       "    projected_crs_name:                WGS 84 / UTM zone 10N\n",
       "    reference_ellipsoid_name:          WGS 84\n",
       "    scale_factor_at_central_meridian:  0.9996\n",
       "    semi_major_axis:                   6378137.0\n",
       "    semi_minor_axis:                   6356752.314245179\n",
       "    spatial_ref:                       PROJCRS[&quot;WGS 84 / UTM zone 10N&quot;,BASEGE...</pre>"
      ],
      "text/plain": [
       "<xarray.DataArray 'spatial_ref' ()> Size: 4B\n",
       "[1 values with dtype=int32]\n",
       "Attributes: (12/18)\n",
       "    GeoTransform:                      636990 10 0 4482600 0 -10\n",
       "    crs_wkt:                           PROJCRS[\"WGS 84 / UTM zone 10N\",BASEGE...\n",
       "    false_easting:                     500000.0\n",
       "    false_northing:                    0.0\n",
       "    geographic_crs_name:               WGS 84\n",
       "    grid_mapping_name:                 transverse_mercator\n",
       "    ...                                ...\n",
       "    projected_crs_name:                WGS 84 / UTM zone 10N\n",
       "    reference_ellipsoid_name:          WGS 84\n",
       "    scale_factor_at_central_meridian:  0.9996\n",
       "    semi_major_axis:                   6378137.0\n",
       "    semi_minor_axis:                   6356752.314245179\n",
       "    spatial_ref:                       PROJCRS[\"WGS 84 / UTM zone 10N\",BASEGE..."
      ]
     },
     "execution_count": 26,
     "metadata": {},
     "output_type": "execute_result"
    }
   ],
   "source": [
    "water_bodies.data_vars[\"spatial_ref\"]"
   ]
  },
  {
   "cell_type": "code",
   "execution_count": 27,
   "metadata": {},
   "outputs": [
    {
     "data": {
      "text/plain": [
       "'32610'"
      ]
     },
     "execution_count": 27,
     "metadata": {},
     "output_type": "execute_result"
    }
   ],
   "source": [
    "str(water_bodies.data_vars[\"spatial_ref\"].values)"
   ]
  },
  {
   "cell_type": "markdown",
   "metadata": {},
   "source": [
    "* Inspect the Zarr coordinates"
   ]
  },
  {
   "cell_type": "code",
   "execution_count": 28,
   "metadata": {},
   "outputs": [
    {
     "data": {
      "text/plain": [
       "Coordinates:\n",
       "  * time     (time) datetime64[ns] 32B 2021-07-18T19:03:25.940000 ... 2021-07...\n",
       "  * x        (x) float64 44kB 6.37e+05 6.37e+05 6.37e+05 ... 6.916e+05 6.916e+05\n",
       "  * y        (y) float64 58kB 4.483e+06 4.483e+06 ... 4.411e+06 4.411e+06"
      ]
     },
     "execution_count": 28,
     "metadata": {},
     "output_type": "execute_result"
    }
   ],
   "source": [
    "water_bodies.coords"
   ]
  },
  {
   "cell_type": "markdown",
   "metadata": {},
   "source": [
    "* List the values of the `time` coordinate:"
   ]
  },
  {
   "cell_type": "code",
   "execution_count": 29,
   "metadata": {},
   "outputs": [
    {
     "data": {
      "text/plain": [
       "array(['2021-07-18T19:03:25.940000000', '2021-07-23T19:03:24.661000000',\n",
       "       '2021-07-28T19:03:25.962000000', '2021-07-28T19:03:25.963000000'],\n",
       "      dtype='datetime64[ns]')"
      ]
     },
     "execution_count": 29,
     "metadata": {},
     "output_type": "execute_result"
    }
   ],
   "source": [
    "water_bodies.coords[\"time\"].values"
   ]
  },
  {
   "cell_type": "markdown",
   "metadata": {},
   "source": [
    "* Plot the water bodies detected on '2021-07-13T19:03:24.000000000'"
   ]
  },
  {
   "cell_type": "code",
   "execution_count": null,
   "metadata": {},
   "outputs": [
    {
     "data": {
      "image/png": "[encoded data removed]",
      "text/plain": [
       "<Figure size 900x400 with 3 Axes>"
      ]
     },
     "metadata": {},
     "output_type": "display_data"
    }
   ],
   "source": [
    "_ = (\n",
    "    water_bodies.isel(time=3)\n",
    "    .to_array(\"data\")\n",
    "    .plot.imshow(\n",
    "        col=\"data\",\n",
    "        size=4,\n",
    "        vmin=0,\n",
    "        vmax=1,\n",
    "    )\n",
    ")"
   ]
  },
  {
   "cell_type": "code",
   "execution_count": null,
   "metadata": {},
   "outputs": [],
   "source": []
  }
 ],
 "metadata": {
  "kernelspec": {
   "display_name": "zarr-cloud-native-format (3.13.1)",
   "language": "python",
   "name": "python3"
  },
  "language_info": {
   "codemirror_mode": {
    "name": "ipython",
    "version": 3
   },
   "file_extension": ".py",
   "mimetype": "text/x-python",
   "name": "python",
   "nbconvert_exporter": "python",
   "pygments_lexer": "ipython3",
   "version": "3.13.1"
  }
 },
 "nbformat": 4,
 "nbformat_minor": 2
}
