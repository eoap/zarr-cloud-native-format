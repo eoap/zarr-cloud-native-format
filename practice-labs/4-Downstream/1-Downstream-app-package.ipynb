{
 "cells": [
  {
   "cell_type": "markdown",
   "metadata": {},
   "source": [
    "# Downstream application package\n",
    "\n",
    "Invoke the downstream application package that calculates the mean.\n",
    "\n",
    "This notebook is linked to: https://eoap.github.io/zarr-cloud-native-format/cwl-workflow/downstream/\n",
    "\n"
   ]
  },
  {
   "cell_type": "markdown",
   "metadata": {},
   "source": [
    "## Setup"
   ]
  },
  {
   "cell_type": "code",
   "execution_count": 15,
   "metadata": {
    "vscode": {
     "languageId": "shellscript"
    }
   },
   "outputs": [],
   "source": [
    "export WORKSPACE=/workspace/zarr-cloud-native-format\n",
    "export RUNTIME=${WORKSPACE}/runs\n",
    "mkdir -p ${RUNTIME}\n",
    "cd ${RUNTIME}\n",
    "\n",
    "curl -L https://github.com/eoap/zarr-cloud-native-format/releases/download/0.3.0/app-water-bodies.0.3.0.cwl > ${WORKSPACE}/cwl-workflow/app-water-bodies.cwl 2> /dev/null"
   ]
  },
  {
   "cell_type": "markdown",
   "metadata": {},
   "source": [
    "## Run the discovery step\n",
    "\n",
    "Inspect and use `cwltool` to run the CommandLineTool definition:\n",
    "\n",
    "The CWL document below shows the `stac-client search` step named `discovey`:"
   ]
  },
  {
   "cell_type": "code",
   "execution_count": 16,
   "metadata": {
    "vscode": {
     "languageId": "shellscript"
    }
   },
   "outputs": [
    {
     "name": "stdout",
     "output_type": "stream",
     "text": [
      "\u001b[36mlabel\u001b[0m:\u001b[32m Discovery Step\u001b[0m\n",
      "\u001b[32m\u001b[0m\u001b[36min\u001b[0m:\u001b[36m\u001b[0m\n",
      "\u001b[36m  api_endpoint\u001b[0m:\u001b[32m stac_api_endpoint\u001b[0m\n",
      "\u001b[32m  \u001b[0m\u001b[36msearch_request\u001b[0m:\u001b[32m search_request\u001b[0m\n",
      "\u001b[32m\u001b[0m\u001b[36mrun\u001b[0m:\u001b[32m https://github.com/eoap/schemas/releases/download/0.2.0/stac-api-client.0.2.0.cwl\u001b[0m\n",
      "\u001b[32m\u001b[0m\u001b[36mout\u001b[0m:\n",
      "  -\u001b[32m search_output\u001b[0m\n"
     ]
    }
   ],
   "source": [
    "cat ${WORKSPACE}/cwl-workflow/app-water-bodies.cwl | yq e '.[\"$graph\"][0].steps.discovery' -"
   ]
  },
  {
   "cell_type": "markdown",
   "metadata": {},
   "source": [
    "We can extract inspect the CWL with:"
   ]
  },
  {
   "cell_type": "code",
   "execution_count": 17,
   "metadata": {
    "vscode": {
     "languageId": "shellscript"
    }
   },
   "outputs": [
    {
     "name": "stdout",
     "output_type": "stream",
     "text": [
      "  % Total    % Received % Xferd  Average Speed   Time    Time     Time  Current\n",
      "                                 Dload  Upload   Total   Spent    Left  Speed\n",
      "  0     0    0     0    0     0      0      0 --:--:-- --:--:-- --:--:--     0\n",
      "100  2983  100  2983    0     0  11481      0 --:--:-- --:--:-- --:--:-- 11481\n",
      "\u001b[36mcwlVersion\u001b[0m:\u001b[32m v1.2\u001b[0m\n",
      "\u001b[32m\u001b[0m\u001b[36mclass\u001b[0m:\u001b[32m CommandLineTool\u001b[0m\n",
      "\u001b[32m\u001b[0m\u001b[36mid\u001b[0m:\u001b[32m stac-client\u001b[0m\n",
      "\u001b[32m\u001b[0m\u001b[36mlabel\u001b[0m:\u001b[32m STAC Client Tool\u001b[0m\n",
      "\u001b[32m\u001b[0m\u001b[36mdoc\u001b[0m: |\n",
      "\u001b[32m  This tool uses the STAC Client to search for STAC items\u001b[0m\n",
      "\u001b[32m\u001b[0m\u001b[36mhints\u001b[0m:\n",
      "  -\u001b[36m class\u001b[0m:\u001b[32m DockerRequirement\u001b[0m\n",
      "\u001b[32m    \u001b[0m\u001b[36mdockerPull\u001b[0m:\u001b[32m ghcr.io/eoap/schemas/stac-api-client@sha256:a7e346f704836d07f5dabc6b29ee3359e7253f4a294d74f3899973b8920da6f7\u001b[0m\n",
      "\u001b[32m\u001b[0m\u001b[36mrequirements\u001b[0m:\n",
      "  -\u001b[36m class\u001b[0m:\u001b[32m InlineJavascriptRequirement\u001b[0m\n",
      "\u001b[32m  \u001b[0m-\u001b[36m class\u001b[0m:\u001b[32m NetworkAccess\u001b[0m\n",
      "\u001b[32m    \u001b[0m\u001b[36mnetworkAccess\u001b[0m:\u001b[95m true\u001b[0m\n",
      "\u001b[95m  \u001b[0m-\u001b[36m class\u001b[0m:\u001b[32m SchemaDefRequirement\u001b[0m\n",
      "\u001b[32m    \u001b[0m\u001b[36mtypes\u001b[0m:\n",
      "      -\u001b[36m $import\u001b[0m:\u001b[32m https://raw.githubusercontent.com/eoap/schemas/main/string_format.yaml\u001b[0m\n",
      "\u001b[32m      \u001b[0m-\u001b[36m $import\u001b[0m:\u001b[32m https://raw.githubusercontent.com/eoap/schemas/main/geojson.yaml\u001b[0m\n",
      "\u001b[32m      \u001b[0m-\u001b[36m $import\u001b[0m: |-\n",
      "\u001b[32m          https://raw.githubusercontent.com/eoap/schemas/main/experimental/api-endpoint.yaml\u001b[0m\n",
      "\u001b[32m      \u001b[0m-\u001b[36m $import\u001b[0m:\u001b[32m https://raw.githubusercontent.com/eoap/schemas/main/experimental/discovery.yaml\u001b[0m\n",
      "\u001b[32m\u001b[0m\u001b[36minputs\u001b[0m:\u001b[36m\u001b[0m\n",
      "\u001b[36m  api_endpoint\u001b[0m:\u001b[36m\u001b[0m\n",
      "\u001b[36m    label\u001b[0m:\u001b[32m STAC API endpoint\u001b[0m\n",
      "\u001b[32m    \u001b[0m\u001b[36mdoc\u001b[0m:\u001b[32m STAC API endpoint for Landsat-9 data\u001b[0m\n",
      "\u001b[32m    \u001b[0m\u001b[36mtype\u001b[0m: |-\n",
      "\u001b[32m      https://raw.githubusercontent.com/eoap/schemas/main/experimental/api-endpoint.yaml#APIEndpoint\u001b[0m\n",
      "\u001b[32m  \u001b[0m\u001b[36msearch_request\u001b[0m:\u001b[36m\u001b[0m\n",
      "\u001b[36m    label\u001b[0m:\u001b[32m STAC API settings\u001b[0m\n",
      "\u001b[32m    \u001b[0m\u001b[36mdoc\u001b[0m:\u001b[32m STAC API settings for Landsat-9 data\u001b[0m\n",
      "\u001b[32m    \u001b[0m\u001b[36mtype\u001b[0m: |-\n",
      "\u001b[32m      https://raw.githubusercontent.com/eoap/schemas/main/experimental/discovery.yaml#STACSearchSettings\u001b[0m\n",
      "\u001b[32m\u001b[0m\u001b[36moutputs\u001b[0m:\u001b[36m\u001b[0m\n",
      "\u001b[36m  search_output\u001b[0m:\u001b[36m\u001b[0m\n",
      "\u001b[36m    type\u001b[0m:\u001b[32m File\u001b[0m\n",
      "\u001b[32m    \u001b[0m\u001b[36moutputBinding\u001b[0m:\u001b[36m\u001b[0m\n",
      "\u001b[36m      glob\u001b[0m:\u001b[32m discovery-output.json\u001b[0m\n",
      "\u001b[32m\u001b[0m\u001b[36mbaseCommand\u001b[0m: [\u001b[32m\"stac-client\"\u001b[0m]\u001b[36m\u001b[0m\n",
      "\u001b[36marguments\u001b[0m:\n",
      "  -\u001b[32m \"search\"\u001b[0m\n",
      "  -\u001b[32m $(inputs.api_endpoint.url.value)\u001b[0m\n",
      "\u001b[32m  \u001b[0m-\u001b[32m ${ const args = []; const collections = inputs.search_request.collections; args.push('--collections', collections.join(\",\")); return args; }\u001b[0m\n",
      "\u001b[32m  \u001b[0m-\u001b[32m ${ const args = []; const bbox = inputs.search_request?.bbox; if (Array.isArray(bbox) && bbox.length >= 4) { args.push('--bbox', ...bbox.map(String)); } return args; }\u001b[0m\n",
      "\u001b[32m  \u001b[0m-\u001b[32m ${ const args = []; const limit = inputs.search_request?.limit; args.push(\"--limit\", (limit ?? 10).toString()); return args; }\u001b[0m\n",
      "\u001b[32m  \u001b[0m-\u001b[32m ${ const maxItems = inputs.search_request?.['max-items']; return ['--max-items', (maxItems ?? 20).toString()]; }\u001b[0m\n",
      "\u001b[32m  \u001b[0m-\u001b[32m ${ const args = []; const filter = inputs.search_request?.filter; const filterLang = inputs.search_request?.['filter-lang']; if (filterLang) { args.push('--filter-lang', filterLang); } if (filter) { args.push('--filter', JSON.stringify(filter)); } return args; }\u001b[0m\n",
      "\u001b[32m  \u001b[0m-\u001b[32m ${ const datetime = inputs.search_request?.datetime; const datetimeInterval = inputs.search_request?.datetime_interval; if (datetime) { return ['--datetime', datetime]; } else if (datetimeInterval) { const start = datetimeInterval.start?.value || '..'; const end = datetimeInterval.end?.value || '..'; return ['--datetime', `${start}/${end}`]; } return []; }\u001b[0m\n",
      "\u001b[32m  \u001b[0m-\u001b[32m ${ const ids = inputs.search_request?.ids; const args = []; if (Array.isArray(ids) && ids.length > 0) { args.push('--ids', ...ids.map(String)); } return args; }\u001b[0m\n",
      "\u001b[32m  \u001b[0m-\u001b[32m ${ const intersects = inputs.search_request?.intersects; if (intersects) { return ['--intersects', JSON.stringify(intersects)]; } return []; }\u001b[0m\n",
      "\u001b[32m  \u001b[0m-\u001b[32m --save\u001b[0m\n",
      "\u001b[32m  \u001b[0m-\u001b[32m discovery-output.json\u001b[0m\n"
     ]
    }
   ],
   "source": [
    "\n",
    "cwl_url=$(cat ${WORKSPACE}/cwl-workflow/app-water-bodies.cwl | yq e '.[\"$graph\"][0].steps.discovery.run' -)\n",
    "curl -L ${cwl_url} | yq -"
   ]
  },
  {
   "cell_type": "markdown",
   "metadata": {},
   "source": [
    "Run the CWL description for the `stac-client search` command line tool wrapped in a CWL CommandLineTool description:"
   ]
  },
  {
   "cell_type": "code",
   "execution_count": 25,
   "metadata": {
    "vscode": {
     "languageId": "shellscript"
    }
   },
   "outputs": [
    {
     "name": "stdout",
     "output_type": "stream",
     "text": [
      "\u001b[36mbands\u001b[0m:\n",
      "  -\u001b[32m green\u001b[0m\n",
      "\u001b[32m  \u001b[0m-\u001b[32m nir\u001b[0m\n",
      "\u001b[32m\u001b[0m\u001b[36msearch_request\u001b[0m:\u001b[36m\u001b[0m\n",
      "\u001b[36m  bbox\u001b[0m:\n",
      "    -\u001b[95m -121.399\u001b[0m\n",
      "\u001b[95m    \u001b[0m-\u001b[95m 39.834\u001b[0m\n",
      "\u001b[95m    \u001b[0m-\u001b[95m -120.74\u001b[0m\n",
      "\u001b[95m    \u001b[0m-\u001b[95m 40.472\u001b[0m\n",
      "\u001b[95m  \u001b[0m\u001b[36mcollections\u001b[0m:\n",
      "    -\u001b[32m sentinel-2-l2a\u001b[0m\n",
      "\u001b[32m  \u001b[0m\u001b[36mdatetime_interval\u001b[0m:\u001b[36m\u001b[0m\n",
      "\u001b[36m    end\u001b[0m:\u001b[36m\u001b[0m\n",
      "\u001b[36m      value\u001b[0m:\u001b[32m '2021-08-01T23:59:59'\u001b[0m\u001b[36m\u001b[0m\n",
      "\u001b[36m    start\u001b[0m:\u001b[36m\u001b[0m\n",
      "\u001b[36m      value\u001b[0m:\u001b[32m '2021-06-01T00:00:00'\u001b[0m\u001b[36m\u001b[0m\n",
      "\u001b[36m  limit\u001b[0m:\u001b[95m 20\u001b[0m\n",
      "\u001b[95m  \u001b[0m\u001b[36mmax-items\u001b[0m:\u001b[95m 10\u001b[0m\n",
      "\u001b[95m\u001b[0m\u001b[36mapi_endpoint\u001b[0m:\u001b[36m\u001b[0m\n",
      "\u001b[36m  headers\u001b[0m: []\u001b[36m\u001b[0m\n",
      "\u001b[36m  url\u001b[0m:\u001b[36m\u001b[0m\n",
      "\u001b[36m    value\u001b[0m:\u001b[32m https://earth-search.aws.element84.com/v1/\u001b[0m\n"
     ]
    }
   ],
   "source": [
    "cat <<'EOF' > discovery-params.yaml\n",
    "bands:\n",
    "- green\n",
    "- nir\n",
    "search_request:\n",
    "  bbox:\n",
    "  - -121.399\n",
    "  - 39.834\n",
    "  - -120.74\n",
    "  - 40.472\n",
    "  collections:\n",
    "  - sentinel-2-l2a\n",
    "  datetime_interval:\n",
    "    end:\n",
    "      value: '2021-08-01T23:59:59'\n",
    "    start:\n",
    "      value: '2021-06-01T00:00:00'\n",
    "  limit: 20\n",
    "  max-items: 10\n",
    "api_endpoint:\n",
    "  headers: []\n",
    "  url:\n",
    "    value: https://earth-search.aws.element84.com/v1/\n",
    "EOF\n",
    "\n",
    "cat discovery-params.yaml | yq ."
   ]
  },
  {
   "cell_type": "code",
   "execution_count": 20,
   "metadata": {
    "vscode": {
     "languageId": "shellscript"
    }
   },
   "outputs": [],
   "source": [
    "\n",
    "\n",
    "cwltool \\\n",
    "    --podman \\\n",
    "    --outdir ${WORKSPACE}/runs \\\n",
    "    ${cwl_url} \\\n",
    "    discovery-params.yaml > discovery-results.json 2> discovery.log"
   ]
  },
  {
   "cell_type": "markdown",
   "metadata": {},
   "source": [
    "Let's look at the content of the stderr:"
   ]
  },
  {
   "cell_type": "code",
   "execution_count": 21,
   "metadata": {
    "vscode": {
     "languageId": "shellscript"
    }
   },
   "outputs": [
    {
     "name": "stdout",
     "output_type": "stream",
     "text": [
      "\u001b[1;30mINFO\u001b[0m /home/fbrito/.local/bin/cwltool 3.1.20250110105449\n",
      "\u001b[1;30mINFO\u001b[0m [job stac-client] /tmp/5qji6z8j$ podman \\\n",
      "    run \\\n",
      "    -i \\\n",
      "    --userns=keep-id \\\n",
      "    --mount=type=bind,source=/tmp/5qji6z8j,target=/tdXtcm \\\n",
      "    --mount=type=bind,source=/tmp/hhdgd1r_,target=/tmp \\\n",
      "    --workdir=/tdXtcm \\\n",
      "    --read-only=true \\\n",
      "    --user=1000:1000 \\\n",
      "    --rm \\\n",
      "    --cidfile=/tmp/bned5l_r/20250915142430-967202.cid \\\n",
      "    --env=TMPDIR=/tmp \\\n",
      "    --env=HOME=/tdXtcm \\\n",
      "    ghcr.io/eoap/schemas/stac-api-client@sha256:a7e346f704836d07f5dabc6b29ee3359e7253f4a294d74f3899973b8920da6f7 \\\n",
      "    stac-client \\\n",
      "    search \\\n",
      "    https://earth-search.aws.element84.com/v1/ \\\n",
      "    --collections \\\n",
      "    sentinel-2-l2a \\\n",
      "    --bbox \\\n",
      "    -121.399 \\\n",
      "    39.834 \\\n",
      "    -120.74 \\\n",
      "    40.472 \\\n",
      "    --limit \\\n",
      "    20 \\\n",
      "    --max-items \\\n",
      "    10 \\\n",
      "    --datetime \\\n",
      "    2021-06-01T00:00:00/2021-08-01T23:59:59 \\\n",
      "    --save \\\n",
      "    discovery-output.json\n",
      "\u001b[1;30mINFO\u001b[0m [job stac-client] Max memory used: 21MiB\n",
      "\u001b[1;30mINFO\u001b[0m [job stac-client] completed success\n",
      "\u001b[1;30mINFO\u001b[0m Final process status is success\n"
     ]
    }
   ],
   "source": [
    "cat discovery.log | egrep -v \"WARNING|JSHINT\""
   ]
  },
  {
   "cell_type": "markdown",
   "metadata": {},
   "source": [
    "Let's inspect the stdout produced. The `output` block with the id `search_output` of the CWL description is a file:"
   ]
  },
  {
   "cell_type": "code",
   "execution_count": 23,
   "metadata": {
    "vscode": {
     "languageId": "shellscript"
    }
   },
   "outputs": [
    {
     "name": "stdout",
     "output_type": "stream",
     "text": [
      "\u001b[1;39m{\n",
      "  \u001b[0m\u001b[1;34m\"search_output\"\u001b[0m\u001b[1;39m: \u001b[0m\u001b[1;39m{\n",
      "    \u001b[0m\u001b[1;34m\"location\"\u001b[0m\u001b[1;39m: \u001b[0m\u001b[0;32m\"file:///workspace/zarr-cloud-native-format/runs/discovery-output.json\"\u001b[0m\u001b[1;39m,\n",
      "    \u001b[0m\u001b[1;34m\"basename\"\u001b[0m\u001b[1;39m: \u001b[0m\u001b[0;32m\"discovery-output.json\"\u001b[0m\u001b[1;39m,\n",
      "    \u001b[0m\u001b[1;34m\"class\"\u001b[0m\u001b[1;39m: \u001b[0m\u001b[0;32m\"File\"\u001b[0m\u001b[1;39m,\n",
      "    \u001b[0m\u001b[1;34m\"checksum\"\u001b[0m\u001b[1;39m: \u001b[0m\u001b[0;32m\"sha1$1a8bf9627011fd2da241e6ed5f0d66e75f9a9ed9\"\u001b[0m\u001b[1;39m,\n",
      "    \u001b[0m\u001b[1;34m\"size\"\u001b[0m\u001b[1;39m: \u001b[0m\u001b[0;39m229580\u001b[0m\u001b[1;39m,\n",
      "    \u001b[0m\u001b[1;34m\"path\"\u001b[0m\u001b[1;39m: \u001b[0m\u001b[0;32m\"/workspace/zarr-cloud-native-format/runs/discovery-output.json\"\u001b[0m\u001b[1;39m\n",
      "  \u001b[1;39m}\u001b[0m\u001b[1;39m\n",
      "\u001b[1;39m}\u001b[0m\n"
     ]
    }
   ],
   "source": [
    "cat discovery-results.json | jq . -"
   ]
  },
  {
   "cell_type": "markdown",
   "metadata": {},
   "source": [
    "List the discovered STAC Items `id`s:"
   ]
  },
  {
   "cell_type": "code",
   "execution_count": 24,
   "metadata": {
    "vscode": {
     "languageId": "shellscript"
    }
   },
   "outputs": [
    {
     "name": "stdout",
     "output_type": "stream",
     "text": [
      "S2A_10TFK_20210728_0_L2A\n",
      "S2A_10TFK_20210728_1_L2A\n",
      "S2B_10TFK_20210723_1_L2A\n",
      "S2B_10TFK_20210723_0_L2A\n",
      "S2A_10TFK_20210718_0_L2A\n",
      "S2B_10TFK_20210713_1_L2A\n",
      "S2B_10TFK_20210713_0_L2A\n",
      "S2A_10TFK_20210708_0_L2A\n",
      "S2A_10TFK_20210708_1_L2A\n",
      "S2A_10TFK_20210628_0_L2A\n"
     ]
    }
   ],
   "source": [
    "cat $( cat discovery-results.json | jq -r .search_output.path - ) | jq -r .features[].id -"
   ]
  },
  {
   "cell_type": "code",
   "execution_count": null,
   "metadata": {
    "vscode": {
     "languageId": "shellscript"
    }
   },
   "outputs": [],
   "source": []
  }
 ],
 "metadata": {
  "kernelspec": {
   "display_name": "Bash",
   "language": "bash",
   "name": "bash"
  },
  "language_info": {
   "codemirror_mode": "shell",
   "file_extension": ".sh",
   "mimetype": "text/x-sh",
   "name": "bash"
  }
 },
 "nbformat": 4,
 "nbformat_minor": 2
}
