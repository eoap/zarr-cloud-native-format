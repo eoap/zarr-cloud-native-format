{
 "cells": [
  {
   "cell_type": "markdown",
   "id": "6fbab743",
   "metadata": {},
   "source": [
    "# Producer\n",
    "\n",
    "Application Package to produce a Zarr store with detected water bodies described as a STAC Collection including the STAC Datacube extension.\n"
   ]
  },
  {
   "cell_type": "markdown",
   "id": "6b9d29e8",
   "metadata": {},
   "source": []
  }
 ],
 "metadata": {
  "language_info": {
   "name": "python"
  }
 },
 "nbformat": 4,
 "nbformat_minor": 5
}
