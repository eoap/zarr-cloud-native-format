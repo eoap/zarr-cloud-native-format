{
 "cells": [
  {
   "cell_type": "markdown",
   "metadata": {},
   "source": [
    "# Downstream application package\n",
    "\n",
    "Invoke the downstream application package that calculates the mean.\n",
    "\n",
    "This notebook is linked to: https://eoap.github.io/zarr-cloud-native-format/cwl-workflows/downstream/\n",
    "\n"
   ]
  },
  {
   "cell_type": "markdown",
   "metadata": {},
   "source": [
    "## Setup"
   ]
  },
  {
   "cell_type": "code",
   "execution_count": 1,
   "metadata": {
    "vscode": {
     "languageId": "shellscript"
    }
   },
   "outputs": [],
   "source": [
    "export WORKSPACE=/workspace/zarr-cloud-native-format\n",
    "export RUNTIME=${WORKSPACE}/runs\n",
    "mkdir -p ${RUNTIME}\n",
    "cd ${RUNTIME}\n",
    "\n",
    "curl -L https://github.com/eoap/zarr-cloud-native-format/releases/download/0.3.0/app-water-bodies-occurrence.0.3.0.cwl > ${WORKSPACE}/cwl-workflow/app-water-bodies-occurrence.cwl 2> /dev/null"
   ]
  },
  {
   "cell_type": "markdown",
   "metadata": {},
   "source": [
    "## Run the downstream application package \n",
    "\n",
    "Inspect and use `cwltool` to run the downstream application package CWL Workflow:\n"
   ]
  },
  {
   "cell_type": "code",
   "execution_count": 2,
   "metadata": {
    "vscode": {
     "languageId": "shellscript"
    }
   },
   "outputs": [
    {
     "name": "stdout",
     "output_type": "stream",
     "text": [
      "\u001b[36mclass\u001b[0m:\u001b[32m Workflow\u001b[0m\n",
      "\u001b[32m\u001b[0m\u001b[36mid\u001b[0m:\u001b[32m water-bodies-occurrence\u001b[0m\n",
      "\u001b[32m\u001b[0m\u001b[36mlabel\u001b[0m:\u001b[32m Water bodies occurrence\u001b[0m\n",
      "\u001b[32m\u001b[0m\u001b[36mdoc\u001b[0m:\u001b[32m Water bodies occurrence based on NDWI and otsu threshold\u001b[0m\n",
      "\u001b[32m\u001b[0m\u001b[36mrequirements\u001b[0m: []\u001b[36m\u001b[0m\n",
      "\u001b[36minputs\u001b[0m:\u001b[36m\u001b[0m\n",
      "\u001b[36m  zarr-stac-catalog\u001b[0m:\u001b[36m\u001b[0m\n",
      "\u001b[36m    type\u001b[0m:\u001b[32m Directory\u001b[0m\n",
      "\u001b[32m    \u001b[0m\u001b[36mdoc\u001b[0m:\u001b[32m Input STAC catalog with datacube\u001b[0m\n",
      "\u001b[32m    \u001b[0m\u001b[36mlabel\u001b[0m:\u001b[32m STAC catalog\u001b[0m\n",
      "\u001b[32m\u001b[0m\u001b[36moutputs\u001b[0m:\u001b[36m\u001b[0m\n",
      "\u001b[36m  stac-catalog\u001b[0m:\u001b[36m\u001b[0m\n",
      "\u001b[36m    type\u001b[0m:\u001b[32m Directory\u001b[0m\n",
      "\u001b[32m    \u001b[0m\u001b[36moutputSource\u001b[0m:\n",
      "      -\u001b[32m step_occurrence/stac-catalog\u001b[0m\n",
      "\u001b[32m    \u001b[0m\u001b[36mdoc\u001b[0m:\u001b[32m Output STAC catalog with water bodies occurrence\u001b[0m\n",
      "\u001b[32m    \u001b[0m\u001b[36mlabel\u001b[0m:\u001b[32m STAC catalog\u001b[0m\n",
      "\u001b[32m\u001b[0m\u001b[36msteps\u001b[0m:\u001b[36m\u001b[0m\n",
      "\u001b[36m  step_occurrence\u001b[0m:\u001b[36m\u001b[0m\n",
      "\u001b[36m    run\u001b[0m:\u001b[32m \"#occurrence\"\u001b[0m\u001b[36m\u001b[0m\n",
      "\u001b[36m    in\u001b[0m:\u001b[36m\u001b[0m\n",
      "\u001b[36m      zarr-stac-catalog\u001b[0m:\u001b[32m zarr-stac-catalog\u001b[0m\n",
      "\u001b[32m    \u001b[0m\u001b[36mout\u001b[0m:\n",
      "      -\u001b[32m stac-catalog\u001b[0m\n"
     ]
    }
   ],
   "source": [
    "cat ${WORKSPACE}/cwl-workflow/app-water-bodies-occurrence.cwl | yq e '.$graph[0]' -"
   ]
  },
  {
   "cell_type": "markdown",
   "metadata": {},
   "source": [
    "Create the job order using the outputs of notebook \"2-CWl-Workflows/1-Zarr-Cloud-native-format\" "
   ]
  },
  {
   "cell_type": "code",
   "execution_count": 5,
   "metadata": {
    "vscode": {
     "languageId": "shellscript"
    }
   },
   "outputs": [
    {
     "name": "stdout",
     "output_type": "stream",
     "text": [
      "/workspace/zarr-cloud-native-format/runs/gaaevbi7\n"
     ]
    }
   ],
   "source": [
    "zarr_catalog_path=$(cat zarr-cloud-native-results.json | jq -r '.zarr_stac_catalog.path' -) \n",
    "echo $zarr_catalog_path"
   ]
  },
  {
   "cell_type": "code",
   "execution_count": 6,
   "metadata": {
    "vscode": {
     "languageId": "shellscript"
    }
   },
   "outputs": [
    {
     "name": "stdout",
     "output_type": "stream",
     "text": [
      "\u001b[36mzarr-stac-catalog\u001b[0m:\u001b[36m\u001b[0m\n",
      "\u001b[36m  class\u001b[0m:\u001b[32m Directory\u001b[0m\n",
      "\u001b[32m  \u001b[0m\u001b[36mpath\u001b[0m:\u001b[32m /workspace/zarr-cloud-native-format/runs/gaaevbi7\u001b[0m\n"
     ]
    }
   ],
   "source": [
    "cat <<EOF > downstream-params.yaml\n",
    "zarr-stac-catalog: \n",
    "  class: Directory\n",
    "  path: ${zarr_catalog_path}\n",
    "EOF\n",
    "\n",
    "cat downstream-params.yaml | yq ."
   ]
  },
  {
   "cell_type": "markdown",
   "metadata": {},
   "source": [
    "Use `cwltool` to run the CWL Workflow"
   ]
  },
  {
   "cell_type": "code",
   "execution_count": null,
   "metadata": {
    "vscode": {
     "languageId": "shellscript"
    }
   },
   "outputs": [],
   "source": [
    "\n",
    "\n",
    "cwltool \\\n",
    "    --podman \\\n",
    "    --outdir ${WORKSPACE}/runs \\\n",
    "    ${WORKSPACE}/cwl-workflow/app-water-bodies-occurrence.cwl#water-bodies-occurrence \\\n",
    "    downstream-params.yaml > downstream-results.json 2> downstream.log"
   ]
  },
  {
   "cell_type": "markdown",
   "metadata": {},
   "source": [
    "Let's look at the content of the stderr:"
   ]
  },
  {
   "cell_type": "code",
   "execution_count": null,
   "metadata": {
    "vscode": {
     "languageId": "shellscript"
    }
   },
   "outputs": [
    {
     "name": "stdout",
     "output_type": "stream",
     "text": [
      "\u001b[1;30mINFO\u001b[0m /home/fbrito/.local/bin/cwltool 3.1.20250110105449\n",
      "\u001b[1;30mINFO\u001b[0m Resolved '/workspace/zarr-cloud-native-format/cwl-workflow/app-water-bodies-occurrence.cwl#water-bodies-occurrence' to 'file:///workspace/zarr-cloud-native-format/cwl-workflow/app-water-bodies-occurrence.cwl#water-bodies-occurrence'\n",
      "\u001b[1;30mINFO\u001b[0m [workflow ] start\n",
      "\u001b[1;30mINFO\u001b[0m [workflow ] starting step step_occurrence\n",
      "\u001b[1;30mINFO\u001b[0m [step step_occurrence] start\n",
      "Error: no such object: \"ghcr.io/eoap/zarr-cloud-native-format/occurrence@sha256:256f8672ff74f41b97ab307162b09e07412eddd1d9658a07106379597a7c9fad\"\n",
      "\u001b[1;30mINFO\u001b[0m ['podman', 'pull', 'ghcr.io/eoap/zarr-cloud-native-format/occurrence@sha256:256f8672ff74f41b97ab307162b09e07412eddd1d9658a07106379597a7c9fad']\n",
      "Trying to pull ghcr.io/eoap/zarr-cloud-native-format/occurrence@sha256:256f8672ff74f41b97ab307162b09e07412eddd1d9658a07106379597a7c9fad...\n",
      "Getting image source signatures\n",
      "Copying blob sha256:ddee35dfe011992ed9d752dc61e7dc4377fda83f63e03c0e193a4a4e6714cc2b\n",
      "Copying blob sha256:8a7a13810b7d60799d98f4a85010c5343a11ce82bf99a2a9231356ee56cd32f9\n",
      "Copying blob sha256:a2318d6c47ec9cac5acc500c47c79602bcf953cec711a18bc898911a0984365b\n",
      "Copying blob sha256:7cc010001aabace5d25730a7732deb4091d7daa393b5ee294f6550cf2bdd75bf\n",
      "Copying blob sha256:1c30d32022ca11f8235b365ae530368751923974c0d60f3ef6601d29e65f56bd\n",
      "Copying blob sha256:cd4054fd866013877f7664cf997a9b812814d226ee5f3d830d2a275387e67f8a\n",
      "Copying config sha256:a72a843048a3cb59a0fd806710c4627ad500a0cd7eb8b5cc89cd293fe38cd163\n",
      "Writing manifest to image destination\n",
      "a72a843048a3cb59a0fd806710c4627ad500a0cd7eb8b5cc89cd293fe38cd163\n",
      "\u001b[1;30mINFO\u001b[0m [job step_occurrence] /tmp/_9l_9a__$ podman \\\n",
      "    run \\\n",
      "    -i \\\n",
      "    --userns=keep-id \\\n",
      "    --mount=type=bind,source=/tmp/_9l_9a__,target=/KRQAqT \\\n",
      "    --mount=type=bind,source=/tmp/ahvs5045,target=/tmp \\\n",
      "    --mount=type=bind,source=/workspace/zarr-cloud-native-format/runs/gaaevbi7,target=/var/lib/cwl/stg1ead3af4-be47-486c-a2a7-4f8a4bbbe2b2/gaaevbi7,readonly \\\n",
      "    --workdir=/KRQAqT \\\n",
      "    --read-only=true \\\n",
      "    --user=1000:1000 \\\n",
      "    --rm \\\n",
      "    --cidfile=/tmp/t_h4635x/20250915173359-888957.cid \\\n",
      "    --env=TMPDIR=/tmp \\\n",
      "    --env=HOME=/KRQAqT \\\n",
      "    --env=PYTHONPATH=/app \\\n",
      "    ghcr.io/eoap/zarr-cloud-native-format/occurrence@sha256:256f8672ff74f41b97ab307162b09e07412eddd1d9658a07106379597a7c9fad \\\n",
      "    python \\\n",
      "    -m \\\n",
      "    app \\\n",
      "    --stac-catalog \\\n",
      "    /var/lib/cwl/stg1ead3af4-be47-486c-a2a7-4f8a4bbbe2b2/gaaevbi7\n",
      "2025-09-15 15:34:05.888 | INFO     | __main__:occurrence:24 - Water occurrence\n",
      "2025-09-15 15:34:05.889 | INFO     | __main__:occurrence:26 - Reading STAC catalog from /var/lib/cwl/stg1ead3af4-be47-486c-a2a7-4f8a4bbbe2b2/gaaevbi7\n",
      "2025-09-15 15:34:05.892 | INFO     | __main__:occurrence:39 - Dimension: x, Type: spatial, Extent: [636995.0, 691585.0]\n",
      "2025-09-15 15:34:05.892 | INFO     | __main__:occurrence:39 - Dimension: y, Type: spatial, Extent: [4410555.0, 4482595.0]\n",
      "2025-09-15 15:34:05.892 | INFO     | __main__:occurrence:39 - Dimension: time, Type: temporal, Extent: ['2021-06-28T19:03:24.330000000', '2021-07-28T19:03:25.963000000']\n",
      "2025-09-15 15:34:05.892 | INFO     | __main__:occurrence:42 - Variable: data, Description: detected water bodies, Dimensions: y,x,time, Type: bands\n",
      "2025-09-15 15:34:05.970 | INFO     | __main__:occurrence:47 - EPSG code: 32610\n",
      "2025-09-15 15:34:08.820 | INFO     | __main__:occurrence:55 - Creating a STAC Catalog for the output\n",
      "2025-09-15 15:34:10.265 | INFO     | __main__:occurrence:82 - Done!\n",
      "\u001b[1;30mINFO\u001b[0m [job step_occurrence] Max memory used: 1074MiB\n",
      "\u001b[1;30mINFO\u001b[0m [job step_occurrence] completed success\n",
      "\u001b[1;30mINFO\u001b[0m [step step_occurrence] completed success\n",
      "\u001b[1;30mINFO\u001b[0m [workflow ] completed success\n",
      "\u001b[1;30mINFO\u001b[0m Final process status is success\n"
     ]
    }
   ],
   "source": [
    "cat downstream.log | egrep -v \"WARNING|JSHINT\""
   ]
  },
  {
   "cell_type": "markdown",
   "metadata": {},
   "source": [
    "Let's inspect the stdout produced. The `output` block with the id `stac-catalog` of the CWL description is a directory containing the STAC catalog:"
   ]
  },
  {
   "cell_type": "code",
   "execution_count": 7,
   "metadata": {
    "vscode": {
     "languageId": "shellscript"
    }
   },
   "outputs": [
    {
     "name": "stdout",
     "output_type": "stream",
     "text": [
      "\u001b[0;32m\"/workspace/zarr-cloud-native-format/runs/_9l_9a__\"\u001b[0m\n"
     ]
    }
   ],
   "source": [
    "cat downstream-results.json | jq '.[\"stac-catalog\"].path' -"
   ]
  },
  {
   "cell_type": "markdown",
   "metadata": {},
   "source": [
    "List the STAC Catalog content:"
   ]
  },
  {
   "cell_type": "code",
   "execution_count": 8,
   "metadata": {
    "vscode": {
     "languageId": "shellscript"
    }
   },
   "outputs": [
    {
     "name": "stdout",
     "output_type": "stream",
     "text": [
      "* <Catalog id=catalog>\n",
      "  * <Item id=occurrence>\n"
     ]
    }
   ],
   "source": [
    "stac describe $(cat downstream-results.json | jq -r '.[\"stac-catalog\"].path' - )/catalog.json"
   ]
  },
  {
   "cell_type": "code",
   "execution_count": 10,
   "metadata": {
    "vscode": {
     "languageId": "shellscript"
    }
   },
   "outputs": [
    {
     "name": "stdout",
     "output_type": "stream",
     "text": [
      "\u001b[01;34m/workspace/zarr-cloud-native-format/runs/_9l_9a__\u001b[0m\n",
      "├── catalog.json\n",
      "└── \u001b[01;34moccurrence\u001b[0m\n",
      "    ├── occurrence.json\n",
      "    └── \u001b[01;35mwater_bodies_mean.tif\u001b[0m\n",
      "\n",
      "2 directories, 3 files\n"
     ]
    }
   ],
   "source": [
    "tree $(cat downstream-results.json | jq -r '.[\"stac-catalog\"].path' - )"
   ]
  },
  {
   "cell_type": "code",
   "execution_count": null,
   "metadata": {
    "vscode": {
     "languageId": "shellscript"
    }
   },
   "outputs": [],
   "source": []
  }
 ],
 "metadata": {
  "kernelspec": {
   "display_name": "Bash",
   "language": "bash",
   "name": "bash"
  },
  "language_info": {
   "codemirror_mode": "shell",
   "file_extension": ".sh",
   "mimetype": "text/x-sh",
   "name": "bash"
  }
 },
 "nbformat": 4,
 "nbformat_minor": 2
}
