{
 "cells": [
  {
   "cell_type": "markdown",
   "metadata": {},
   "source": [
    "# TL;DR\n",
    "\n",
    "Zarr Cloud native format in Earth Observation Application Packages"
   ]
  },
  {
   "cell_type": "markdown",
   "metadata": {},
   "source": [
    "## Part 1 - Zarr store producer: Application Package execution\n",
    "\n",
    "Use `cwltool` to run the Application Package"
   ]
  },
  {
   "cell_type": "markdown",
   "metadata": {},
   "source": [
    "### Modules used"
   ]
  },
  {
   "cell_type": "code",
   "execution_count": 1,
   "metadata": {},
   "outputs": [],
   "source": [
    "import yaml\n",
    "from shutil import which\n",
    "import nest_asyncio\n",
    "from cwltool.main import main\n",
    "from io import StringIO\n",
    "import argparse\n",
    "import json\n",
    "nest_asyncio.apply()"
   ]
  },
  {
   "cell_type": "markdown",
   "metadata": {},
   "source": [
    "### Container runtime\n",
    "\n",
    "Check if `podman` or `docker` are available:"
   ]
  },
  {
   "cell_type": "code",
   "execution_count": 2,
   "metadata": {},
   "outputs": [
    {
     "name": "stdout",
     "output_type": "stream",
     "text": [
      "Using podman\n"
     ]
    }
   ],
   "source": [
    "if which(\"podman\"):\n",
    "    podman = True\n",
    "    print(\"Using podman\")\n",
    "elif which(\"docker\"):\n",
    "    podman = False\n",
    "    print(\"Using docker\")\n",
    "else:\n",
    "    raise ValueError(\"No container engine\")\n",
    "\n",
    "podman = False"
   ]
  },
  {
   "cell_type": "markdown",
   "metadata": {},
   "source": [
    "### Prepare the Application Package execution\n",
    "\n",
    "Use `cwltool` and Python to execute the Application Package.\n",
    "\n"
   ]
  },
  {
   "cell_type": "code",
   "execution_count": 3,
   "metadata": {},
   "outputs": [],
   "source": [
    "params = {}\n",
    "\n",
    "params[\"bands\"] = [\"green\", \"nir\"]\n",
    "\n",
    "params[\"stac_api_endpoint\"] = {\n",
    "    \"url\": {\"value\": \"https://earth-search.aws.element84.com/v1/\"},\n",
    "    \"headers\": [],\n",
    "}\n",
    "\n",
    "params[\"search_request\"] = {\n",
    "    \"limit\": 20,\n",
    "    \"collections\": [\"sentinel-2-l2a\"],\n",
    "    \"datetime_interval\": {\n",
    "        \"start\": {\"value\": \"2021-06-01T00:00:00\"},\n",
    "        \"end\": {\"value\": \"2021-08-01T23:59:59\"},\n",
    "    },\n",
    "    \"bbox\": [-121.399, 39.834, -120.74, 40.472],\n",
    "    \"max-items\": 10\n",
    "}\n",
    "\n",
    "with open(\"producer-params.yaml\", \"w\") as file:\n",
    "    print(yaml.dump(params), file=file)"
   ]
  },
  {
   "cell_type": "markdown",
   "metadata": {},
   "source": [
    "### Application Package execution\n",
    "\n",
    "We use the released application package available here: https://github.com/eoap/zarr-cloud-native-format/releases"
   ]
  },
  {
   "cell_type": "code",
   "execution_count": 4,
   "metadata": {},
   "outputs": [
    {
     "name": "stderr",
     "output_type": "stream",
     "text": [
      "Error: No such object: ghcr.io/eoap/zarr-cloud-native-format/stac-zarr@sha256:72fdc2757ace393b3d94995bd3e300e0f32c6a3906fe5e659f8a9efb95de76ea\n"
     ]
    }
   ],
   "source": [
    "\n",
    "parsed_args = argparse.Namespace(\n",
    "    podman=podman,\n",
    "    parallel=False,\n",
    "    validate=False,\n",
    "    debug=False,\n",
    "    outdir=\"./runs\",\n",
    "    quiet=True,\n",
    "    workflow=\"https://github.com/eoap/zarr-cloud-native-format/releases/download/0.3.0/app-water-bodies.0.3.0.cwl#water-bodies\",\n",
    "    job_order=[\"producer-params.yaml\"],\n",
    ")\n",
    "\n",
    "stream_out = StringIO()\n",
    "stream_err = StringIO()\n",
    "\n",
    "res = main(\n",
    "    args=parsed_args,\n",
    "    stdout=stream_out,\n",
    "    stderr=stream_err,\n",
    ")\n",
    "\n",
    "assert res == 0"
   ]
  },
  {
   "cell_type": "markdown",
   "metadata": {},
   "source": [
    "The `stream_out` object contains the cwltool stdout.\n",
    "\n",
    "We can list the results keys with:"
   ]
  },
  {
   "cell_type": "code",
   "execution_count": 5,
   "metadata": {},
   "outputs": [
    {
     "data": {
      "text/plain": [
       "['zarr_stac_catalog', 'stac_catalog']"
      ]
     },
     "execution_count": 5,
     "metadata": {},
     "output_type": "execute_result"
    }
   ],
   "source": [
    "producer_results = json.loads(stream_out.getvalue())\n",
    "\n",
    "list(producer_results.keys())"
   ]
  },
  {
   "cell_type": "markdown",
   "metadata": {},
   "source": [
    "And find the location of the directory containing the STAC Catalog with the Zarr store:"
   ]
  },
  {
   "cell_type": "code",
   "execution_count": 6,
   "metadata": {},
   "outputs": [
    {
     "data": {
      "text/plain": [
       "'/data/work/github/eoap/zarr-cloud-native-format/docs/runs/tiniw7lc'"
      ]
     },
     "execution_count": 6,
     "metadata": {},
     "output_type": "execute_result"
    }
   ],
   "source": [
    "producer_results[\"zarr_stac_catalog\"][\"path\"]"
   ]
  },
  {
   "cell_type": "markdown",
   "metadata": {},
   "source": [
    "## Part 2 - Inspect Application Package results\n",
    "\n",
    "Read the STAC Catalog containing the zarr result"
   ]
  },
  {
   "cell_type": "markdown",
   "metadata": {},
   "source": [
    "### Modules"
   ]
  },
  {
   "cell_type": "code",
   "execution_count": 7,
   "metadata": {},
   "outputs": [],
   "source": [
    "import pystac\n",
    "import os\n",
    "from pystac.extensions.datacube import DatacubeExtension\n"
   ]
  },
  {
   "cell_type": "markdown",
   "metadata": {},
   "source": [
    "### Inpect the STAC Item metadata"
   ]
  },
  {
   "cell_type": "code",
   "execution_count": 8,
   "metadata": {},
   "outputs": [],
   "source": [
    "cat = pystac.Catalog.from_file(\n",
    "    os.path.join(\n",
    "        producer_results[\"zarr_stac_catalog\"][\"location\"].replace(\"file://\", \"\"), \"catalog.json\"\n",
    "    )\n",
    ")"
   ]
  },
  {
   "cell_type": "code",
   "execution_count": 9,
   "metadata": {},
   "outputs": [
    {
     "name": "stdout",
     "output_type": "stream",
     "text": [
      "* <Catalog id=water-bodies>\n",
      "    * <Collection id=water-bodies>\n"
     ]
    }
   ],
   "source": [
    "cat.describe()"
   ]
  },
  {
   "cell_type": "code",
   "execution_count": 10,
   "metadata": {},
   "outputs": [
    {
     "name": "stdout",
     "output_type": "stream",
     "text": [
      "* <Collection id=water-bodies>\n"
     ]
    }
   ],
   "source": [
    "collection = cat.get_child(\"water-bodies\")\n",
    "\n",
    "collection.describe()"
   ]
  },
  {
   "cell_type": "code",
   "execution_count": null,
   "metadata": {},
   "outputs": [
    {
     "data": {
      "text/plain": [
       "{'type': 'Collection',\n",
       " 'id': 'water-bodies',\n",
       " 'stac_version': '1.1.0',\n",
       " 'description': 'Collection of detected water bodies',\n",
       " 'links': [{'rel': 'root',\n",
       "   'href': '../catalog.json',\n",
       "   'type': 'application/json',\n",
       "   'title': 'Water bodies catalog'},\n",
       "  {'rel': 'self',\n",
       "   'href': '/data/work/github/eoap/zarr-cloud-native-format/docs/runs/tiniw7lc/water-bodies/collection.json',\n",
       "   'type': 'application/json'},\n",
       "  {'rel': 'parent',\n",
       "   'href': '../catalog.json',\n",
       "   'type': 'application/json',\n",
       "   'title': 'Water bodies catalog'}],\n",
       " 'stac_extensions': ['https://stac-extensions.github.io/datacube/v2.2.0/schema.json'],\n",
       " 'cube:dimensions': {'x': {'type': 'spatial',\n",
       "   'axis': 'x',\n",
       "   'extent': [636995.0, 691585.0],\n",
       "   'reference_system': '32610',\n",
       "   'description': 'X coordinate of projection'},\n",
       "  'y': {'type': 'spatial',\n",
       "   'axis': 'y',\n",
       "   'extent': [4410555.0, 4482595.0],\n",
       "   'reference_system': '32610',\n",
       "   'description': 'Y coordinate of projection'},\n",
       "  'time': {'type': 'temporal',\n",
       "   'extent': ['2021-06-28T19:03:24.330000000',\n",
       "    '2021-07-28T19:03:25.963000000'],\n",
       "   'description': 'Time dimension'}},\n",
       " 'cube:variables': {'data': {'type': 'bands',\n",
       "   'name': 'data',\n",
       "   'description': 'detected water bodies',\n",
       "   'dimensions': ['y', 'x', 'time'],\n",
       "   'chunks': [512, 512, 1]}},\n",
       " 'title': 'Detected water bodies',\n",
       " 'extent': {'spatial': {'bbox': [[-121.39905410179915,\n",
       "     39.82336095080461,\n",
       "     -120.73995321724426,\n",
       "     40.482798837728375]]},\n",
       "  'temporal': {'interval': [['2021-06-28T19:03:24.330000Z',\n",
       "     '2021-07-28T19:03:25.963000Z']]}},\n",
       " 'license': 'other',\n",
       " 'assets': {'data': {'href': 'result.zarr',\n",
       "   'type': 'application/vnd+zarr',\n",
       "   'title': 'Detected water bodies',\n",
       "   'description': 'Detected water bodies in Zarr cloud-native format',\n",
       "   'xarray:open_kwargs': {'consolidated': True},\n",
       "   'roles': ['data', 'zarr']}}}"
      ]
     },
     "execution_count": 11,
     "metadata": {},
     "output_type": "execute_result"
    }
   ],
   "source": [
    "collection"
   ]
  },
  {
   "cell_type": "code",
   "execution_count": 12,
   "metadata": {},
   "outputs": [
    {
     "data": {
      "text/html": [
       "&lt;Asset href=result.zarr&gt;"
      ],
      "text/plain": [
       "<Asset href=result.zarr>"
      ]
     },
     "execution_count": 12,
     "metadata": {},
     "output_type": "execute_result"
    }
   ],
   "source": [
    "zarr_asset = collection.get_assets()[\"data\"]\n",
    "\n",
    "zarr_asset"
   ]
  },
  {
   "cell_type": "markdown",
   "metadata": {},
   "source": [
    "Inspect the datacube extension metadata:"
   ]
  },
  {
   "cell_type": "code",
   "execution_count": 13,
   "metadata": {},
   "outputs": [],
   "source": [
    "dc_collection = DatacubeExtension.ext(collection)"
   ]
  },
  {
   "cell_type": "markdown",
   "metadata": {},
   "source": [
    "* List and describe the dimensions"
   ]
  },
  {
   "cell_type": "code",
   "execution_count": 14,
   "metadata": {},
   "outputs": [
    {
     "data": {
      "text/plain": [
       "{'x': <pystac.extensions.datacube.HorizontalSpatialDimension at 0x73141598e120>,\n",
       " 'y': <pystac.extensions.datacube.HorizontalSpatialDimension at 0x73141594df90>,\n",
       " 'time': <pystac.extensions.datacube.TemporalDimension at 0x73141598e270>}"
      ]
     },
     "execution_count": 14,
     "metadata": {},
     "output_type": "execute_result"
    }
   ],
   "source": [
    "dc_collection.dimensions"
   ]
  },
  {
   "cell_type": "code",
   "execution_count": 15,
   "metadata": {},
   "outputs": [
    {
     "name": "stdout",
     "output_type": "stream",
     "text": [
      "x {'type': 'spatial', 'axis': 'x', 'extent': [636995.0, 691585.0], 'reference_system': '32610', 'description': 'X coordinate of projection'}\n",
      "y {'type': 'spatial', 'axis': 'y', 'extent': [4410555.0, 4482595.0], 'reference_system': '32610', 'description': 'Y coordinate of projection'}\n",
      "time {'type': 'temporal', 'extent': ['2021-06-28T19:03:24.330000000', '2021-07-28T19:03:25.963000000'], 'description': 'Time dimension'}\n"
     ]
    }
   ],
   "source": [
    "for key, value in dc_collection.dimensions.items():\n",
    "\n",
    "    print(key, dc_collection.dimensions[key].to_dict())"
   ]
  },
  {
   "cell_type": "markdown",
   "metadata": {},
   "source": [
    "* List and describe the variables"
   ]
  },
  {
   "cell_type": "code",
   "execution_count": 16,
   "metadata": {},
   "outputs": [
    {
     "data": {
      "text/plain": [
       "{'data': <pystac.extensions.datacube.Variable at 0x73141598e3c0>}"
      ]
     },
     "execution_count": 16,
     "metadata": {},
     "output_type": "execute_result"
    }
   ],
   "source": [
    "dc_collection.variables"
   ]
  },
  {
   "cell_type": "code",
   "execution_count": 17,
   "metadata": {},
   "outputs": [
    {
     "name": "stdout",
     "output_type": "stream",
     "text": [
      "data {'type': 'bands', 'name': 'data', 'description': 'detected water bodies', 'dimensions': ['y', 'x', 'time'], 'chunks': [512, 512, 1]}\n"
     ]
    }
   ],
   "source": [
    "for key, value in dc_collection.variables.items():\n",
    "    print(key, dc_collection.variables[key].to_dict())"
   ]
  },
  {
   "cell_type": "code",
   "execution_count": 18,
   "metadata": {},
   "outputs": [
    {
     "data": {
      "text/plain": [
       "{'type': 'bands',\n",
       " 'name': 'data',\n",
       " 'description': 'detected water bodies',\n",
       " 'dimensions': ['y', 'x', 'time'],\n",
       " 'chunks': [512, 512, 1]}"
      ]
     },
     "execution_count": 18,
     "metadata": {},
     "output_type": "execute_result"
    }
   ],
   "source": [
    "dc_collection.variables[\"data\"].to_dict()"
   ]
  },
  {
   "cell_type": "markdown",
   "metadata": {},
   "source": [
    "## Part 3 - Inspect the zarr result\n",
    "\n",
    "Open the Zarr result"
   ]
  },
  {
   "cell_type": "markdown",
   "metadata": {},
   "source": [
    "### Modules"
   ]
  },
  {
   "cell_type": "code",
   "execution_count": 19,
   "metadata": {},
   "outputs": [],
   "source": [
    "import xarray as xr"
   ]
  },
  {
   "cell_type": "code",
   "execution_count": 20,
   "metadata": {},
   "outputs": [
    {
     "data": {
      "text/plain": [
       "{'consolidated': True}"
      ]
     },
     "execution_count": 20,
     "metadata": {},
     "output_type": "execute_result"
    }
   ],
   "source": [
    "zarr_asset.extra_fields[\"xarray:open_kwargs\"]"
   ]
  },
  {
   "cell_type": "markdown",
   "metadata": {},
   "source": [
    "### Open the Zarr result with xarray"
   ]
  },
  {
   "cell_type": "code",
   "execution_count": 21,
   "metadata": {},
   "outputs": [],
   "source": [
    "water_bodies = xr.open_zarr(zarr_asset.get_absolute_href(), **zarr_asset.extra_fields[\"xarray:open_kwargs\"])\n"
   ]
  },
  {
   "cell_type": "code",
   "execution_count": 22,
   "metadata": {},
   "outputs": [
    {
     "data": {
      "text/html": [
       "<pre>&lt;xarray.Dataset&gt; Size: 315MB\n",
       "Dimensions:      (time: 8, y: 7205, x: 5460)\n",
       "Coordinates:\n",
       "  * time         (time) datetime64[ns] 64B 2021-06-28T19:03:24.330000 ... 202...\n",
       "  * x            (x) float64 44kB 6.37e+05 6.37e+05 ... 6.916e+05 6.916e+05\n",
       "  * y            (y) float64 58kB 4.483e+06 4.483e+06 ... 4.411e+06 4.411e+06\n",
       "Data variables:\n",
       "    data         (time, y, x) uint8 315MB dask.array&lt;chunksize=(1, 512, 512), meta=np.ndarray&gt;\n",
       "    spatial_ref  int32 4B ...</pre>"
      ],
      "text/plain": [
       "<xarray.Dataset> Size: 315MB\n",
       "Dimensions:      (time: 8, y: 7205, x: 5460)\n",
       "Coordinates:\n",
       "  * time         (time) datetime64[ns] 64B 2021-06-28T19:03:24.330000 ... 202...\n",
       "  * x            (x) float64 44kB 6.37e+05 6.37e+05 ... 6.916e+05 6.916e+05\n",
       "  * y            (y) float64 58kB 4.483e+06 4.483e+06 ... 4.411e+06 4.411e+06\n",
       "Data variables:\n",
       "    data         (time, y, x) uint8 315MB dask.array<chunksize=(1, 512, 512), meta=np.ndarray>\n",
       "    spatial_ref  int32 4B ..."
      ]
     },
     "execution_count": 22,
     "metadata": {},
     "output_type": "execute_result"
    }
   ],
   "source": [
    "xr.set_options(display_style=\"text\")\n",
    "\n",
    "water_bodies"
   ]
  },
  {
   "cell_type": "markdown",
   "metadata": {},
   "source": [
    "* Check the geospatial metadata"
   ]
  },
  {
   "cell_type": "code",
   "execution_count": 23,
   "metadata": {},
   "outputs": [
    {
     "data": {
      "text/html": [
       "<pre>&lt;xarray.DataArray &#x27;spatial_ref&#x27; ()&gt; Size: 4B\n",
       "[1 values with dtype=int32]\n",
       "Attributes: (12/18)\n",
       "    GeoTransform:                      636990 10 0 4482600 0 -10\n",
       "    crs_wkt:                           PROJCRS[&quot;WGS 84 / UTM zone 10N&quot;,BASEGE...\n",
       "    false_easting:                     500000.0\n",
       "    false_northing:                    0.0\n",
       "    geographic_crs_name:               WGS 84\n",
       "    grid_mapping_name:                 transverse_mercator\n",
       "    ...                                ...\n",
       "    projected_crs_name:                WGS 84 / UTM zone 10N\n",
       "    reference_ellipsoid_name:          WGS 84\n",
       "    scale_factor_at_central_meridian:  0.9996\n",
       "    semi_major_axis:                   6378137.0\n",
       "    semi_minor_axis:                   6356752.314245179\n",
       "    spatial_ref:                       PROJCRS[&quot;WGS 84 / UTM zone 10N&quot;,BASEGE...</pre>"
      ],
      "text/plain": [
       "<xarray.DataArray 'spatial_ref' ()> Size: 4B\n",
       "[1 values with dtype=int32]\n",
       "Attributes: (12/18)\n",
       "    GeoTransform:                      636990 10 0 4482600 0 -10\n",
       "    crs_wkt:                           PROJCRS[\"WGS 84 / UTM zone 10N\",BASEGE...\n",
       "    false_easting:                     500000.0\n",
       "    false_northing:                    0.0\n",
       "    geographic_crs_name:               WGS 84\n",
       "    grid_mapping_name:                 transverse_mercator\n",
       "    ...                                ...\n",
       "    projected_crs_name:                WGS 84 / UTM zone 10N\n",
       "    reference_ellipsoid_name:          WGS 84\n",
       "    scale_factor_at_central_meridian:  0.9996\n",
       "    semi_major_axis:                   6378137.0\n",
       "    semi_minor_axis:                   6356752.314245179\n",
       "    spatial_ref:                       PROJCRS[\"WGS 84 / UTM zone 10N\",BASEGE..."
      ]
     },
     "execution_count": 23,
     "metadata": {},
     "output_type": "execute_result"
    }
   ],
   "source": [
    "water_bodies.data_vars[\"spatial_ref\"]"
   ]
  },
  {
   "cell_type": "code",
   "execution_count": 24,
   "metadata": {},
   "outputs": [
    {
     "data": {
      "text/plain": [
       "'32610'"
      ]
     },
     "execution_count": 24,
     "metadata": {},
     "output_type": "execute_result"
    }
   ],
   "source": [
    "str(water_bodies.data_vars[\"spatial_ref\"].values)"
   ]
  },
  {
   "cell_type": "markdown",
   "metadata": {},
   "source": [
    "* Inspect the Zarr coordinates"
   ]
  },
  {
   "cell_type": "code",
   "execution_count": 25,
   "metadata": {},
   "outputs": [
    {
     "data": {
      "text/plain": [
       "Coordinates:\n",
       "  * time     (time) datetime64[ns] 64B 2021-06-28T19:03:24.330000 ... 2021-07...\n",
       "  * x        (x) float64 44kB 6.37e+05 6.37e+05 6.37e+05 ... 6.916e+05 6.916e+05\n",
       "  * y        (y) float64 58kB 4.483e+06 4.483e+06 ... 4.411e+06 4.411e+06"
      ]
     },
     "execution_count": 25,
     "metadata": {},
     "output_type": "execute_result"
    }
   ],
   "source": [
    "water_bodies.coords"
   ]
  },
  {
   "cell_type": "markdown",
   "metadata": {},
   "source": [
    "* List the values of the `time` coordinate:"
   ]
  },
  {
   "cell_type": "code",
   "execution_count": 26,
   "metadata": {},
   "outputs": [
    {
     "data": {
      "text/plain": [
       "array(['2021-06-28T19:03:24.330000000', '2021-07-08T19:03:25.409000000',\n",
       "       '2021-07-08T19:03:25.410000000', '2021-07-13T19:03:24.627000000',\n",
       "       '2021-07-18T19:03:25.940000000', '2021-07-23T19:03:24.661000000',\n",
       "       '2021-07-28T19:03:25.962000000', '2021-07-28T19:03:25.963000000'],\n",
       "      dtype='datetime64[ns]')"
      ]
     },
     "execution_count": 26,
     "metadata": {},
     "output_type": "execute_result"
    }
   ],
   "source": [
    "water_bodies.coords[\"time\"].values"
   ]
  },
  {
   "cell_type": "markdown",
   "metadata": {},
   "source": [
    "* Plot the water bodies detected on '2021-07-13T19:03:24.000000000'"
   ]
  },
  {
   "cell_type": "code",
   "execution_count": 27,
   "metadata": {},
   "outputs": [
    {
     "data": {
      "image/png": "[encoded data removed]",
      "text/plain": [
       "<Figure size 900x400 with 3 Axes>"
      ]
     },
     "metadata": {},
     "output_type": "display_data"
    }
   ],
   "source": [
    "_ = (\n",
    "    water_bodies.isel(time=1)\n",
    "    .to_array(\"data\")\n",
    "    .plot.imshow(\n",
    "        col=\"data\",\n",
    "        size=4,\n",
    "        vmin=0,\n",
    "        vmax=1,\n",
    "    )\n",
    ")"
   ]
  },
  {
   "cell_type": "markdown",
   "metadata": {},
   "source": [
    "## Part 4 - Consume the Zarr store"
   ]
  },
  {
   "cell_type": "markdown",
   "metadata": {},
   "source": []
  },
  {
   "cell_type": "code",
   "execution_count": 29,
   "metadata": {},
   "outputs": [],
   "source": [
    "consumer_params = {}\n",
    "\n",
    "consumer_params[\"zarr-stac-catalog\"] = {\n",
    "  \"class\": \"Directory\",\n",
    "  \"path\": producer_results[\"zarr_stac_catalog\"][\"path\"]\n",
    "}\n",
    "\n",
    "with open(\"consumer-params.yaml\", \"w\") as file:\n",
    "    print(yaml.dump(consumer_params), file=file)"
   ]
  },
  {
   "cell_type": "code",
   "execution_count": 30,
   "metadata": {},
   "outputs": [
    {
     "name": "stderr",
     "output_type": "stream",
     "text": [
      "Error: No such object: ghcr.io/eoap/zarr-cloud-native-format/occurrence@sha256:256f8672ff74f41b97ab307162b09e07412eddd1d9658a07106379597a7c9fad\n"
     ]
    }
   ],
   "source": [
    "parsed_args = argparse.Namespace(\n",
    "    podman=podman,\n",
    "    parallel=False,\n",
    "    validate=False,\n",
    "    debug=False,\n",
    "    outdir=\"./runs\",\n",
    "    quiet=True,\n",
    "    workflow=\"https://github.com/eoap/zarr-cloud-native-format/releases/download/0.3.0/app-water-bodies-occurrence.0.3.0.cwl#water-bodies-occurrence\",\n",
    "    job_order=[\"consumer-params.yaml\"],\n",
    ")\n",
    "\n",
    "stream_out = StringIO()\n",
    "stream_err = StringIO()\n",
    "\n",
    "res = main(\n",
    "    args=parsed_args,\n",
    "    stdout=stream_out,\n",
    "    stderr=stream_err,\n",
    ")\n",
    "\n",
    "assert res == 0"
   ]
  },
  {
   "cell_type": "code",
   "execution_count": 40,
   "metadata": {},
   "outputs": [
    {
     "name": "stdout",
     "output_type": "stream",
     "text": [
      "\u001b[1;30mWARNING\u001b[0m \u001b[33m[job step_occurrence] Skipping Docker software container '--memory' limit despite presence of ResourceRequirement with ramMin and/or ramMax setting. Consider running with --strict-memory-limit for increased portability assurance.\u001b[0m\n",
      "\u001b[1;30mWARNING\u001b[0m \u001b[33m[job step_occurrence] Skipping Docker software container '--cpus' limit despite presence of ResourceRequirement with coresMin and/or coresMax setting. Consider running with --strict-cpu-limit for increased portability assurance.\u001b[0m\n",
      "\n"
     ]
    }
   ],
   "source": [
    "print(stream_err.getvalue())"
   ]
  },
  {
   "cell_type": "code",
   "execution_count": 33,
   "metadata": {},
   "outputs": [
    {
     "data": {
      "text/plain": [
       "'/data/work/github/eoap/zarr-cloud-native-format/docs/runs/5vqga6hd'"
      ]
     },
     "execution_count": 33,
     "metadata": {},
     "output_type": "execute_result"
    }
   ],
   "source": [
    "consumer_results = json.loads(stream_out.getvalue())\n",
    "\n",
    "consumer_results[\"stac-catalog\"][\"path\"]"
   ]
  },
  {
   "cell_type": "code",
   "execution_count": 34,
   "metadata": {},
   "outputs": [],
   "source": [
    "occurence_cat = pystac.Catalog.from_file(\n",
    "    os.path.join(\n",
    "        consumer_results[\"stac-catalog\"][\"location\"].replace(\"file://\", \"\"), \"catalog.json\"\n",
    "    )\n",
    ")"
   ]
  },
  {
   "cell_type": "code",
   "execution_count": 35,
   "metadata": {},
   "outputs": [
    {
     "name": "stdout",
     "output_type": "stream",
     "text": [
      "* <Catalog id=catalog>\n",
      "  * <Item id=occurrence>\n"
     ]
    }
   ],
   "source": [
    "occurence_cat.describe()"
   ]
  },
  {
   "cell_type": "code",
   "execution_count": 37,
   "metadata": {},
   "outputs": [
    {
     "data": {
      "text/html": [
       "&lt;Item id=occurrence&gt;"
      ],
      "text/plain": [
       "<Item id=occurrence>"
      ]
     },
     "execution_count": 37,
     "metadata": {},
     "output_type": "execute_result"
    }
   ],
   "source": [
    "occurence_item = next(occurence_cat.get_all_items())\n",
    "\n",
    "occurence_item"
   ]
  },
  {
   "cell_type": "code",
   "execution_count": 38,
   "metadata": {},
   "outputs": [
    {
     "data": {
      "text/plain": [
       "{'data': <Asset href=./water_bodies_mean.tif>}"
      ]
     },
     "execution_count": 38,
     "metadata": {},
     "output_type": "execute_result"
    }
   ],
   "source": [
    "occurence_item.get_assets()"
   ]
  },
  {
   "cell_type": "code",
   "execution_count": 43,
   "metadata": {},
   "outputs": [
    {
     "data": {
      "image/png": "[encoded data removed]",
      "text/plain": [
       "<Figure size 640x480 with 2 Axes>"
      ]
     },
     "metadata": {},
     "output_type": "display_data"
    }
   ],
   "source": [
    "import rasterio\n",
    "import matplotlib.pyplot as plt\n",
    "\n",
    "# open TIFF\n",
    "with rasterio.open(occurence_item.get_assets()[\"data\"].get_absolute_href()) as src:\n",
    "    img = src.read(1)  # first band\n",
    "\n",
    "plt.imshow(img, cmap=\"gray\")\n",
    "plt.colorbar()\n",
    "plt.title(\"GeoTIFF Band 1\")\n",
    "plt.show()"
   ]
  },
  {
   "cell_type": "code",
   "execution_count": null,
   "metadata": {},
   "outputs": [],
   "source": []
  }
 ],
 "metadata": {
  "kernelspec": {
   "display_name": "zarr-cloud-native-format (3.13.1)",
   "language": "python",
   "name": "python3"
  },
  "language_info": {
   "codemirror_mode": {
    "name": "ipython",
    "version": 3
   },
   "file_extension": ".py",
   "mimetype": "text/x-python",
   "name": "python",
   "nbconvert_exporter": "python",
   "pygments_lexer": "ipython3",
   "version": "3.13.1"
  }
 },
 "nbformat": 4,
 "nbformat_minor": 2
}
