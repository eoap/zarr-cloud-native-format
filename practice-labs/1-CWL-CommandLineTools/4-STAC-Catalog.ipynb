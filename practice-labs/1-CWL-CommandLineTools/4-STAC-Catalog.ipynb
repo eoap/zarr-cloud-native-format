{
 "cells": [
  {
   "cell_type": "markdown",
   "metadata": {},
   "source": [
    "# STAC Catalog \n",
    "\n",
    "Invoke a Common Workflow Language CommandLineTool to generate the STAC Catalog\n",
    "\n",
    "This notebook is linked to: https://eoap.github.io/zarr-cloud-native-format/cwl-cli/stac\n",
    "\n"
   ]
  },
  {
   "cell_type": "markdown",
   "metadata": {},
   "source": [
    "## Setup"
   ]
  },
  {
   "cell_type": "code",
   "execution_count": 1,
   "metadata": {
    "vscode": {
     "languageId": "shellscript"
    }
   },
   "outputs": [],
   "source": [
    "export WORKSPACE=/workspace/zarr-cloud-native-format\n",
    "export RUNTIME=${WORKSPACE}/runs\n",
    "mkdir -p ${RUNTIME}\n",
    "cd ${RUNTIME}\n",
    "\n",
    "curl -q -L https://github.com/eoap/zarr-cloud-native-format/releases/download/0.3.0/app-water-bodies.0.3.0.cwl > ${WORKSPACE}/cwl-workflow/app-water-bodies.cwl 2> /dev/null"
   ]
  },
  {
   "cell_type": "markdown",
   "metadata": {},
   "source": [
    "## Run the STAC Catalog generation CommandLineTool\n",
    "\n",
    "Inspect and use `cwltool` to run the STAC Catalog generation definition:\n"
   ]
  },
  {
   "cell_type": "code",
   "execution_count": 2,
   "metadata": {
    "vscode": {
     "languageId": "shellscript"
    }
   },
   "outputs": [
    {
     "name": "stdout",
     "output_type": "stream",
     "text": [
      "\u001b[36mclass\u001b[0m:\u001b[32m CommandLineTool\u001b[0m\n",
      "\u001b[32m\u001b[0m\u001b[36mid\u001b[0m:\u001b[32m stac\u001b[0m\n",
      "\u001b[32m\u001b[0m\u001b[36mrequirements\u001b[0m:\u001b[36m\u001b[0m\n",
      "\u001b[36m  InlineJavascriptRequirement\u001b[0m: {}\u001b[36m\u001b[0m\n",
      "\u001b[36m  EnvVarRequirement\u001b[0m:\u001b[36m\u001b[0m\n",
      "\u001b[36m    envDef\u001b[0m:\u001b[36m\u001b[0m\n",
      "\u001b[36m      PATH\u001b[0m:\u001b[32m /usr/local/sbin:/usr/local/bin:/usr/sbin:/usr/bin:/sbin:/bin\u001b[0m\n",
      "\u001b[32m      \u001b[0m\u001b[36mPYTHONPATH\u001b[0m:\u001b[32m /app\u001b[0m\n",
      "\u001b[32m  \u001b[0m\u001b[36mResourceRequirement\u001b[0m:\u001b[36m\u001b[0m\n",
      "\u001b[36m    coresMax\u001b[0m:\u001b[95m 1\u001b[0m\n",
      "\u001b[95m    \u001b[0m\u001b[36mramMax\u001b[0m:\u001b[95m 512\u001b[0m\n",
      "\u001b[95m\u001b[0m\u001b[36mhints\u001b[0m:\u001b[36m\u001b[0m\n",
      "\u001b[36m  DockerRequirement\u001b[0m:\u001b[36m\u001b[0m\n",
      "\u001b[36m    dockerPull\u001b[0m:\u001b[32m ghcr.io/eoap/mastering-app-package/stac@sha256:cb54ab738a7d6544f2037368604c1c40e3f5af3eac1250ed14d365e5acb0c6b5\u001b[0m\n",
      "\u001b[32m\u001b[0m\u001b[36mbaseCommand\u001b[0m: [\u001b[32m\"python\"\u001b[0m,\u001b[32m \"-m\"\u001b[0m,\u001b[32m \"app\"\u001b[0m]\u001b[36m\u001b[0m\n",
      "\u001b[36marguments\u001b[0m: []\u001b[36m\u001b[0m\n",
      "\u001b[36minputs\u001b[0m:\u001b[36m\u001b[0m\n",
      "\u001b[36m  item\u001b[0m:\u001b[36m\u001b[0m\n",
      "\u001b[36m    type\u001b[0m:\u001b[36m\u001b[0m\n",
      "\u001b[36m      type\u001b[0m:\u001b[32m array\u001b[0m\n",
      "\u001b[32m      \u001b[0m\u001b[36mitems\u001b[0m:\u001b[32m string\u001b[0m\n",
      "\u001b[32m      \u001b[0m\u001b[36minputBinding\u001b[0m:\u001b[36m\u001b[0m\n",
      "\u001b[36m        prefix\u001b[0m:\u001b[32m --input-item\u001b[0m\n",
      "\u001b[32m  \u001b[0m\u001b[36mrasters\u001b[0m:\u001b[36m\u001b[0m\n",
      "\u001b[36m    type\u001b[0m:\u001b[36m\u001b[0m\n",
      "\u001b[36m      type\u001b[0m:\u001b[32m array\u001b[0m\n",
      "\u001b[32m      \u001b[0m\u001b[36mitems\u001b[0m:\u001b[32m File\u001b[0m\n",
      "\u001b[32m      \u001b[0m\u001b[36minputBinding\u001b[0m:\u001b[36m\u001b[0m\n",
      "\u001b[36m        prefix\u001b[0m:\u001b[32m --water-body\u001b[0m\n",
      "\u001b[32m\u001b[0m\u001b[36moutputs\u001b[0m:\u001b[36m\u001b[0m\n",
      "\u001b[36m  temp_stac_catalog\u001b[0m:\u001b[36m\u001b[0m\n",
      "\u001b[36m    label\u001b[0m:\u001b[32m temporary STAC catalog with COG outputs\u001b[0m\n",
      "\u001b[32m    \u001b[0m\u001b[36moutputBinding\u001b[0m:\u001b[36m\u001b[0m\n",
      "\u001b[36m      glob\u001b[0m:\u001b[32m .\u001b[0m\n",
      "\u001b[32m    \u001b[0m\u001b[36mtype\u001b[0m:\u001b[32m Directory\u001b[0m\n"
     ]
    }
   ],
   "source": [
    "cat ${WORKSPACE}/cwl-workflow/app-water-bodies.cwl | yq e '.[\"$graph\"][6]' -"
   ]
  },
  {
   "cell_type": "markdown",
   "metadata": {},
   "source": [
    "Run the CWL description, but first prepare the parameters.\n",
    "\n",
    "The previous step generated the water bodies detection geotif:"
   ]
  },
  {
   "cell_type": "code",
   "execution_count": 3,
   "metadata": {
    "vscode": {
     "languageId": "shellscript"
    }
   },
   "outputs": [
    {
     "name": "stdout",
     "output_type": "stream",
     "text": [
      "{\n",
      "    \"detected_water_body\": {\n",
      "        \"location\": \"file:///workspace/zarr-cloud-native-format/runs/otsu.tif\",\n",
      "        \"basename\": \"otsu.tif\",\n",
      "        \"class\": \"File\",\n",
      "        \"checksum\": \"sha1$a7f9a22f096d7bb5e2a0ecfe0abba2eab2350f1f\",\n",
      "        \"size\": 1100785,\n",
      "        \"path\": \"/workspace/zarr-cloud-native-format/runs/otsu.tif\"\n",
      "    }\n",
      "}\n"
     ]
    }
   ],
   "source": [
    "cat water-bodies-results.json "
   ]
  },
  {
   "cell_type": "markdown",
   "metadata": {},
   "source": [
    "Let's build the job parameters file with the otsu.tif file and the associated STAC Item input"
   ]
  },
  {
   "cell_type": "code",
   "execution_count": 10,
   "metadata": {
    "vscode": {
     "languageId": "shellscript"
    }
   },
   "outputs": [
    {
     "name": "stdout",
     "output_type": "stream",
     "text": [
      "\"/workspace/zarr-cloud-native-format/runs/otsu.tif\"\n"
     ]
    }
   ],
   "source": [
    "ostu_tif=$(cat water-bodies-results.json  | jq '.detected_water_body.path')\n",
    "\n",
    "echo ${ostu_tif}"
   ]
  },
  {
   "cell_type": "code",
   "execution_count": 9,
   "metadata": {
    "vscode": {
     "languageId": "shellscript"
    }
   },
   "outputs": [
    {
     "name": "stdout",
     "output_type": "stream",
     "text": [
      "\"https://earth-search.aws.element84.com/v1/collections/sentinel-2-l2a/items/S2A_10TFK_20210728_0_L2A\"\n"
     ]
    }
   ],
   "source": [
    "item=$( cat convert-search-results.json | jq '.items[0]' )\n",
    "\n",
    "echo ${item}"
   ]
  },
  {
   "cell_type": "code",
   "execution_count": 14,
   "metadata": {
    "vscode": {
     "languageId": "shellscript"
    }
   },
   "outputs": [
    {
     "name": "stdout",
     "output_type": "stream",
     "text": [
      "\u001b[36mitem\u001b[0m:\n",
      "  -\u001b[32m \"https://earth-search.aws.element84.com/v1/collections/sentinel-2-l2a/items/S2A_10TFK_20210728_0_L2A\"\u001b[0m\u001b[36m\u001b[0m\n",
      "\u001b[36mrasters\u001b[0m:\n",
      "  -\u001b[36m class\u001b[0m:\u001b[32m File\u001b[0m\n",
      "\u001b[32m    \u001b[0m\u001b[36mpath\u001b[0m:\u001b[32m \"/workspace/zarr-cloud-native-format/runs/otsu.tif\"\u001b[0m\n"
     ]
    }
   ],
   "source": [
    "cat <<EOF > stac-generation-params.yaml\n",
    "item: \n",
    "- ${item}\n",
    "rasters:\n",
    "- class: File\n",
    "  path: ${ostu_tif}\n",
    "EOF\n",
    "\n",
    "cat stac-generation-params.yaml | yq ."
   ]
  },
  {
   "cell_type": "code",
   "execution_count": 15,
   "metadata": {
    "vscode": {
     "languageId": "shellscript"
    }
   },
   "outputs": [],
   "source": [
    "\n",
    "\n",
    "cwltool \\\n",
    "    --podman \\\n",
    "    --outdir ${WORKSPACE}/runs \\\n",
    "    ${WORKSPACE}/cwl-workflow/app-water-bodies.cwl#stac \\\n",
    "    stac-generation-params.yaml > stac-generation-results.json 2> stac-generation.log"
   ]
  },
  {
   "cell_type": "markdown",
   "metadata": {},
   "source": [
    "Let's look at the content of the stderr:"
   ]
  },
  {
   "cell_type": "code",
   "execution_count": 16,
   "metadata": {
    "vscode": {
     "languageId": "shellscript"
    }
   },
   "outputs": [
    {
     "name": "stdout",
     "output_type": "stream",
     "text": [
      "\u001b[1;30mINFO\u001b[0m /home/fbrito/.local/bin/cwltool 3.1.20250110105449\n",
      "\u001b[1;30mINFO\u001b[0m Resolved '/workspace/zarr-cloud-native-format/cwl-workflow/app-water-bodies.cwl#stac' to 'file:///workspace/zarr-cloud-native-format/cwl-workflow/app-water-bodies.cwl#stac'\n",
      "\u001b[1;30mINFO\u001b[0m [job stac] /tmp/giqo2xko$ podman \\\n",
      "    run \\\n",
      "    -i \\\n",
      "    --userns=keep-id \\\n",
      "    --mount=type=bind,source=/tmp/giqo2xko,target=/RhFOvY \\\n",
      "    --mount=type=bind,source=/tmp/p0mjuywr,target=/tmp \\\n",
      "    --mount=type=bind,source=/workspace/zarr-cloud-native-format/runs/otsu.tif,target=/var/lib/cwl/stg026e359f-2aa4-4147-8064-d8afa89091ca/otsu.tif,readonly \\\n",
      "    --workdir=/RhFOvY \\\n",
      "    --read-only=true \\\n",
      "    --user=1000:1000 \\\n",
      "    --rm \\\n",
      "    --cidfile=/tmp/7jv6tx7d/20250915144715-676009.cid \\\n",
      "    --env=TMPDIR=/tmp \\\n",
      "    --env=HOME=/RhFOvY \\\n",
      "    --env=PATH=/usr/local/sbin:/usr/local/bin:/usr/sbin:/usr/bin:/sbin:/bin \\\n",
      "    --env=PYTHONPATH=/app \\\n",
      "    ghcr.io/eoap/mastering-app-package/stac@sha256:cb54ab738a7d6544f2037368604c1c40e3f5af3eac1250ed14d365e5acb0c6b5 \\\n",
      "    python \\\n",
      "    -m \\\n",
      "    app \\\n",
      "    --input-item \\\n",
      "    https://earth-search.aws.element84.com/v1/collections/sentinel-2-l2a/items/S2A_10TFK_20210728_0_L2A \\\n",
      "    --water-body \\\n",
      "    /var/lib/cwl/stg026e359f-2aa4-4147-8064-d8afa89091ca/otsu.tif\n",
      "2025-09-15 12:47:16.967 | INFO     | __main__:to_stac:31 - Creating a STAC Catalog for /var/lib/cwl/stg026e359f-2aa4-4147-8064-d8afa89091ca/otsu.tif\n",
      "2025-09-15 12:47:18.668 | INFO     | __main__:to_stac:62 - Done!\n",
      "\u001b[1;30mINFO\u001b[0m [job stac] Max memory used: 24MiB\n",
      "\u001b[1;30mINFO\u001b[0m [job stac] completed success\n",
      "\u001b[1;30mINFO\u001b[0m Final process status is success\n"
     ]
    }
   ],
   "source": [
    "cat stac-generation.log | egrep -v \"WARNING|JSHINT\""
   ]
  },
  {
   "cell_type": "markdown",
   "metadata": {},
   "source": [
    "Let's inspect the stdout produced. There are two `output` blocks with the id `aoi` and `items`. \n",
    "\n",
    "These are what the water bodies detection sub-workflow expects as inputs"
   ]
  },
  {
   "cell_type": "code",
   "execution_count": 17,
   "metadata": {
    "vscode": {
     "languageId": "shellscript"
    }
   },
   "outputs": [
    {
     "name": "stdout",
     "output_type": "stream",
     "text": [
      "\u001b[1;39m{\n",
      "  \u001b[0m\u001b[1;34m\"temp_stac_catalog\"\u001b[0m\u001b[1;39m: \u001b[0m\u001b[1;39m{\n",
      "    \u001b[0m\u001b[1;34m\"location\"\u001b[0m\u001b[1;39m: \u001b[0m\u001b[0;32m\"file:///workspace/zarr-cloud-native-format/runs/giqo2xko\"\u001b[0m\u001b[1;39m,\n",
      "    \u001b[0m\u001b[1;34m\"basename\"\u001b[0m\u001b[1;39m: \u001b[0m\u001b[0;32m\"giqo2xko\"\u001b[0m\u001b[1;39m,\n",
      "    \u001b[0m\u001b[1;34m\"class\"\u001b[0m\u001b[1;39m: \u001b[0m\u001b[0;32m\"Directory\"\u001b[0m\u001b[1;39m,\n",
      "    \u001b[0m\u001b[1;34m\"listing\"\u001b[0m\u001b[1;39m: \u001b[0m\u001b[1;39m[\n",
      "      \u001b[1;39m{\n",
      "        \u001b[0m\u001b[1;34m\"class\"\u001b[0m\u001b[1;39m: \u001b[0m\u001b[0;32m\"File\"\u001b[0m\u001b[1;39m,\n",
      "        \u001b[0m\u001b[1;34m\"location\"\u001b[0m\u001b[1;39m: \u001b[0m\u001b[0;32m\"file:///workspace/zarr-cloud-native-format/runs/giqo2xko/catalog.json\"\u001b[0m\u001b[1;39m,\n",
      "        \u001b[0m\u001b[1;34m\"basename\"\u001b[0m\u001b[1;39m: \u001b[0m\u001b[0;32m\"catalog.json\"\u001b[0m\u001b[1;39m,\n",
      "        \u001b[0m\u001b[1;34m\"size\"\u001b[0m\u001b[1;39m: \u001b[0m\u001b[0;39m363\u001b[0m\u001b[1;39m,\n",
      "        \u001b[0m\u001b[1;34m\"checksum\"\u001b[0m\u001b[1;39m: \u001b[0m\u001b[0;32m\"sha1$60975eb0efd2cb8615bfa4b181774ea961ee7d54\"\u001b[0m\u001b[1;39m,\n",
      "        \u001b[0m\u001b[1;34m\"path\"\u001b[0m\u001b[1;39m: \u001b[0m\u001b[0;32m\"/workspace/zarr-cloud-native-format/runs/giqo2xko/catalog.json\"\u001b[0m\u001b[1;39m\n",
      "      \u001b[1;39m}\u001b[0m\u001b[1;39m,\n",
      "      \u001b[1;39m{\n",
      "        \u001b[0m\u001b[1;34m\"class\"\u001b[0m\u001b[1;39m: \u001b[0m\u001b[0;32m\"Directory\"\u001b[0m\u001b[1;39m,\n",
      "        \u001b[0m\u001b[1;34m\"location\"\u001b[0m\u001b[1;39m: \u001b[0m\u001b[0;32m\"file:///workspace/zarr-cloud-native-format/runs/giqo2xko/S2A_10TFK_20210728_0_L2A\"\u001b[0m\u001b[1;39m,\n",
      "        \u001b[0m\u001b[1;34m\"basename\"\u001b[0m\u001b[1;39m: \u001b[0m\u001b[0;32m\"S2A_10TFK_20210728_0_L2A\"\u001b[0m\u001b[1;39m,\n",
      "        \u001b[0m\u001b[1;34m\"listing\"\u001b[0m\u001b[1;39m: \u001b[0m\u001b[1;39m[\n",
      "          \u001b[1;39m{\n",
      "            \u001b[0m\u001b[1;34m\"class\"\u001b[0m\u001b[1;39m: \u001b[0m\u001b[0;32m\"File\"\u001b[0m\u001b[1;39m,\n",
      "            \u001b[0m\u001b[1;34m\"location\"\u001b[0m\u001b[1;39m: \u001b[0m\u001b[0;32m\"file:///workspace/zarr-cloud-native-format/runs/giqo2xko/S2A_10TFK_20210728_0_L2A/S2A_10TFK_20210728_0_L2A.json\"\u001b[0m\u001b[1;39m,\n",
      "            \u001b[0m\u001b[1;34m\"basename\"\u001b[0m\u001b[1;39m: \u001b[0m\u001b[0;32m\"S2A_10TFK_20210728_0_L2A.json\"\u001b[0m\u001b[1;39m,\n",
      "            \u001b[0m\u001b[1;34m\"size\"\u001b[0m\u001b[1;39m: \u001b[0m\u001b[0;39m2774\u001b[0m\u001b[1;39m,\n",
      "            \u001b[0m\u001b[1;34m\"checksum\"\u001b[0m\u001b[1;39m: \u001b[0m\u001b[0;32m\"sha1$c832409a1d2ddc690b2b31de370178e4c634ab06\"\u001b[0m\u001b[1;39m,\n",
      "            \u001b[0m\u001b[1;34m\"path\"\u001b[0m\u001b[1;39m: \u001b[0m\u001b[0;32m\"/workspace/zarr-cloud-native-format/runs/giqo2xko/S2A_10TFK_20210728_0_L2A/S2A_10TFK_20210728_0_L2A.json\"\u001b[0m\u001b[1;39m\n",
      "          \u001b[1;39m}\u001b[0m\u001b[1;39m,\n",
      "          \u001b[1;39m{\n",
      "            \u001b[0m\u001b[1;34m\"class\"\u001b[0m\u001b[1;39m: \u001b[0m\u001b[0;32m\"File\"\u001b[0m\u001b[1;39m,\n",
      "            \u001b[0m\u001b[1;34m\"location\"\u001b[0m\u001b[1;39m: \u001b[0m\u001b[0;32m\"file:///workspace/zarr-cloud-native-format/runs/giqo2xko/S2A_10TFK_20210728_0_L2A/otsu.tif\"\u001b[0m\u001b[1;39m,\n",
      "            \u001b[0m\u001b[1;34m\"basename\"\u001b[0m\u001b[1;39m: \u001b[0m\u001b[0;32m\"otsu.tif\"\u001b[0m\u001b[1;39m,\n",
      "            \u001b[0m\u001b[1;34m\"size\"\u001b[0m\u001b[1;39m: \u001b[0m\u001b[0;39m1100785\u001b[0m\u001b[1;39m,\n",
      "            \u001b[0m\u001b[1;34m\"checksum\"\u001b[0m\u001b[1;39m: \u001b[0m\u001b[0;32m\"sha1$a7f9a22f096d7bb5e2a0ecfe0abba2eab2350f1f\"\u001b[0m\u001b[1;39m,\n",
      "            \u001b[0m\u001b[1;34m\"path\"\u001b[0m\u001b[1;39m: \u001b[0m\u001b[0;32m\"/workspace/zarr-cloud-native-format/runs/giqo2xko/S2A_10TFK_20210728_0_L2A/otsu.tif\"\u001b[0m\u001b[1;39m\n",
      "          \u001b[1;39m}\u001b[0m\u001b[1;39m\n",
      "        \u001b[1;39m]\u001b[0m\u001b[1;39m,\n",
      "        \u001b[0m\u001b[1;34m\"path\"\u001b[0m\u001b[1;39m: \u001b[0m\u001b[0;32m\"/workspace/zarr-cloud-native-format/runs/giqo2xko/S2A_10TFK_20210728_0_L2A\"\u001b[0m\u001b[1;39m\n",
      "      \u001b[1;39m}\u001b[0m\u001b[1;39m\n",
      "    \u001b[1;39m]\u001b[0m\u001b[1;39m,\n",
      "    \u001b[0m\u001b[1;34m\"path\"\u001b[0m\u001b[1;39m: \u001b[0m\u001b[0;32m\"/workspace/zarr-cloud-native-format/runs/giqo2xko\"\u001b[0m\u001b[1;39m\n",
      "  \u001b[1;39m}\u001b[0m\u001b[1;39m\n",
      "\u001b[1;39m}\u001b[0m\n"
     ]
    }
   ],
   "source": [
    "cat stac-generation-results.json | jq . -"
   ]
  },
  {
   "cell_type": "code",
   "execution_count": null,
   "metadata": {
    "vscode": {
     "languageId": "shellscript"
    }
   },
   "outputs": [],
   "source": []
  }
 ],
 "metadata": {
  "kernelspec": {
   "display_name": "Bash",
   "language": "bash",
   "name": "bash"
  },
  "language_info": {
   "codemirror_mode": "shell",
   "file_extension": ".sh",
   "mimetype": "text/x-sh",
   "name": "bash"
  }
 },
 "nbformat": 4,
 "nbformat_minor": 2
}
