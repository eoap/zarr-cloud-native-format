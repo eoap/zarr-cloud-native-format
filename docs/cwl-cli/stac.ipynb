{
 "cells": [
  {
   "cell_type": "markdown",
   "id": "ae342eea",
   "metadata": {},
   "source": [
    "# STAC\n",
    "\n",
    "STAC Catalog generation"
   ]
  },
  {
   "cell_type": "markdown",
   "id": "862ed075",
   "metadata": {},
   "source": []
  }
 ],
 "metadata": {
  "language_info": {
   "name": "python"
  }
 },
 "nbformat": 4,
 "nbformat_minor": 5
}
