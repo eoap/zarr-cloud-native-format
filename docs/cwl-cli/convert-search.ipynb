{
 "cells": [
  {
   "cell_type": "markdown",
   "id": "26e59c52",
   "metadata": {},
   "source": [
    "# Convert search \n",
    "\n",
    "Invoke a Common Workflow Language CommandLineTool bash script to invoke `yq` to:\n",
    "- extract the discovered STAC Items `self` link `href` that is used as an input in the water bodies detection sub-workflow\n",
    "- extract the aoi bounding box from the `search_request` input parameter"
   ]
  }
 ],
 "metadata": {
  "language_info": {
   "name": "python"
  }
 },
 "nbformat": 4,
 "nbformat_minor": 5
}
