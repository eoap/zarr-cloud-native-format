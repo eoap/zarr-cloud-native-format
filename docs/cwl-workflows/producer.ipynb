{
 "cells": [
  {
   "cell_type": "markdown",
   "id": "6fbab743",
   "metadata": {},
   "source": [
    "# Producer\n",
    "\n",
    "Application Package to produce a Zarr store with detected water bodies described as a STAC Collection including the STAC Datacube extension.\n"
   ]
  },
  {
   "cell_type": "code",
   "execution_count": 1,
   "id": "a6f6e10d",
   "metadata": {},
   "outputs": [
    {
     "data": {
      "text/plain": [
       "1"
      ]
     },
     "execution_count": 1,
     "metadata": {},
     "output_type": "execute_result"
    }
   ],
   "source": [
    "import os\n",
    "import sys\n",
    "\n",
    "module_path = os.path.abspath(os.path.join(\"..\"))\n",
    "sys.path.insert(0, module_path)\n",
    "\n",
    "from helpers import WorkflowViewer\n",
    "import cwl_loader\n",
    "cwl_loader.logger.remove()\n",
    "cwl_loader.logger.add(sys.stderr, level=\"INFO\")"
   ]
  },
  {
   "cell_type": "code",
   "execution_count": 2,
   "id": "def5b817",
   "metadata": {},
   "outputs": [],
   "source": [
    "version = \"0.3.0\"\n",
    "wf = WorkflowViewer.from_file(f\"https://github.com/eoap/zarr-cloud-native-format/releases/download/{version}/app-water-bodies-occurrence.{version}.cwl\", \"water-bodies\")"
   ]
  },
  {
   "cell_type": "markdown",
   "id": "7fe9ef84",
   "metadata": {},
   "source": [
    "## Inputs"
   ]
  },
  {
   "cell_type": "code",
   "execution_count": 3,
   "id": "18330f07",
   "metadata": {},
   "outputs": [
    {
     "data": {
      "text/markdown": [
       "| Id | Type | Label | Doc |\n",
       "| --- | --- | --- | --- |\n",
       "| `zarr-stac-catalog` | `Directory` | Zarr store STAC Catalog | Input STAC catalog with datacube |\n"
      ],
      "text/plain": [
       "<IPython.core.display.Markdown object>"
      ]
     },
     "metadata": {},
     "output_type": "display_data"
    }
   ],
   "source": [
    "wf.display_inputs()"
   ]
  },
  {
   "cell_type": "markdown",
   "id": "0207bfb2",
   "metadata": {},
   "source": [
    "## Steps"
   ]
  },
  {
   "cell_type": "code",
   "execution_count": 4,
   "id": "c82407ae",
   "metadata": {},
   "outputs": [
    {
     "data": {
      "text/markdown": [
       "| Id | Runs | Label | Doc |\n",
       "| --- | --- | --- | --- |\n",
       "| `step_occurrence` | `#occurrence` | Water bodies occurrence | Water bodies occurrence based on NDWI and otsu threshold |\n"
      ],
      "text/plain": [
       "<IPython.core.display.Markdown object>"
      ]
     },
     "metadata": {},
     "output_type": "display_data"
    }
   ],
   "source": [
    "wf.display_steps()"
   ]
  },
  {
   "cell_type": "markdown",
   "id": "305575ac",
   "metadata": {},
   "source": [
    "## Outputs"
   ]
  },
  {
   "cell_type": "code",
   "execution_count": 5,
   "id": "136cc489",
   "metadata": {},
   "outputs": [
    {
     "data": {
      "text/markdown": [
       "| Id | Type | Label | Doc |\n",
       "| --- | --- | --- | --- |\n",
       "| `stac-catalog` | `Directory` | STAC catalog | Output STAC catalog with water bodies occurrence |\n"
      ],
      "text/plain": [
       "<IPython.core.display.Markdown object>"
      ]
     },
     "metadata": {},
     "output_type": "display_data"
    }
   ],
   "source": [
    "wf.display_outputs()\n"
   ]
  },
  {
   "cell_type": "markdown",
   "id": "91788571",
   "metadata": {},
   "source": [
    "## Component diagram"
   ]
  },
  {
   "cell_type": "code",
   "execution_count": 6,
   "id": "d3d6e42b",
   "metadata": {},
   "outputs": [
    {
     "data": {
      "image/png": "[encoded data removed]",
      "text/plain": [
       "<PIL.PngImagePlugin.PngImageFile image mode=P size=869x438>"
      ]
     },
     "metadata": {},
     "output_type": "display_data"
    }
   ],
   "source": [
    "wf.display_components_diagram()"
   ]
  },
  {
   "cell_type": "markdown",
   "id": "6b9d29e8",
   "metadata": {},
   "source": [
    "## Class diagram"
   ]
  },
  {
   "cell_type": "code",
   "execution_count": 7,
   "id": "cc6a44ab",
   "metadata": {},
   "outputs": [
    {
     "ename": "NameError",
     "evalue": "name 'get_origin' is not defined",
     "output_type": "error",
     "traceback": [
      "\u001b[31m---------------------------------------------------------------------------\u001b[39m",
      "\u001b[31mNameError\u001b[39m                                 Traceback (most recent call last)",
      "\u001b[36mCell\u001b[39m\u001b[36m \u001b[39m\u001b[32mIn[7]\u001b[39m\u001b[32m, line 1\u001b[39m\n\u001b[32m----> \u001b[39m\u001b[32m1\u001b[39m \u001b[43mwf\u001b[49m\u001b[43m.\u001b[49m\u001b[43mdisplay_class_diagram\u001b[49m\u001b[43m(\u001b[49m\u001b[43m)\u001b[49m\n",
      "\u001b[36mFile \u001b[39m\u001b[32m/data/work/github/eoap/zarr-cloud-native-format/docs/helpers.py:81\u001b[39m, in \u001b[36mWorkflowViewer.display_class_diagram\u001b[39m\u001b[34m(self)\u001b[39m\n\u001b[32m     79\u001b[39m \u001b[38;5;28;01mdef\u001b[39;00m\u001b[38;5;250m \u001b[39m\u001b[34mdisplay_class_diagram\u001b[39m(\u001b[38;5;28mself\u001b[39m):\n\u001b[32m     80\u001b[39m     out = StringIO()\n\u001b[32m---> \u001b[39m\u001b[32m81\u001b[39m     \u001b[43mto_puml\u001b[49m\u001b[43m(\u001b[49m\n\u001b[32m     82\u001b[39m \u001b[43m        \u001b[49m\u001b[43mcwl_document\u001b[49m\u001b[43m=\u001b[49m\u001b[38;5;28;43mself\u001b[39;49m\u001b[43m.\u001b[49m\u001b[43mworkflow\u001b[49m\u001b[43m,\u001b[49m\n\u001b[32m     83\u001b[39m \u001b[43m        \u001b[49m\u001b[43mdiagram_type\u001b[49m\u001b[43m=\u001b[49m\u001b[43mDiagramType\u001b[49m\u001b[43m.\u001b[49m\u001b[43mCLASS\u001b[49m\u001b[43m,\u001b[49m\n\u001b[32m     84\u001b[39m \u001b[43m        \u001b[49m\u001b[43moutput_stream\u001b[49m\u001b[43m=\u001b[49m\u001b[43mout\u001b[49m\u001b[43m,\u001b[49m\n\u001b[32m     85\u001b[39m \u001b[43m    \u001b[49m\u001b[43m)\u001b[49m\n\u001b[32m     87\u001b[39m     clear_output = out.getvalue()\n\u001b[32m     88\u001b[39m     encoded = deflate_and_encode(clear_output)\n",
      "\u001b[36mFile \u001b[39m\u001b[32m~/.local/share/hatch/env/virtual/zarr-cloud-native-format/Cgmo9BVv/zarr-cloud-native-format/lib/python3.13/site-packages/cwl2puml/__init__.py:170\u001b[39m, in \u001b[36mto_puml\u001b[39m\u001b[34m(cwl_document, diagram_type, output_stream)\u001b[39m\n\u001b[32m    167\u001b[39m sring_template = diagram_type.value\n\u001b[32m    168\u001b[39m template = env.from_string(sring_template)\n\u001b[32m--> \u001b[39m\u001b[32m170\u001b[39m output_stream.write(\u001b[43mtemplate\u001b[49m\u001b[43m.\u001b[49m\u001b[43mrender\u001b[49m\u001b[43m(\u001b[49m\u001b[43mworkflows\u001b[49m\u001b[43m=\u001b[49m\u001b[43mcwl_document\u001b[49m\u001b[43m)\u001b[49m)\n",
      "\u001b[36mFile \u001b[39m\u001b[32m~/.local/share/hatch/env/virtual/zarr-cloud-native-format/Cgmo9BVv/zarr-cloud-native-format/lib/python3.13/site-packages/jinja2/environment.py:1295\u001b[39m, in \u001b[36mTemplate.render\u001b[39m\u001b[34m(self, *args, **kwargs)\u001b[39m\n\u001b[32m   1293\u001b[39m     \u001b[38;5;28;01mreturn\u001b[39;00m \u001b[38;5;28mself\u001b[39m.environment.concat(\u001b[38;5;28mself\u001b[39m.root_render_func(ctx))  \u001b[38;5;66;03m# type: ignore\u001b[39;00m\n\u001b[32m   1294\u001b[39m \u001b[38;5;28;01mexcept\u001b[39;00m \u001b[38;5;167;01mException\u001b[39;00m:\n\u001b[32m-> \u001b[39m\u001b[32m1295\u001b[39m     \u001b[38;5;28;43mself\u001b[39;49m\u001b[43m.\u001b[49m\u001b[43menvironment\u001b[49m\u001b[43m.\u001b[49m\u001b[43mhandle_exception\u001b[49m\u001b[43m(\u001b[49m\u001b[43m)\u001b[49m\n",
      "\u001b[36mFile \u001b[39m\u001b[32m~/.local/share/hatch/env/virtual/zarr-cloud-native-format/Cgmo9BVv/zarr-cloud-native-format/lib/python3.13/site-packages/jinja2/environment.py:942\u001b[39m, in \u001b[36mEnvironment.handle_exception\u001b[39m\u001b[34m(self, source)\u001b[39m\n\u001b[32m    937\u001b[39m \u001b[38;5;250m\u001b[39m\u001b[33;03m\"\"\"Exception handling helper.  This is used internally to either raise\u001b[39;00m\n\u001b[32m    938\u001b[39m \u001b[33;03mrewritten exceptions or return a rendered traceback for the template.\u001b[39;00m\n\u001b[32m    939\u001b[39m \u001b[33;03m\"\"\"\u001b[39;00m\n\u001b[32m    940\u001b[39m \u001b[38;5;28;01mfrom\u001b[39;00m\u001b[38;5;250m \u001b[39m\u001b[34;01m.\u001b[39;00m\u001b[34;01mdebug\u001b[39;00m\u001b[38;5;250m \u001b[39m\u001b[38;5;28;01mimport\u001b[39;00m rewrite_traceback_stack\n\u001b[32m--> \u001b[39m\u001b[32m942\u001b[39m \u001b[38;5;28;01mraise\u001b[39;00m rewrite_traceback_stack(source=source)\n",
      "\u001b[36mFile \u001b[39m\u001b[32m<template>:7\u001b[39m, in \u001b[36mtop-level template code\u001b[39m\u001b[34m()\u001b[39m\n",
      "\u001b[36mFile \u001b[39m\u001b[32m~/.local/share/hatch/env/virtual/zarr-cloud-native-format/Cgmo9BVv/zarr-cloud-native-format/lib/python3.13/site-packages/cwl2puml/__init__.py:133\u001b[39m, in \u001b[36m_type_to_string\u001b[39m\u001b[34m(typ)\u001b[39m\n\u001b[32m    132\u001b[39m \u001b[38;5;28;01mdef\u001b[39;00m\u001b[38;5;250m \u001b[39m\u001b[34m_type_to_string\u001b[39m(typ: Any) -> \u001b[38;5;28mstr\u001b[39m:\n\u001b[32m--> \u001b[39m\u001b[32m133\u001b[39m     \u001b[38;5;28;01mif\u001b[39;00m \u001b[43mget_origin\u001b[49m(typ) \u001b[38;5;129;01mis\u001b[39;00m Union:\n\u001b[32m    134\u001b[39m         \u001b[38;5;28;01mreturn\u001b[39;00m \u001b[33m\"\u001b[39m\u001b[33m or \u001b[39m\u001b[33m\"\u001b[39m.join([type_to_string(inner_type) \u001b[38;5;28;01mfor\u001b[39;00m inner_type \u001b[38;5;129;01min\u001b[39;00m get_args(typ)])\n\u001b[32m    136\u001b[39m     \u001b[38;5;28;01mif\u001b[39;00m \u001b[38;5;28misinstance\u001b[39m(typ, \u001b[38;5;28mlist\u001b[39m):\n",
      "\u001b[31mNameError\u001b[39m: name 'get_origin' is not defined"
     ]
    }
   ],
   "source": [
    "wf.display_class_diagram()"
   ]
  },
  {
   "cell_type": "code",
   "execution_count": null,
   "id": "8dab66d6",
   "metadata": {},
   "outputs": [],
   "source": []
  }
 ],
 "metadata": {
  "kernelspec": {
   "display_name": "zarr-cloud-native-format (3.13.1)",
   "language": "python",
   "name": "python3"
  },
  "language_info": {
   "codemirror_mode": {
    "name": "ipython",
    "version": 3
   },
   "file_extension": ".py",
   "mimetype": "text/x-python",
   "name": "python",
   "nbconvert_exporter": "python",
   "pygments_lexer": "ipython3",
   "version": "3.13.1"
  }
 },
 "nbformat": 4,
 "nbformat_minor": 5
}
