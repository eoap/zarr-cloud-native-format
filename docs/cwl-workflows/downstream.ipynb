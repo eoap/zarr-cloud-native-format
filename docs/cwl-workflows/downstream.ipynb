{
 "cells": [
  {
   "cell_type": "markdown",
   "id": "0d027a71",
   "metadata": {},
   "source": [
    "# Downstream\n",
    "\n",
    "Application Package to produce the mean value fo the detected water bodies"
   ]
  },
  {
   "cell_type": "markdown",
   "id": "9030f658",
   "metadata": {},
   "source": []
  }
 ],
 "metadata": {
  "language_info": {
   "name": "python"
  }
 },
 "nbformat": 4,
 "nbformat_minor": 5
}
