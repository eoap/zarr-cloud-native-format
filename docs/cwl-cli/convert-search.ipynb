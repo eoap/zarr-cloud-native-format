{
 "cells": [
  {
   "cell_type": "markdown",
   "id": "26e59c52",
   "metadata": {},
   "source": [
    "# Convert search results"
   ]
  }
 ],
 "metadata": {
  "language_info": {
   "name": "python"
  }
 },
 "nbformat": 4,
 "nbformat_minor": 5
}
