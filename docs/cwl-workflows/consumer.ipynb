{
 "cells": [
  {
   "cell_type": "markdown",
   "id": "0d027a71",
   "metadata": {},
   "source": [
    "# Consumer\n",
    "\n",
    "This is a downstream Application Package that produces the mean value using as input the Zarr store of the detected water bodies described as a STAC Collection including the STAC Datacube extension"
   ]
  },
  {
   "cell_type": "code",
   "execution_count": null,
   "id": "8e2bd6c8",
   "metadata": {},
   "outputs": [],
   "source": []
  },
  {
   "cell_type": "code",
   "execution_count": 1,
   "id": "593c3760",
   "metadata": {},
   "outputs": [],
   "source": [
    "try:\n",
    "    from docs.helpers import plot_cwl, wrap_cwl\n",
    "except (ImportError, ModuleNotFoundError) as e:\n",
    "\n",
    "    import os\n",
    "    import sys\n",
    "\n",
    "    module_path = os.path.abspath(os.path.join(\"..\"))  # or the path to your source code\n",
    "    sys.path.insert(0, module_path)\n",
    "\n",
    "from helpers import WorkflowViewer\n",
    "from cwl_loader import dump_cwl\n",
    "from pathlib import Path\n",
    "from IPython.display import Markdown, display\n",
    "import json"
   ]
  },
  {
   "cell_type": "markdown",
   "id": "9030f658",
   "metadata": {},
   "source": []
  },
  {
   "cell_type": "code",
   "execution_count": 2,
   "id": "472f0368",
   "metadata": {},
   "outputs": [
    {
     "name": "stderr",
     "output_type": "stream",
     "text": [
      "\u001b[32m2025-09-16 13:52:18.709\u001b[0m | \u001b[34m\u001b[1mDEBUG   \u001b[0m | \u001b[36mcwl_loader\u001b[0m:\u001b[36mload_cwl_from_location\u001b[0m:\u001b[36m196\u001b[0m - \u001b[34m\u001b[1mLoading CWL document from https://github.com/eoap/zarr-cloud-native-format/releases/download/0.3.0/app-water-bodies.0.3.0.cwl...\u001b[0m\n",
      "\u001b[32m2025-09-16 13:52:19.045\u001b[0m | \u001b[34m\u001b[1mDEBUG   \u001b[0m | \u001b[36mcwl_loader\u001b[0m:\u001b[36m_load_cwl_from_stream\u001b[0m:\u001b[36m199\u001b[0m - \u001b[34m\u001b[1mReading stream from https://github.com/eoap/zarr-cloud-native-format/releases/download/0.3.0/app-water-bodies.0.3.0.cwl...\u001b[0m\n",
      "\u001b[32m2025-09-16 13:52:19.156\u001b[0m | \u001b[34m\u001b[1mDEBUG   \u001b[0m | \u001b[36mcwl_loader\u001b[0m:\u001b[36mload_cwl_from_stream\u001b[0m:\u001b[36m173\u001b[0m - \u001b[34m\u001b[1mCWL data of type <class 'ruamel.yaml.comments.CommentedMap'> successfully loaded from stream\u001b[0m\n",
      "\u001b[32m2025-09-16 13:52:19.158\u001b[0m | \u001b[34m\u001b[1mDEBUG   \u001b[0m | \u001b[36mcwl_loader\u001b[0m:\u001b[36mload_cwl_from_yaml\u001b[0m:\u001b[36m124\u001b[0m - \u001b[34m\u001b[1mUpdating the model of type 'CommentedMap' to version 'v1.2'...\u001b[0m\n",
      "\u001b[32m2025-09-16 13:52:19.168\u001b[0m | \u001b[34m\u001b[1mDEBUG   \u001b[0m | \u001b[36mcwl_loader\u001b[0m:\u001b[36mload_cwl_from_yaml\u001b[0m:\u001b[36m135\u001b[0m - \u001b[34m\u001b[1mRaw CWL document successfully updated to v1.2! Now converting to the CWL model...\u001b[0m\n",
      "\u001b[32m2025-09-16 13:52:22.398\u001b[0m | \u001b[34m\u001b[1mDEBUG   \u001b[0m | \u001b[36mcwl_loader\u001b[0m:\u001b[36mload_cwl_from_yaml\u001b[0m:\u001b[36m143\u001b[0m - \u001b[34m\u001b[1mRaw CWL document successfully updated to v1.2! Now dereferencing the FQNs...\u001b[0m\n",
      "\u001b[32m2025-09-16 13:52:22.399\u001b[0m | \u001b[34m\u001b[1mDEBUG   \u001b[0m | \u001b[36mcwl_loader\u001b[0m:\u001b[36m_clean_process\u001b[0m:\u001b[36m66\u001b[0m - \u001b[34m\u001b[1m  Cleaning Workflow water-bodies...\u001b[0m\n",
      "\u001b[32m2025-09-16 13:52:22.401\u001b[0m | \u001b[34m\u001b[1mDEBUG   \u001b[0m | \u001b[36mcwl_loader\u001b[0m:\u001b[36m_clean_process\u001b[0m:\u001b[36m66\u001b[0m - \u001b[34m\u001b[1m  Cleaning CommandLineTool convert-search...\u001b[0m\n",
      "\u001b[32m2025-09-16 13:52:22.402\u001b[0m | \u001b[34m\u001b[1mDEBUG   \u001b[0m | \u001b[36mcwl_loader\u001b[0m:\u001b[36m_clean_process\u001b[0m:\u001b[36m66\u001b[0m - \u001b[34m\u001b[1m  Cleaning Workflow detect_water_body...\u001b[0m\n",
      "\u001b[32m2025-09-16 13:52:22.403\u001b[0m | \u001b[34m\u001b[1mDEBUG   \u001b[0m | \u001b[36mcwl_loader\u001b[0m:\u001b[36m_clean_process\u001b[0m:\u001b[36m66\u001b[0m - \u001b[34m\u001b[1m  Cleaning CommandLineTool crop...\u001b[0m\n",
      "\u001b[32m2025-09-16 13:52:22.404\u001b[0m | \u001b[34m\u001b[1mDEBUG   \u001b[0m | \u001b[36mcwl_loader\u001b[0m:\u001b[36m_clean_process\u001b[0m:\u001b[36m66\u001b[0m - \u001b[34m\u001b[1m  Cleaning CommandLineTool norm_diff...\u001b[0m\n",
      "\u001b[32m2025-09-16 13:52:22.405\u001b[0m | \u001b[34m\u001b[1mDEBUG   \u001b[0m | \u001b[36mcwl_loader\u001b[0m:\u001b[36m_clean_process\u001b[0m:\u001b[36m66\u001b[0m - \u001b[34m\u001b[1m  Cleaning CommandLineTool otsu...\u001b[0m\n",
      "\u001b[32m2025-09-16 13:52:22.406\u001b[0m | \u001b[34m\u001b[1mDEBUG   \u001b[0m | \u001b[36mcwl_loader\u001b[0m:\u001b[36m_clean_process\u001b[0m:\u001b[36m66\u001b[0m - \u001b[34m\u001b[1m  Cleaning CommandLineTool stac...\u001b[0m\n",
      "\u001b[32m2025-09-16 13:52:22.407\u001b[0m | \u001b[34m\u001b[1mDEBUG   \u001b[0m | \u001b[36mcwl_loader\u001b[0m:\u001b[36m_clean_process\u001b[0m:\u001b[36m66\u001b[0m - \u001b[34m\u001b[1m  Cleaning CommandLineTool stac-zarr...\u001b[0m\n",
      "\u001b[32m2025-09-16 13:52:22.408\u001b[0m | \u001b[34m\u001b[1mDEBUG   \u001b[0m | \u001b[36mcwl_loader\u001b[0m:\u001b[36mload_cwl_from_yaml\u001b[0m:\u001b[36m151\u001b[0m - \u001b[34m\u001b[1mCWL document successfully dereferenced!\u001b[0m\n",
      "\u001b[32m2025-09-16 13:52:22.409\u001b[0m | \u001b[34m\u001b[1mDEBUG   \u001b[0m | \u001b[36mcwl_loader\u001b[0m:\u001b[36m_load_cwl_from_stream\u001b[0m:\u001b[36m207\u001b[0m - \u001b[34m\u001b[1mStream from https://github.com/eoap/zarr-cloud-native-format/releases/download/0.3.0/app-water-bodies.0.3.0.cwl successfully load!\u001b[0m\n"
     ]
    }
   ],
   "source": [
    "wf = WorkflowViewer.from_file(\"https://github.com/eoap/zarr-cloud-native-format/releases/download/0.3.0/app-water-bodies.0.3.0.cwl\", \"water-bodies\")"
   ]
  },
  {
   "cell_type": "code",
   "execution_count": 3,
   "id": "1c33699a",
   "metadata": {},
   "outputs": [
    {
     "data": {
      "image/svg+xml": [
       "<?xml version=\"1.0\" encoding=\"UTF-8\" standalone=\"no\"?>\n",
       "<!DOCTYPE svg PUBLIC \"-//W3C//DTD SVG 1.1//EN\"\n",
       " \"http://www.w3.org/Graphics/SVG/1.1/DTD/svg11.dtd\">\n",
       "<!-- Generated by graphviz version 2.43.0 (0)\n",
       " -->\n",
       "<!-- Title: G Pages: 1 -->\n",
       "<svg width=\"928pt\" height=\"468pt\"\n",
       " viewBox=\"0.00 0.00 928.00 468.00\" xmlns=\"http://www.w3.org/2000/svg\" xmlns:xlink=\"http://www.w3.org/1999/xlink\">\n",
       "<g id=\"graph0\" class=\"graph\" transform=\"scale(1 1) rotate(0) translate(4 464)\">\n",
       "<title>G</title>\n",
       "<polygon fill=\"#eeeeee\" stroke=\"transparent\" points=\"-4,4 -4,-464 924,-464 924,4 -4,4\"/>\n",
       "<g id=\"clust1\" class=\"cluster\">\n",
       "<title>cluster_inputs</title>\n",
       "<polygon fill=\"#eeeeee\" stroke=\"black\" stroke-dasharray=\"5,2\" points=\"240,-376 240,-452 912,-452 912,-376 240,-376\"/>\n",
       "<text text-anchor=\"middle\" x=\"845.5\" y=\"-383.8\" font-family=\"Times,serif\" font-size=\"14.00\">Workflow Inputs</text>\n",
       "</g>\n",
       "<g id=\"clust2\" class=\"cluster\">\n",
       "<title>cluster_outputs</title>\n",
       "<polygon fill=\"#eeeeee\" stroke=\"black\" stroke-dasharray=\"5,2\" points=\"8,-8 8,-84 481,-84 481,-8 8,-8\"/>\n",
       "<text text-anchor=\"middle\" x=\"408.5\" y=\"-15.8\" font-family=\"Times,serif\" font-size=\"14.00\">Workflow Outputs</text>\n",
       "</g>\n",
       "<!-- water&#45;bodies/convert_search -->\n",
       "<g id=\"node1\" class=\"node\">\n",
       "<title>water&#45;bodies/convert_search</title>\n",
       "<polygon fill=\"lightgoldenrodyellow\" stroke=\"black\" points=\"276.5,-331.5 276.5,-367.5 461.5,-367.5 461.5,-331.5 276.5,-331.5\"/>\n",
       "<text text-anchor=\"middle\" x=\"369\" y=\"-345.8\" font-family=\"Times,serif\" font-size=\"14.00\">Gets the item self hrefs</text>\n",
       "</g>\n",
       "<!-- water&#45;bodies/stac -->\n",
       "<g id=\"node2\" class=\"node\">\n",
       "<title>water&#45;bodies/stac</title>\n",
       "<polygon fill=\"lightgoldenrodyellow\" stroke=\"black\" points=\"181.5,-185.5 181.5,-221.5 324.5,-221.5 324.5,-185.5 181.5,-185.5\"/>\n",
       "<text text-anchor=\"middle\" x=\"253\" y=\"-199.8\" font-family=\"Times,serif\" font-size=\"14.00\">water&#45;bodies/stac</text>\n",
       "</g>\n",
       "<!-- water&#45;bodies/convert_search&#45;&gt;water&#45;bodies/stac -->\n",
       "<g id=\"edge1\" class=\"edge\">\n",
       "<title>water&#45;bodies/convert_search&#45;&gt;water&#45;bodies/stac</title>\n",
       "<path fill=\"none\" stroke=\"black\" d=\"M315.9,-331.42C298.08,-323.14 279.77,-311.35 268,-295 254.81,-276.68 251.63,-250.9 251.41,-231.54\"/>\n",
       "<polygon fill=\"black\" stroke=\"black\" points=\"254.91,-231.58 251.56,-221.53 247.92,-231.48 254.91,-231.58\"/>\n",
       "</g>\n",
       "<!-- water&#45;bodies/water_bodies -->\n",
       "<g id=\"node3\" class=\"node\">\n",
       "<title>water&#45;bodies/water_bodies</title>\n",
       "<polygon fill=\"#f3cea1\" stroke=\"black\" points=\"277,-258.5 277,-294.5 701,-294.5 701,-258.5 277,-258.5\"/>\n",
       "<text text-anchor=\"middle\" x=\"489\" y=\"-272.8\" font-family=\"Times,serif\" font-size=\"14.00\">Water body detection based on NDWI and otsu threshold</text>\n",
       "</g>\n",
       "<!-- water&#45;bodies/convert_search&#45;&gt;water&#45;bodies/water_bodies -->\n",
       "<g id=\"edge4\" class=\"edge\">\n",
       "<title>water&#45;bodies/convert_search&#45;&gt;water&#45;bodies/water_bodies</title>\n",
       "<path fill=\"none\" stroke=\"black\" d=\"M391.88,-331.49C406.94,-321.99 426.99,-310.04 445.01,-299.79\"/>\n",
       "<polygon fill=\"black\" stroke=\"black\" points=\"447.21,-302.57 454.21,-294.61 443.77,-296.47 447.21,-302.57\"/>\n",
       "</g>\n",
       "<!-- water&#45;bodies/convert_search&#45;&gt;water&#45;bodies/water_bodies -->\n",
       "<g id=\"edge5\" class=\"edge\">\n",
       "<title>water&#45;bodies/convert_search&#45;&gt;water&#45;bodies/water_bodies</title>\n",
       "<path fill=\"none\" stroke=\"black\" d=\"M403.6,-331.49C420.51,-322.08 440.66,-310.26 457.18,-300.07\"/>\n",
       "<polygon fill=\"black\" stroke=\"black\" points=\"459.31,-302.87 465.95,-294.61 455.61,-296.93 459.31,-302.87\"/>\n",
       "</g>\n",
       "<!-- water&#45;bodies/stac_zarr -->\n",
       "<g id=\"node4\" class=\"node\">\n",
       "<title>water&#45;bodies/stac_zarr</title>\n",
       "<polygon fill=\"lightgoldenrodyellow\" stroke=\"black\" points=\"104.5,-112.5 104.5,-148.5 283.5,-148.5 283.5,-112.5 104.5,-112.5\"/>\n",
       "<text text-anchor=\"middle\" x=\"194\" y=\"-126.8\" font-family=\"Times,serif\" font-size=\"14.00\">water&#45;bodies/stac_zarr</text>\n",
       "</g>\n",
       "<!-- water&#45;bodies/stac&#45;&gt;water&#45;bodies/stac_zarr -->\n",
       "<g id=\"edge3\" class=\"edge\">\n",
       "<title>water&#45;bodies/stac&#45;&gt;water&#45;bodies/stac_zarr</title>\n",
       "<path fill=\"none\" stroke=\"black\" d=\"M238.72,-185.31C231.47,-176.59 222.54,-165.84 214.56,-156.25\"/>\n",
       "<polygon fill=\"black\" stroke=\"black\" points=\"217.23,-153.98 208.15,-148.53 211.85,-158.46 217.23,-153.98\"/>\n",
       "</g>\n",
       "<!-- water&#45;bodies/stac_catalog -->\n",
       "<g id=\"node9\" class=\"node\">\n",
       "<title>water&#45;bodies/stac_catalog</title>\n",
       "<polygon fill=\"#94ddf4\" stroke=\"black\" points=\"271.5,-39.5 271.5,-75.5 472.5,-75.5 472.5,-39.5 271.5,-39.5\"/>\n",
       "<text text-anchor=\"middle\" x=\"372\" y=\"-53.8\" font-family=\"Times,serif\" font-size=\"14.00\">water&#45;bodies/stac_catalog</text>\n",
       "</g>\n",
       "<!-- water&#45;bodies/stac&#45;&gt;water&#45;bodies/stac_catalog -->\n",
       "<g id=\"edge10\" class=\"edge\">\n",
       "<title>water&#45;bodies/stac&#45;&gt;water&#45;bodies/stac_catalog</title>\n",
       "<path fill=\"none\" stroke=\"black\" d=\"M267.12,-185.42C287.96,-160.19 327.1,-112.83 351.23,-83.64\"/>\n",
       "<polygon fill=\"black\" stroke=\"black\" points=\"354.23,-85.5 357.9,-75.56 348.83,-81.04 354.23,-85.5\"/>\n",
       "</g>\n",
       "<!-- water&#45;bodies/water_bodies&#45;&gt;water&#45;bodies/stac -->\n",
       "<g id=\"edge2\" class=\"edge\">\n",
       "<title>water&#45;bodies/water_bodies&#45;&gt;water&#45;bodies/stac</title>\n",
       "<path fill=\"none\" stroke=\"black\" d=\"M432.47,-258.49C398.57,-248.29 355.27,-235.27 319.7,-224.57\"/>\n",
       "<polygon fill=\"black\" stroke=\"black\" points=\"320.47,-221.14 309.88,-221.61 318.45,-227.85 320.47,-221.14\"/>\n",
       "</g>\n",
       "<!-- water&#45;bodies/zarr_stac_catalog -->\n",
       "<g id=\"node10\" class=\"node\">\n",
       "<title>water&#45;bodies/zarr_stac_catalog</title>\n",
       "<polygon fill=\"#94ddf4\" stroke=\"black\" points=\"16.5,-39.5 16.5,-75.5 253.5,-75.5 253.5,-39.5 16.5,-39.5\"/>\n",
       "<text text-anchor=\"middle\" x=\"135\" y=\"-53.8\" font-family=\"Times,serif\" font-size=\"14.00\">water&#45;bodies/zarr_stac_catalog</text>\n",
       "</g>\n",
       "<!-- water&#45;bodies/stac_zarr&#45;&gt;water&#45;bodies/zarr_stac_catalog -->\n",
       "<g id=\"edge11\" class=\"edge\">\n",
       "<title>water&#45;bodies/stac_zarr&#45;&gt;water&#45;bodies/zarr_stac_catalog</title>\n",
       "<path fill=\"none\" stroke=\"black\" d=\"M179.72,-112.31C172.47,-103.59 163.54,-92.84 155.56,-83.25\"/>\n",
       "<polygon fill=\"black\" stroke=\"black\" points=\"158.23,-80.98 149.15,-75.53 152.85,-85.46 158.23,-80.98\"/>\n",
       "</g>\n",
       "<!-- water&#45;bodies/search_request -->\n",
       "<g id=\"node5\" class=\"node\">\n",
       "<title>water&#45;bodies/search_request</title>\n",
       "<polygon fill=\"#94ddf4\" stroke=\"black\" points=\"248,-407.5 248,-443.5 470,-443.5 470,-407.5 248,-407.5\"/>\n",
       "<text text-anchor=\"middle\" x=\"359\" y=\"-421.8\" font-family=\"Times,serif\" font-size=\"14.00\">water&#45;bodies/search_request</text>\n",
       "</g>\n",
       "<!-- water&#45;bodies/search_request&#45;&gt;water&#45;bodies/convert_search -->\n",
       "<g id=\"edge6\" class=\"edge\">\n",
       "<title>water&#45;bodies/search_request&#45;&gt;water&#45;bodies/convert_search</title>\n",
       "<path fill=\"none\" stroke=\"black\" d=\"M361.32,-407.34C362.51,-398.56 363.98,-387.66 365.32,-377.77\"/>\n",
       "<polygon fill=\"black\" stroke=\"black\" points=\"368.82,-377.95 366.69,-367.57 361.89,-377.01 368.82,-377.95\"/>\n",
       "</g>\n",
       "<!-- water&#45;bodies/discovery -->\n",
       "<g id=\"node8\" class=\"node\">\n",
       "<title>water&#45;bodies/discovery</title>\n",
       "<ellipse fill=\"none\" stroke=\"black\" cx=\"603\" cy=\"-349.5\" rx=\"118.08\" ry=\"18\"/>\n",
       "<text text-anchor=\"middle\" x=\"603\" y=\"-345.8\" font-family=\"Times,serif\" font-size=\"14.00\">water&#45;bodies/discovery</text>\n",
       "</g>\n",
       "<!-- water&#45;bodies/search_request&#45;&gt;water&#45;bodies/discovery -->\n",
       "<g id=\"edge7\" class=\"edge\">\n",
       "<title>water&#45;bodies/search_request&#45;&gt;water&#45;bodies/discovery</title>\n",
       "<path fill=\"none\" stroke=\"black\" d=\"M396.53,-407.46C420.12,-397.25 451.4,-384.62 480,-376 492.48,-372.24 505.84,-368.84 518.98,-365.85\"/>\n",
       "<polygon fill=\"black\" stroke=\"black\" points=\"519.96,-369.21 528.97,-363.64 518.45,-362.38 519.96,-369.21\"/>\n",
       "</g>\n",
       "<!-- water&#45;bodies/stac_api_endpoint -->\n",
       "<g id=\"node6\" class=\"node\">\n",
       "<title>water&#45;bodies/stac_api_endpoint</title>\n",
       "<polygon fill=\"#94ddf4\" stroke=\"black\" points=\"488.5,-407.5 488.5,-443.5 729.5,-443.5 729.5,-407.5 488.5,-407.5\"/>\n",
       "<text text-anchor=\"middle\" x=\"609\" y=\"-421.8\" font-family=\"Times,serif\" font-size=\"14.00\">water&#45;bodies/stac_api_endpoint</text>\n",
       "</g>\n",
       "<!-- water&#45;bodies/stac_api_endpoint&#45;&gt;water&#45;bodies/discovery -->\n",
       "<g id=\"edge8\" class=\"edge\">\n",
       "<title>water&#45;bodies/stac_api_endpoint&#45;&gt;water&#45;bodies/discovery</title>\n",
       "<path fill=\"none\" stroke=\"black\" d=\"M607.61,-407.34C606.9,-398.56 606.01,-387.66 605.21,-377.77\"/>\n",
       "<polygon fill=\"black\" stroke=\"black\" points=\"608.68,-377.25 604.38,-367.57 601.7,-377.82 608.68,-377.25\"/>\n",
       "</g>\n",
       "<!-- water&#45;bodies/bands -->\n",
       "<g id=\"node7\" class=\"node\">\n",
       "<title>water&#45;bodies/bands</title>\n",
       "<polygon fill=\"#94ddf4\" stroke=\"black\" points=\"748,-407.5 748,-443.5 904,-443.5 904,-407.5 748,-407.5\"/>\n",
       "<text text-anchor=\"middle\" x=\"826\" y=\"-421.8\" font-family=\"Times,serif\" font-size=\"14.00\">water&#45;bodies/bands</text>\n",
       "</g>\n",
       "<!-- water&#45;bodies/bands&#45;&gt;water&#45;bodies/water_bodies -->\n",
       "<g id=\"edge9\" class=\"edge\">\n",
       "<title>water&#45;bodies/bands&#45;&gt;water&#45;bodies/water_bodies</title>\n",
       "<path fill=\"none\" stroke=\"black\" d=\"M813.44,-407.42C796.8,-386.1 765.41,-350.13 730,-331 701.55,-315.63 668.94,-304.67 637.09,-296.86\"/>\n",
       "<polygon fill=\"black\" stroke=\"black\" points=\"637.77,-293.43 627.23,-294.54 636.16,-300.24 637.77,-293.43\"/>\n",
       "</g>\n",
       "</g>\n",
       "</svg>\n"
      ],
      "text/plain": [
       "<graphviz.sources.Source at 0x7e0bf5ea52b0>"
      ]
     },
     "execution_count": 3,
     "metadata": {},
     "output_type": "execute_result"
    }
   ],
   "source": [
    "wf.plot()"
   ]
  },
  {
   "cell_type": "code",
   "execution_count": 4,
   "id": "67385bf6",
   "metadata": {},
   "outputs": [
    {
     "data": {
      "text/markdown": [
       "| Id | Type | Label | Doc |\n",
       "| --- | --- | --- | --- |\n",
       "| `stac_api_endpoint` | `https://raw.githubusercontent.com/eoap/schemas/main/experimental/api-endpoint.yaml#APIEndpoint` | STAC API endpoint | STAC API endpoint |\n",
       "| `search_request` | `https://raw.githubusercontent.com/eoap/schemas/main/experimental/discovery.yaml#STACSearchSettings` | STAC search request | STAC search request |\n",
       "| `bands` | `string[]` | bands used for the NDWI | bands used for the NDWI |\n"
      ],
      "text/plain": [
       "<IPython.core.display.Markdown object>"
      ]
     },
     "metadata": {},
     "output_type": "display_data"
    }
   ],
   "source": [
    "wf.display_inputs()"
   ]
  },
  {
   "cell_type": "code",
   "execution_count": 5,
   "id": "846ae661",
   "metadata": {},
   "outputs": [
    {
     "data": {
      "text/markdown": [
       "| Id | Runs | Label | Doc |\n",
       "| --- | --- | --- | --- |\n",
       "| `discovery` | `l` | Discovery Step | None |\n",
       "| `convert_search` | `#convert-search` | Convert Search Step | None |\n",
       "| `water_bodies` | `#detect_water_body` | Water bodies detection based on NDWI and otsu threshold | None |\n",
       "| `stac` | `#stac` | Create a STAC catalog with COG outputs | None |\n",
       "| `stac_zarr` | `#stac-zarr` | Create a STAC Zarr catalog | None |\n"
      ],
      "text/plain": [
       "<IPython.core.display.Markdown object>"
      ]
     },
     "metadata": {},
     "output_type": "display_data"
    }
   ],
   "source": [
    "wf.display_steps()"
   ]
  },
  {
   "cell_type": "code",
   "execution_count": 6,
   "id": "68cfb9b6",
   "metadata": {},
   "outputs": [
    {
     "data": {
      "text/markdown": [
       "| Id | Type | Label | Doc |\n",
       "| --- | --- | --- | --- |\n",
       "| `zarr_stac_catalog` | `Directory` | None | None |\n",
       "| `stac_catalog` | `Directory` | None | None |\n"
      ],
      "text/plain": [
       "<IPython.core.display.Markdown object>"
      ]
     },
     "metadata": {},
     "output_type": "display_data"
    }
   ],
   "source": [
    "wf.display_outputs()\n"
   ]
  },
  {
   "cell_type": "code",
   "execution_count": 7,
   "id": "f15ac0aa",
   "metadata": {},
   "outputs": [
    {
     "ename": "HTTPError",
     "evalue": "HTTP Error 400: Bad Request",
     "output_type": "error",
     "traceback": [
      "\u001b[31m---------------------------------------------------------------------------\u001b[39m",
      "\u001b[31mHTTPError\u001b[39m                                 Traceback (most recent call last)",
      "\u001b[36mCell\u001b[39m\u001b[36m \u001b[39m\u001b[32mIn[7]\u001b[39m\u001b[32m, line 1\u001b[39m\n\u001b[32m----> \u001b[39m\u001b[32m1\u001b[39m \u001b[43mwf\u001b[49m\u001b[43m.\u001b[49m\u001b[43mdisplay_components_diagram\u001b[49m\u001b[43m(\u001b[49m\u001b[43m)\u001b[49m\n",
      "\u001b[36mFile \u001b[39m\u001b[32m/data/work/github/eoap/zarr-cloud-native-format/docs/helpers.py:75\u001b[39m, in \u001b[36mWorkflowViewer.display_components_diagram\u001b[39m\u001b[34m(self)\u001b[39m\n\u001b[32m     72\u001b[39m encoded = deflate_and_encode(clear_output)\n\u001b[32m     73\u001b[39m diagram_url = \u001b[33mf\u001b[39m\u001b[33m\"\u001b[39m\u001b[33mhttps://img.plantuml.biz/plantuml/png/\u001b[39m\u001b[38;5;132;01m{\u001b[39;00mencoded\u001b[38;5;132;01m}\u001b[39;00m\u001b[33m\"\u001b[39m\n\u001b[32m---> \u001b[39m\u001b[32m75\u001b[39m \u001b[38;5;28;01mwith\u001b[39;00m \u001b[43murlopen\u001b[49m\u001b[43m(\u001b[49m\u001b[43mdiagram_url\u001b[49m\u001b[43m)\u001b[49m \u001b[38;5;28;01mas\u001b[39;00m url:\n\u001b[32m     76\u001b[39m     img = Image.open(BytesIO(url.read()))\n\u001b[32m     77\u001b[39m display(img)\n",
      "\u001b[36mFile \u001b[39m\u001b[32m/home/linuxbrew/.linuxbrew/Cellar/python@3.13/3.13.1/lib/python3.13/urllib/request.py:189\u001b[39m, in \u001b[36murlopen\u001b[39m\u001b[34m(url, data, timeout, context)\u001b[39m\n\u001b[32m    187\u001b[39m \u001b[38;5;28;01melse\u001b[39;00m:\n\u001b[32m    188\u001b[39m     opener = _opener\n\u001b[32m--> \u001b[39m\u001b[32m189\u001b[39m \u001b[38;5;28;01mreturn\u001b[39;00m \u001b[43mopener\u001b[49m\u001b[43m.\u001b[49m\u001b[43mopen\u001b[49m\u001b[43m(\u001b[49m\u001b[43murl\u001b[49m\u001b[43m,\u001b[49m\u001b[43m \u001b[49m\u001b[43mdata\u001b[49m\u001b[43m,\u001b[49m\u001b[43m \u001b[49m\u001b[43mtimeout\u001b[49m\u001b[43m)\u001b[49m\n",
      "\u001b[36mFile \u001b[39m\u001b[32m/home/linuxbrew/.linuxbrew/Cellar/python@3.13/3.13.1/lib/python3.13/urllib/request.py:495\u001b[39m, in \u001b[36mOpenerDirector.open\u001b[39m\u001b[34m(self, fullurl, data, timeout)\u001b[39m\n\u001b[32m    493\u001b[39m \u001b[38;5;28;01mfor\u001b[39;00m processor \u001b[38;5;129;01min\u001b[39;00m \u001b[38;5;28mself\u001b[39m.process_response.get(protocol, []):\n\u001b[32m    494\u001b[39m     meth = \u001b[38;5;28mgetattr\u001b[39m(processor, meth_name)\n\u001b[32m--> \u001b[39m\u001b[32m495\u001b[39m     response = \u001b[43mmeth\u001b[49m\u001b[43m(\u001b[49m\u001b[43mreq\u001b[49m\u001b[43m,\u001b[49m\u001b[43m \u001b[49m\u001b[43mresponse\u001b[49m\u001b[43m)\u001b[49m\n\u001b[32m    497\u001b[39m \u001b[38;5;28;01mreturn\u001b[39;00m response\n",
      "\u001b[36mFile \u001b[39m\u001b[32m/home/linuxbrew/.linuxbrew/Cellar/python@3.13/3.13.1/lib/python3.13/urllib/request.py:604\u001b[39m, in \u001b[36mHTTPErrorProcessor.http_response\u001b[39m\u001b[34m(self, request, response)\u001b[39m\n\u001b[32m    601\u001b[39m \u001b[38;5;66;03m# According to RFC 2616, \"2xx\" code indicates that the client's\u001b[39;00m\n\u001b[32m    602\u001b[39m \u001b[38;5;66;03m# request was successfully received, understood, and accepted.\u001b[39;00m\n\u001b[32m    603\u001b[39m \u001b[38;5;28;01mif\u001b[39;00m \u001b[38;5;129;01mnot\u001b[39;00m (\u001b[32m200\u001b[39m <= code < \u001b[32m300\u001b[39m):\n\u001b[32m--> \u001b[39m\u001b[32m604\u001b[39m     response = \u001b[38;5;28;43mself\u001b[39;49m\u001b[43m.\u001b[49m\u001b[43mparent\u001b[49m\u001b[43m.\u001b[49m\u001b[43merror\u001b[49m\u001b[43m(\u001b[49m\n\u001b[32m    605\u001b[39m \u001b[43m        \u001b[49m\u001b[33;43m'\u001b[39;49m\u001b[33;43mhttp\u001b[39;49m\u001b[33;43m'\u001b[39;49m\u001b[43m,\u001b[49m\u001b[43m \u001b[49m\u001b[43mrequest\u001b[49m\u001b[43m,\u001b[49m\u001b[43m \u001b[49m\u001b[43mresponse\u001b[49m\u001b[43m,\u001b[49m\u001b[43m \u001b[49m\u001b[43mcode\u001b[49m\u001b[43m,\u001b[49m\u001b[43m \u001b[49m\u001b[43mmsg\u001b[49m\u001b[43m,\u001b[49m\u001b[43m \u001b[49m\u001b[43mhdrs\u001b[49m\u001b[43m)\u001b[49m\n\u001b[32m    607\u001b[39m \u001b[38;5;28;01mreturn\u001b[39;00m response\n",
      "\u001b[36mFile \u001b[39m\u001b[32m/home/linuxbrew/.linuxbrew/Cellar/python@3.13/3.13.1/lib/python3.13/urllib/request.py:533\u001b[39m, in \u001b[36mOpenerDirector.error\u001b[39m\u001b[34m(self, proto, *args)\u001b[39m\n\u001b[32m    531\u001b[39m \u001b[38;5;28;01mif\u001b[39;00m http_err:\n\u001b[32m    532\u001b[39m     args = (\u001b[38;5;28mdict\u001b[39m, \u001b[33m'\u001b[39m\u001b[33mdefault\u001b[39m\u001b[33m'\u001b[39m, \u001b[33m'\u001b[39m\u001b[33mhttp_error_default\u001b[39m\u001b[33m'\u001b[39m) + orig_args\n\u001b[32m--> \u001b[39m\u001b[32m533\u001b[39m     \u001b[38;5;28;01mreturn\u001b[39;00m \u001b[38;5;28;43mself\u001b[39;49m\u001b[43m.\u001b[49m\u001b[43m_call_chain\u001b[49m\u001b[43m(\u001b[49m\u001b[43m*\u001b[49m\u001b[43margs\u001b[49m\u001b[43m)\u001b[49m\n",
      "\u001b[36mFile \u001b[39m\u001b[32m/home/linuxbrew/.linuxbrew/Cellar/python@3.13/3.13.1/lib/python3.13/urllib/request.py:466\u001b[39m, in \u001b[36mOpenerDirector._call_chain\u001b[39m\u001b[34m(self, chain, kind, meth_name, *args)\u001b[39m\n\u001b[32m    464\u001b[39m \u001b[38;5;28;01mfor\u001b[39;00m handler \u001b[38;5;129;01min\u001b[39;00m handlers:\n\u001b[32m    465\u001b[39m     func = \u001b[38;5;28mgetattr\u001b[39m(handler, meth_name)\n\u001b[32m--> \u001b[39m\u001b[32m466\u001b[39m     result = \u001b[43mfunc\u001b[49m\u001b[43m(\u001b[49m\u001b[43m*\u001b[49m\u001b[43margs\u001b[49m\u001b[43m)\u001b[49m\n\u001b[32m    467\u001b[39m     \u001b[38;5;28;01mif\u001b[39;00m result \u001b[38;5;129;01mis\u001b[39;00m \u001b[38;5;129;01mnot\u001b[39;00m \u001b[38;5;28;01mNone\u001b[39;00m:\n\u001b[32m    468\u001b[39m         \u001b[38;5;28;01mreturn\u001b[39;00m result\n",
      "\u001b[36mFile \u001b[39m\u001b[32m/home/linuxbrew/.linuxbrew/Cellar/python@3.13/3.13.1/lib/python3.13/urllib/request.py:613\u001b[39m, in \u001b[36mHTTPDefaultErrorHandler.http_error_default\u001b[39m\u001b[34m(self, req, fp, code, msg, hdrs)\u001b[39m\n\u001b[32m    612\u001b[39m \u001b[38;5;28;01mdef\u001b[39;00m\u001b[38;5;250m \u001b[39m\u001b[34mhttp_error_default\u001b[39m(\u001b[38;5;28mself\u001b[39m, req, fp, code, msg, hdrs):\n\u001b[32m--> \u001b[39m\u001b[32m613\u001b[39m     \u001b[38;5;28;01mraise\u001b[39;00m HTTPError(req.full_url, code, msg, hdrs, fp)\n",
      "\u001b[31mHTTPError\u001b[39m: HTTP Error 400: Bad Request"
     ]
    }
   ],
   "source": [
    "wf.display_components_diagram()"
   ]
  },
  {
   "cell_type": "code",
   "execution_count": null,
   "id": "7dee5f4c",
   "metadata": {},
   "outputs": [],
   "source": []
  }
 ],
 "metadata": {
  "kernelspec": {
   "display_name": "zarr-cloud-native-format (3.13.1)",
   "language": "python",
   "name": "python3"
  },
  "language_info": {
   "codemirror_mode": {
    "name": "ipython",
    "version": 3
   },
   "file_extension": ".py",
   "mimetype": "text/x-python",
   "name": "python",
   "nbconvert_exporter": "python",
   "pygments_lexer": "ipython3",
   "version": "3.13.1"
  }
 },
 "nbformat": 4,
 "nbformat_minor": 5
}
