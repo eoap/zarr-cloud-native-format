{
 "cells": [
  {
   "cell_type": "code",
   "execution_count": 1,
   "metadata": {},
   "outputs": [],
   "source": [
    "import pystac\n",
    "import os\n",
    "from pystac.extensions.datacube import DatacubeExtension\n",
    "import xarray as xr\n",
    "from cwltool.main import main\n",
    "import nest_asyncio\n",
    "import argparse\n",
    "from io import StringIO\n",
    "import yaml\n",
    "import json\n",
    "\n",
    "nest_asyncio.apply()"
   ]
  },
  {
   "cell_type": "code",
   "execution_count": 2,
   "metadata": {},
   "outputs": [],
   "source": [
    "params = {\n",
    "    \"stac_items\": [\n",
    "        \"https://earth-search.aws.element84.com/v0/collections/sentinel-s2-l2a-cogs/items/S2B_10TFK_20210623_0_L2A\",\n",
    "        \"https://earth-search.aws.element84.com/v0/collections/sentinel-s2-l2a-cogs/items/S2A_10TFK_20210708_0_L2A\",\n",
    "        \"https://earth-search.aws.element84.com/v0/collections/sentinel-s2-l2a-cogs/items/S2B_10TFK_20210713_0_L2A\",\n",
    "        \"https://earth-search.aws.element84.com/v0/collections/sentinel-s2-l2a-cogs/items/S2A_10TFK_20210718_0_L2A\",\n",
    "        \"https://earth-search.aws.element84.com/v0/collections/sentinel-s2-l2a-cogs/items/S2B_10TFK_20210723_0_L2A\",\n",
    "        \"https://earth-search.aws.element84.com/v0/collections/sentinel-s2-l2a-cogs/items/S2A_10TFK_20210728_0_L2A\",\n",
    "    ],\n",
    "    \"bands\": [\"green\", \"nir\"],\n",
    "    \"aoi\": \"-121.399,39.834,-120.74,40.472\",\n",
    "    \"epsg\": \"EPSG:4326\",\n",
    "}\n",
    "\n",
    "\n",
    "with open(\"params.yaml\", \"w\") as file:\n",
    "    print(yaml.dump(params), file=file)"
   ]
  },
  {
   "cell_type": "code",
   "execution_count": 6,
   "metadata": {},
   "outputs": [],
   "source": [
    "parsed_args = argparse.Namespace(\n",
    "    podman=False,\n",
    "    parallel=True,\n",
    "    validate=False,\n",
    "    debug=False,\n",
    "    outdir=\"./runs\",\n",
    "    workflow=\"https://github.com/eoap/zarr-cloud-native-format/releases/download/0.1.0/app-water-bodies.0.1.0.cwl#water-bodies\",\n",
    "    job_order=[\"params.yaml\"],\n",
    ")\n",
    "\n",
    "stream_out = StringIO()\n",
    "stream_err = StringIO()\n",
    "\n",
    "res = main(\n",
    "    args=parsed_args,\n",
    "    stdout=stream_out,\n",
    "    stderr=stream_err,\n",
    ")\n",
    "\n",
    "assert res == 0"
   ]
  },
  {
   "cell_type": "code",
   "execution_count": 7,
   "metadata": {},
   "outputs": [
    {
     "name": "stdout",
     "output_type": "stream",
     "text": [
      "{\n",
      "    \"stac_catalog\": {\n",
      "        \"location\": \"file:///data/work/eoap/zarr-cloud-native-format/notebooks/runs/t8v3tbr_\",\n",
      "        \"basename\": \"t8v3tbr_\",\n",
      "        \"class\": \"Directory\",\n",
      "        \"listing\": [\n",
      "            {\n",
      "                \"class\": \"Directory\",\n",
      "                \"location\": \"file:///data/work/eoap/zarr-cloud-native-format/notebooks/runs/t8v3tbr_/S2B_10TFK_20210723_0_L2A\",\n",
      "                \"basename\": \"S2B_10TFK_20210723_0_L2A\",\n",
      "                \"listing\": [\n",
      "                    {\n",
      "                        \"class\": \"File\",\n",
      "                        \"location\": \"file:///data/work/eoap/zarr-cloud-native-format/notebooks/runs/t8v3tbr_/S2B_10TFK_20210723_0_L2A/S2B_10TFK_20210723_0_L2A.json\",\n",
      "                        \"basename\": \"S2B_10TFK_20210723_0_L2A.json\",\n",
      "                        \"size\": 2767,\n",
      "                        \"checksum\": \"sha1$671f7bbaf676685866d8f91211c22b2accbf47dc\",\n",
      "                        \"path\": \"/data/work/eoap/zarr-cloud-native-format/notebooks/runs/t8v3tbr_/S2B_10TFK_20210723_0_L2A/S2B_10TFK_20210723_0_L2A.json\"\n",
      "                    },\n",
      "                    {\n",
      "                        \"class\": \"File\",\n",
      "                        \"location\": \"file:///data/work/eoap/zarr-cloud-native-format/notebooks/runs/t8v3tbr_/S2B_10TFK_20210723_0_L2A/otsu.tif\",\n",
      "                        \"basename\": \"otsu.tif\",\n",
      "                        \"size\": 802391,\n",
      "                        \"checksum\": \"sha1$29b34adbeda8efe4c45b58fd941999908dc20992\",\n",
      "                        \"path\": \"/data/work/eoap/zarr-cloud-native-format/notebooks/runs/t8v3tbr_/S2B_10TFK_20210723_0_L2A/otsu.tif\"\n",
      "                    }\n",
      "                ],\n",
      "                \"path\": \"/data/work/eoap/zarr-cloud-native-format/notebooks/runs/t8v3tbr_/S2B_10TFK_20210723_0_L2A\"\n",
      "            },\n",
      "            {\n",
      "                \"class\": \"File\",\n",
      "                \"location\": \"file:///data/work/eoap/zarr-cloud-native-format/notebooks/runs/t8v3tbr_/catalog.json\",\n",
      "                \"basename\": \"catalog.json\",\n",
      "                \"size\": 641,\n",
      "                \"checksum\": \"sha1$5cf91be3787b28bf8e59590af8082ac424cf34fa\",\n",
      "                \"path\": \"/data/work/eoap/zarr-cloud-native-format/notebooks/runs/t8v3tbr_/catalog.json\"\n",
      "            },\n",
      "            {\n",
      "                \"class\": \"Directory\",\n",
      "                \"location\": \"file:///data/work/eoap/zarr-cloud-native-format/notebooks/runs/t8v3tbr_/S2A_10TFK_20210708_0_L2A\",\n",
      "                \"basename\": \"S2A_10TFK_20210708_0_L2A\",\n",
      "                \"listing\": [\n",
      "                    {\n",
      "                        \"class\": \"File\",\n",
      "                        \"location\": \"file:///data/work/eoap/zarr-cloud-native-format/notebooks/runs/t8v3tbr_/S2A_10TFK_20210708_0_L2A/S2A_10TFK_20210708_0_L2A.json\",\n",
      "                        \"basename\": \"S2A_10TFK_20210708_0_L2A.json\",\n",
      "                        \"size\": 2767,\n",
      "                        \"checksum\": \"sha1$af1cf36f303cb5ab8be39992f9b3cbd1717ebea2\",\n",
      "                        \"path\": \"/data/work/eoap/zarr-cloud-native-format/notebooks/runs/t8v3tbr_/S2A_10TFK_20210708_0_L2A/S2A_10TFK_20210708_0_L2A.json\"\n",
      "                    },\n",
      "                    {\n",
      "                        \"class\": \"File\",\n",
      "                        \"location\": \"file:///data/work/eoap/zarr-cloud-native-format/notebooks/runs/t8v3tbr_/S2A_10TFK_20210708_0_L2A/otsu.tif\",\n",
      "                        \"basename\": \"otsu.tif\",\n",
      "                        \"size\": 289288,\n",
      "                        \"checksum\": \"sha1$210598cf619d49eabfdc24414bd445f59668f3bd\",\n",
      "                        \"path\": \"/data/work/eoap/zarr-cloud-native-format/notebooks/runs/t8v3tbr_/S2A_10TFK_20210708_0_L2A/otsu.tif\"\n",
      "                    }\n",
      "                ],\n",
      "                \"path\": \"/data/work/eoap/zarr-cloud-native-format/notebooks/runs/t8v3tbr_/S2A_10TFK_20210708_0_L2A\"\n",
      "            },\n",
      "            {\n",
      "                \"class\": \"Directory\",\n",
      "                \"location\": \"file:///data/work/eoap/zarr-cloud-native-format/notebooks/runs/t8v3tbr_/S2B_10TFK_20210713_0_L2A\",\n",
      "                \"basename\": \"S2B_10TFK_20210713_0_L2A\",\n",
      "                \"listing\": [\n",
      "                    {\n",
      "                        \"class\": \"File\",\n",
      "                        \"location\": \"file:///data/work/eoap/zarr-cloud-native-format/notebooks/runs/t8v3tbr_/S2B_10TFK_20210713_0_L2A/S2B_10TFK_20210713_0_L2A.json\",\n",
      "                        \"basename\": \"S2B_10TFK_20210713_0_L2A.json\",\n",
      "                        \"size\": 2766,\n",
      "                        \"checksum\": \"sha1$d86137776200f52afebdef6940c10adba085d7b2\",\n",
      "                        \"path\": \"/data/work/eoap/zarr-cloud-native-format/notebooks/runs/t8v3tbr_/S2B_10TFK_20210713_0_L2A/S2B_10TFK_20210713_0_L2A.json\"\n",
      "                    },\n",
      "                    {\n",
      "                        \"class\": \"File\",\n",
      "                        \"location\": \"file:///data/work/eoap/zarr-cloud-native-format/notebooks/runs/t8v3tbr_/S2B_10TFK_20210713_0_L2A/otsu.tif\",\n",
      "                        \"basename\": \"otsu.tif\",\n",
      "                        \"size\": 290099,\n",
      "                        \"checksum\": \"sha1$8cb131413518c30be6ba485ea61764491444cde5\",\n",
      "                        \"path\": \"/data/work/eoap/zarr-cloud-native-format/notebooks/runs/t8v3tbr_/S2B_10TFK_20210713_0_L2A/otsu.tif\"\n",
      "                    }\n",
      "                ],\n",
      "                \"path\": \"/data/work/eoap/zarr-cloud-native-format/notebooks/runs/t8v3tbr_/S2B_10TFK_20210713_0_L2A\"\n",
      "            }\n",
      "        ],\n",
      "        \"path\": \"/data/work/eoap/zarr-cloud-native-format/notebooks/runs/t8v3tbr_\"\n",
      "    },\n",
      "    \"zarr_stac_catalog\": {\n",
      "        \"location\": \"file:///data/work/eoap/zarr-cloud-native-format/notebooks/runs/wjmox1z8\",\n",
      "        \"basename\": \"wjmox1z8\",\n",
      "        \"class\": \"Directory\",\n",
      "        \"listing\": [\n",
      "            {\n",
      "                \"class\": \"Directory\",\n",
      "                \"location\": \"file:///data/work/eoap/zarr-cloud-native-format/notebooks/runs/wjmox1z8/water-bodies\",\n",
      "                \"basename\": \"water-bodies\",\n",
      "                \"listing\": [\n",
      "                    {\n",
      "                        \"class\": \"Directory\",\n",
      "                        \"location\": \"file:///data/work/eoap/zarr-cloud-native-format/notebooks/runs/wjmox1z8/water-bodies/result.zarr\",\n",
      "                        \"basename\": \"result.zarr\",\n",
      "                        \"listing\": [\n",
      "                            {\n",
      "                                \"class\": \"File\",\n",
      "                                \"location\": \"file:///data/work/eoap/zarr-cloud-native-format/notebooks/runs/wjmox1z8/water-bodies/result.zarr/.zgroup\",\n",
      "                                \"basename\": \".zgroup\",\n",
      "                                \"size\": 24,\n",
      "                                \"checksum\": \"sha1$63b0fcd7748c79d0de97705fb1b8ed5fcc5ac788\",\n",
      "                                \"path\": \"/data/work/eoap/zarr-cloud-native-format/notebooks/runs/wjmox1z8/water-bodies/result.zarr/.zgroup\"\n",
      "                            },\n",
      "                            {\n",
      "                                \"class\": \"Directory\",\n",
      "                                \"location\": \"file:///data/work/eoap/zarr-cloud-native-format/notebooks/runs/wjmox1z8/water-bodies/result.zarr/data\",\n",
      "                                \"basename\": \"data\",\n",
      "                                \"listing\": [\n",
      "                                    {\n",
      "                                        \"class\": \"File\",\n",
      "                                        \"location\": \"file:///data/work/eoap/zarr-cloud-native-format/notebooks/runs/wjmox1z8/water-bodies/result.zarr/data/2.0.0\",\n",
      "                                        \"basename\": \"2.0.0\",\n",
      "                                        \"size\": 1493624,\n",
      "                                        \"checksum\": \"sha1$efd687a3db600c3f6b1df0af271514f8e83736c1\",\n",
      "                                        \"path\": \"/data/work/eoap/zarr-cloud-native-format/notebooks/runs/wjmox1z8/water-bodies/result.zarr/data/2.0.0\"\n",
      "                                    },\n",
      "                                    {\n",
      "                                        \"class\": \"File\",\n",
      "                                        \"location\": \"file:///data/work/eoap/zarr-cloud-native-format/notebooks/runs/wjmox1z8/water-bodies/result.zarr/data/1.0.0\",\n",
      "                                        \"basename\": \"1.0.0\",\n",
      "                                        \"size\": 271413,\n",
      "                                        \"checksum\": \"sha1$f59f1c4fd0985b0c3ad9aa2f5b568a91148f08b0\",\n",
      "                                        \"path\": \"/data/work/eoap/zarr-cloud-native-format/notebooks/runs/wjmox1z8/water-bodies/result.zarr/data/1.0.0\"\n",
      "                                    },\n",
      "                                    {\n",
      "                                        \"class\": \"File\",\n",
      "                                        \"location\": \"file:///data/work/eoap/zarr-cloud-native-format/notebooks/runs/wjmox1z8/water-bodies/result.zarr/data/.zarray\",\n",
      "                                        \"basename\": \".zarray\",\n",
      "                                        \"size\": 368,\n",
      "                                        \"checksum\": \"sha1$dbd81d3c2c60222fc1c75b9e4d3bcc601f538b58\",\n",
      "                                        \"path\": \"/data/work/eoap/zarr-cloud-native-format/notebooks/runs/wjmox1z8/water-bodies/result.zarr/data/.zarray\"\n",
      "                                    },\n",
      "                                    {\n",
      "                                        \"class\": \"File\",\n",
      "                                        \"location\": \"file:///data/work/eoap/zarr-cloud-native-format/notebooks/runs/wjmox1z8/water-bodies/result.zarr/data/.zattrs\",\n",
      "                                        \"basename\": \".zattrs\",\n",
      "                                        \"size\": 131,\n",
      "                                        \"checksum\": \"sha1$d109d5f169850280483a95161bfceefcbe4f0843\",\n",
      "                                        \"path\": \"/data/work/eoap/zarr-cloud-native-format/notebooks/runs/wjmox1z8/water-bodies/result.zarr/data/.zattrs\"\n",
      "                                    },\n",
      "                                    {\n",
      "                                        \"class\": \"File\",\n",
      "                                        \"location\": \"file:///data/work/eoap/zarr-cloud-native-format/notebooks/runs/wjmox1z8/water-bodies/result.zarr/data/0.0.0\",\n",
      "                                        \"basename\": \"0.0.0\",\n",
      "                                        \"size\": 271552,\n",
      "                                        \"checksum\": \"sha1$b4a54b1ce5cda698bbac711e1be3a2d3c1e84fe5\",\n",
      "                                        \"path\": \"/data/work/eoap/zarr-cloud-native-format/notebooks/runs/wjmox1z8/water-bodies/result.zarr/data/0.0.0\"\n",
      "                                    }\n",
      "                                ],\n",
      "                                \"path\": \"/data/work/eoap/zarr-cloud-native-format/notebooks/runs/wjmox1z8/water-bodies/result.zarr/data\"\n",
      "                            },\n",
      "                            {\n",
      "                                \"class\": \"Directory\",\n",
      "                                \"location\": \"file:///data/work/eoap/zarr-cloud-native-format/notebooks/runs/wjmox1z8/water-bodies/result.zarr/y\",\n",
      "                                \"basename\": \"y\",\n",
      "                                \"listing\": [\n",
      "                                    {\n",
      "                                        \"class\": \"File\",\n",
      "                                        \"location\": \"file:///data/work/eoap/zarr-cloud-native-format/notebooks/runs/wjmox1z8/water-bodies/result.zarr/y/0\",\n",
      "                                        \"basename\": \"0\",\n",
      "                                        \"size\": 1202,\n",
      "                                        \"checksum\": \"sha1$7bd75559149ad345b11d727370a432635bb6d35f\",\n",
      "                                        \"path\": \"/data/work/eoap/zarr-cloud-native-format/notebooks/runs/wjmox1z8/water-bodies/result.zarr/y/0\"\n",
      "                                    },\n",
      "                                    {\n",
      "                                        \"class\": \"File\",\n",
      "                                        \"location\": \"file:///data/work/eoap/zarr-cloud-native-format/notebooks/runs/wjmox1z8/water-bodies/result.zarr/y/.zarray\",\n",
      "                                        \"basename\": \".zarray\",\n",
      "                                        \"size\": 319,\n",
      "                                        \"checksum\": \"sha1$335913ca1227c22dedb5ada2d5a339c8f15812f4\",\n",
      "                                        \"path\": \"/data/work/eoap/zarr-cloud-native-format/notebooks/runs/wjmox1z8/water-bodies/result.zarr/y/.zarray\"\n",
      "                                    },\n",
      "                                    {\n",
      "                                        \"class\": \"File\",\n",
      "                                        \"location\": \"file:///data/work/eoap/zarr-cloud-native-format/notebooks/runs/wjmox1z8/water-bodies/result.zarr/y/.zattrs\",\n",
      "                                        \"basename\": \".zattrs\",\n",
      "                                        \"size\": 120,\n",
      "                                        \"checksum\": \"sha1$5ae24b57e110447f47c66ac0f2b4518a789c8b7b\",\n",
      "                                        \"path\": \"/data/work/eoap/zarr-cloud-native-format/notebooks/runs/wjmox1z8/water-bodies/result.zarr/y/.zattrs\"\n",
      "                                    }\n",
      "                                ],\n",
      "                                \"path\": \"/data/work/eoap/zarr-cloud-native-format/notebooks/runs/wjmox1z8/water-bodies/result.zarr/y\"\n",
      "                            },\n",
      "                            {\n",
      "                                \"class\": \"Directory\",\n",
      "                                \"location\": \"file:///data/work/eoap/zarr-cloud-native-format/notebooks/runs/wjmox1z8/water-bodies/result.zarr/time\",\n",
      "                                \"basename\": \"time\",\n",
      "                                \"listing\": [\n",
      "                                    {\n",
      "                                        \"class\": \"File\",\n",
      "                                        \"location\": \"file:///data/work/eoap/zarr-cloud-native-format/notebooks/runs/wjmox1z8/water-bodies/result.zarr/time/0\",\n",
      "                                        \"basename\": \"0\",\n",
      "                                        \"size\": 40,\n",
      "                                        \"checksum\": \"sha1$20798507e6c04e5e62131ad95fedcfa1110fdc2e\",\n",
      "                                        \"path\": \"/data/work/eoap/zarr-cloud-native-format/notebooks/runs/wjmox1z8/water-bodies/result.zarr/time/0\"\n",
      "                                    },\n",
      "                                    {\n",
      "                                        \"class\": \"File\",\n",
      "                                        \"location\": \"file:///data/work/eoap/zarr-cloud-native-format/notebooks/runs/wjmox1z8/water-bodies/result.zarr/time/.zarray\",\n",
      "                                        \"basename\": \".zarray\",\n",
      "                                        \"size\": 312,\n",
      "                                        \"checksum\": \"sha1$98901666405fc7b7193bf3fea9d696eb74918f3b\",\n",
      "                                        \"path\": \"/data/work/eoap/zarr-cloud-native-format/notebooks/runs/wjmox1z8/water-bodies/result.zarr/time/.zarray\"\n",
      "                                    },\n",
      "                                    {\n",
      "                                        \"class\": \"File\",\n",
      "                                        \"location\": \"file:///data/work/eoap/zarr-cloud-native-format/notebooks/runs/wjmox1z8/water-bodies/result.zarr/time/.zattrs\",\n",
      "                                        \"basename\": \".zattrs\",\n",
      "                                        \"size\": 140,\n",
      "                                        \"checksum\": \"sha1$5bd00c5b4ec02f86efc96c9f5170273e4e1df5a6\",\n",
      "                                        \"path\": \"/data/work/eoap/zarr-cloud-native-format/notebooks/runs/wjmox1z8/water-bodies/result.zarr/time/.zattrs\"\n",
      "                                    }\n",
      "                                ],\n",
      "                                \"path\": \"/data/work/eoap/zarr-cloud-native-format/notebooks/runs/wjmox1z8/water-bodies/result.zarr/time\"\n",
      "                            },\n",
      "                            {\n",
      "                                \"class\": \"Directory\",\n",
      "                                \"location\": \"file:///data/work/eoap/zarr-cloud-native-format/notebooks/runs/wjmox1z8/water-bodies/result.zarr/x\",\n",
      "                                \"basename\": \"x\",\n",
      "                                \"listing\": [\n",
      "                                    {\n",
      "                                        \"class\": \"File\",\n",
      "                                        \"location\": \"file:///data/work/eoap/zarr-cloud-native-format/notebooks/runs/wjmox1z8/water-bodies/result.zarr/x/0\",\n",
      "                                        \"basename\": \"0\",\n",
      "                                        \"size\": 1750,\n",
      "                                        \"checksum\": \"sha1$4802dd65df0482d8a78e96ef4ca69007b0980f80\",\n",
      "                                        \"path\": \"/data/work/eoap/zarr-cloud-native-format/notebooks/runs/wjmox1z8/water-bodies/result.zarr/x/0\"\n",
      "                                    },\n",
      "                                    {\n",
      "                                        \"class\": \"File\",\n",
      "                                        \"location\": \"file:///data/work/eoap/zarr-cloud-native-format/notebooks/runs/wjmox1z8/water-bodies/result.zarr/x/.zarray\",\n",
      "                                        \"basename\": \".zarray\",\n",
      "                                        \"size\": 319,\n",
      "                                        \"checksum\": \"sha1$e2dbd7c229c69059a1da3e899be4f03dda84144a\",\n",
      "                                        \"path\": \"/data/work/eoap/zarr-cloud-native-format/notebooks/runs/wjmox1z8/water-bodies/result.zarr/x/.zarray\"\n",
      "                                    },\n",
      "                                    {\n",
      "                                        \"class\": \"File\",\n",
      "                                        \"location\": \"file:///data/work/eoap/zarr-cloud-native-format/notebooks/runs/wjmox1z8/water-bodies/result.zarr/x/.zattrs\",\n",
      "                                        \"basename\": \".zattrs\",\n",
      "                                        \"size\": 119,\n",
      "                                        \"checksum\": \"sha1$bef2048c3b7e9591042d39dd9aab4392c63c5469\",\n",
      "                                        \"path\": \"/data/work/eoap/zarr-cloud-native-format/notebooks/runs/wjmox1z8/water-bodies/result.zarr/x/.zattrs\"\n",
      "                                    }\n",
      "                                ],\n",
      "                                \"path\": \"/data/work/eoap/zarr-cloud-native-format/notebooks/runs/wjmox1z8/water-bodies/result.zarr/x\"\n",
      "                            },\n",
      "                            {\n",
      "                                \"class\": \"Directory\",\n",
      "                                \"location\": \"file:///data/work/eoap/zarr-cloud-native-format/notebooks/runs/wjmox1z8/water-bodies/result.zarr/spatial_ref\",\n",
      "                                \"basename\": \"spatial_ref\",\n",
      "                                \"listing\": [\n",
      "                                    {\n",
      "                                        \"class\": \"File\",\n",
      "                                        \"location\": \"file:///data/work/eoap/zarr-cloud-native-format/notebooks/runs/wjmox1z8/water-bodies/result.zarr/spatial_ref/0\",\n",
      "                                        \"basename\": \"0\",\n",
      "                                        \"size\": 4,\n",
      "                                        \"checksum\": \"sha1$a0dd9284fe490117f53c13b9f691e0ac5e74f2ab\",\n",
      "                                        \"path\": \"/data/work/eoap/zarr-cloud-native-format/notebooks/runs/wjmox1z8/water-bodies/result.zarr/spatial_ref/0\"\n",
      "                                    },\n",
      "                                    {\n",
      "                                        \"class\": \"File\",\n",
      "                                        \"location\": \"file:///data/work/eoap/zarr-cloud-native-format/notebooks/runs/wjmox1z8/water-bodies/result.zarr/spatial_ref/.zarray\",\n",
      "                                        \"basename\": \".zarray\",\n",
      "                                        \"size\": 166,\n",
      "                                        \"checksum\": \"sha1$96e6417d24db507c16ad03442c19ea9c16f92f42\",\n",
      "                                        \"path\": \"/data/work/eoap/zarr-cloud-native-format/notebooks/runs/wjmox1z8/water-bodies/result.zarr/spatial_ref/.zarray\"\n",
      "                                    },\n",
      "                                    {\n",
      "                                        \"class\": \"File\",\n",
      "                                        \"location\": \"file:///data/work/eoap/zarr-cloud-native-format/notebooks/runs/wjmox1z8/water-bodies/result.zarr/spatial_ref/.zattrs\",\n",
      "                                        \"basename\": \".zattrs\",\n",
      "                                        \"size\": 4064,\n",
      "                                        \"checksum\": \"sha1$6ec7008422c95e5fb10e7c23d76f18f5d129a236\",\n",
      "                                        \"path\": \"/data/work/eoap/zarr-cloud-native-format/notebooks/runs/wjmox1z8/water-bodies/result.zarr/spatial_ref/.zattrs\"\n",
      "                                    }\n",
      "                                ],\n",
      "                                \"path\": \"/data/work/eoap/zarr-cloud-native-format/notebooks/runs/wjmox1z8/water-bodies/result.zarr/spatial_ref\"\n",
      "                            },\n",
      "                            {\n",
      "                                \"class\": \"File\",\n",
      "                                \"location\": \"file:///data/work/eoap/zarr-cloud-native-format/notebooks/runs/wjmox1z8/water-bodies/result.zarr/.zattrs\",\n",
      "                                \"basename\": \".zattrs\",\n",
      "                                \"size\": 2,\n",
      "                                \"checksum\": \"sha1$bf21a9e8fbc5a3846fb05b4fa0859e0917b2202f\",\n",
      "                                \"path\": \"/data/work/eoap/zarr-cloud-native-format/notebooks/runs/wjmox1z8/water-bodies/result.zarr/.zattrs\"\n",
      "                            },\n",
      "                            {\n",
      "                                \"class\": \"File\",\n",
      "                                \"location\": \"file:///data/work/eoap/zarr-cloud-native-format/notebooks/runs/wjmox1z8/water-bodies/result.zarr/.zmetadata\",\n",
      "                                \"basename\": \".zmetadata\",\n",
      "                                \"size\": 7561,\n",
      "                                \"checksum\": \"sha1$1ebb726f0d5549e050977407695ecc344a331265\",\n",
      "                                \"path\": \"/data/work/eoap/zarr-cloud-native-format/notebooks/runs/wjmox1z8/water-bodies/result.zarr/.zmetadata\"\n",
      "                            }\n",
      "                        ],\n",
      "                        \"path\": \"/data/work/eoap/zarr-cloud-native-format/notebooks/runs/wjmox1z8/water-bodies/result.zarr\"\n",
      "                    },\n",
      "                    {\n",
      "                        \"class\": \"File\",\n",
      "                        \"location\": \"file:///data/work/eoap/zarr-cloud-native-format/notebooks/runs/wjmox1z8/water-bodies/water-bodies.json\",\n",
      "                        \"basename\": \"water-bodies.json\",\n",
      "                        \"size\": 2079,\n",
      "                        \"checksum\": \"sha1$4a7bcc81d88c9b73e04f027dd3c0197e239626a3\",\n",
      "                        \"path\": \"/data/work/eoap/zarr-cloud-native-format/notebooks/runs/wjmox1z8/water-bodies/water-bodies.json\"\n",
      "                    }\n",
      "                ],\n",
      "                \"path\": \"/data/work/eoap/zarr-cloud-native-format/notebooks/runs/wjmox1z8/water-bodies\"\n",
      "            },\n",
      "            {\n",
      "                \"class\": \"File\",\n",
      "                \"location\": \"file:///data/work/eoap/zarr-cloud-native-format/notebooks/runs/wjmox1z8/catalog.json\",\n",
      "                \"basename\": \"catalog.json\",\n",
      "                \"size\": 422,\n",
      "                \"checksum\": \"sha1$4e82650b6d80a00fb06898c5b51b0fb446789c21\",\n",
      "                \"path\": \"/data/work/eoap/zarr-cloud-native-format/notebooks/runs/wjmox1z8/catalog.json\"\n",
      "            }\n",
      "        ],\n",
      "        \"path\": \"/data/work/eoap/zarr-cloud-native-format/notebooks/runs/wjmox1z8\"\n",
      "    }\n",
      "}\n"
     ]
    }
   ],
   "source": [
    "print(stream_out.getvalue())"
   ]
  },
  {
   "cell_type": "code",
   "execution_count": 10,
   "metadata": {},
   "outputs": [
    {
     "data": {
      "text/plain": [
       "dict_keys(['stac_catalog', 'zarr_stac_catalog'])"
      ]
     },
     "execution_count": 10,
     "metadata": {},
     "output_type": "execute_result"
    }
   ],
   "source": [
    "results = json.loads(stream_out.getvalue())\n",
    "\n",
    "results.keys()"
   ]
  },
  {
   "cell_type": "code",
   "execution_count": 12,
   "metadata": {},
   "outputs": [
    {
     "data": {
      "text/plain": [
       "'file:///data/work/eoap/zarr-cloud-native-format/notebooks/runs/wjmox1z8'"
      ]
     },
     "execution_count": 12,
     "metadata": {},
     "output_type": "execute_result"
    }
   ],
   "source": [
    "results[\"zarr_stac_catalog\"][\"location\"]"
   ]
  },
  {
   "cell_type": "code",
   "execution_count": 15,
   "metadata": {},
   "outputs": [],
   "source": [
    "cat = pystac.Catalog.from_file(\n",
    "    os.path.join(\n",
    "        results[\"zarr_stac_catalog\"][\"location\"].replace(\"file://\", \"\"), \"catalog.json\"\n",
    "    )\n",
    ")"
   ]
  },
  {
   "cell_type": "code",
   "execution_count": 16,
   "metadata": {},
   "outputs": [
    {
     "name": "stdout",
     "output_type": "stream",
     "text": [
      "* <Catalog id=water-bodies>\n",
      "  * <Item id=water-bodies>\n"
     ]
    }
   ],
   "source": [
    "cat.describe()"
   ]
  },
  {
   "cell_type": "code",
   "execution_count": 17,
   "metadata": {},
   "outputs": [
    {
     "data": {
      "text/html": [
       "&lt;Item id=water-bodies&gt;"
      ],
      "text/plain": [
       "<Item id=water-bodies>"
      ]
     },
     "execution_count": 17,
     "metadata": {},
     "output_type": "execute_result"
    }
   ],
   "source": [
    "item = next(cat.get_all_items())\n",
    "\n",
    "item"
   ]
  },
  {
   "cell_type": "code",
   "execution_count": 18,
   "metadata": {},
   "outputs": [
    {
     "data": {
      "text/html": [
       "&lt;Asset href=./result.zarr&gt;"
      ],
      "text/plain": [
       "<Asset href=./result.zarr>"
      ]
     },
     "execution_count": 18,
     "metadata": {},
     "output_type": "execute_result"
    }
   ],
   "source": [
    "zarr_asset = item.get_assets()[\"data\"]\n",
    "\n",
    "zarr_asset"
   ]
  },
  {
   "cell_type": "code",
   "execution_count": 19,
   "metadata": {},
   "outputs": [
    {
     "data": {
      "text/html": [
       "&lt;Asset href=./result.zarr&gt;"
      ],
      "text/plain": [
       "<Asset href=./result.zarr>"
      ]
     },
     "execution_count": 19,
     "metadata": {},
     "output_type": "execute_result"
    }
   ],
   "source": [
    "item.get_assets()[\"data\"]"
   ]
  },
  {
   "cell_type": "code",
   "execution_count": 20,
   "metadata": {},
   "outputs": [],
   "source": [
    "dc_item = DatacubeExtension.ext(item)"
   ]
  },
  {
   "cell_type": "code",
   "execution_count": 21,
   "metadata": {},
   "outputs": [
    {
     "data": {
      "text/plain": [
       "{'x': <pystac.extensions.datacube.HorizontalSpatialDimension at 0x7704e2e3a380>,\n",
       " 'y': <pystac.extensions.datacube.HorizontalSpatialDimension at 0x7704e2e39ff0>,\n",
       " 'time': <pystac.extensions.datacube.TemporalDimension at 0x7704e2e3b820>}"
      ]
     },
     "execution_count": 21,
     "metadata": {},
     "output_type": "execute_result"
    }
   ],
   "source": [
    "dc_item.dimensions"
   ]
  },
  {
   "cell_type": "code",
   "execution_count": 29,
   "metadata": {},
   "outputs": [
    {
     "name": "stdout",
     "output_type": "stream",
     "text": [
      "x {'type': 'spatial', 'axis': 'x', 'extent': [636995.0, 691585.0], 'reference_system': 'epsg:32610'}\n",
      "y {'type': 'spatial', 'axis': 'y', 'extent': [4410555.0, 4482595.0], 'reference_system': 'epsg:32610'}\n",
      "time {'type': 'temporal', 'extent': ['2021-07-08T19:03:25.000000000', '2021-07-23T19:03:24.000000000']}\n"
     ]
    }
   ],
   "source": [
    "for key, value in dc_item.dimensions.items():\n",
    "    \n",
    "    print(key, dc_item.dimensions[key].to_dict())"
   ]
  },
  {
   "cell_type": "code",
   "execution_count": 30,
   "metadata": {},
   "outputs": [
    {
     "data": {
      "text/plain": [
       "{'data': <pystac.extensions.datacube.Variable at 0x7704d9337820>}"
      ]
     },
     "execution_count": 30,
     "metadata": {},
     "output_type": "execute_result"
    }
   ],
   "source": [
    "dc_item.variables"
   ]
  },
  {
   "cell_type": "code",
   "execution_count": 31,
   "metadata": {},
   "outputs": [
    {
     "name": "stdout",
     "output_type": "stream",
     "text": [
      "data {'type': 'bands', 'description': 'water bodies', 'dimensions': ['y', 'x', 'time']}\n"
     ]
    }
   ],
   "source": [
    "for key, value in dc_item.variables.items():\n",
    "    print(key, dc_item.variables[key].to_dict())"
   ]
  },
  {
   "cell_type": "code",
   "execution_count": 23,
   "metadata": {},
   "outputs": [
    {
     "data": {
      "text/plain": [
       "{'type': 'bands',\n",
       " 'description': 'water bodies',\n",
       " 'dimensions': ['y', 'x', 'time']}"
      ]
     },
     "execution_count": 23,
     "metadata": {},
     "output_type": "execute_result"
    }
   ],
   "source": [
    "dc_item.variables[\"data\"].to_dict()"
   ]
  },
  {
   "cell_type": "code",
   "execution_count": 24,
   "metadata": {},
   "outputs": [],
   "source": [
    "water_bodies = xr.open_zarr(zarr_asset.get_absolute_href(), consolidated=True)\n"
   ]
  },
  {
   "cell_type": "code",
   "execution_count": 39,
   "metadata": {},
   "outputs": [
    {
     "data": {
      "text/html": [
       "<pre>&lt;xarray.Dataset&gt; Size: 118MB\n",
       "Dimensions:      (time: 3, y: 7205, x: 5460)\n",
       "Coordinates:\n",
       "  * time         (time) datetime64[ns] 24B 2021-07-08T19:03:25 ... 2021-07-23...\n",
       "  * x            (x) float64 44kB 6.37e+05 6.37e+05 ... 6.916e+05 6.916e+05\n",
       "  * y            (y) float64 58kB 4.483e+06 4.483e+06 ... 4.411e+06 4.411e+06\n",
       "Data variables:\n",
       "    data         (time, y, x) uint8 118MB dask.array&lt;chunksize=(1, 7205, 5460), meta=np.ndarray&gt;\n",
       "    spatial_ref  int32 4B ...</pre>"
      ],
      "text/plain": [
       "<xarray.Dataset> Size: 118MB\n",
       "Dimensions:      (time: 3, y: 7205, x: 5460)\n",
       "Coordinates:\n",
       "  * time         (time) datetime64[ns] 24B 2021-07-08T19:03:25 ... 2021-07-23...\n",
       "  * x            (x) float64 44kB 6.37e+05 6.37e+05 ... 6.916e+05 6.916e+05\n",
       "  * y            (y) float64 58kB 4.483e+06 4.483e+06 ... 4.411e+06 4.411e+06\n",
       "Data variables:\n",
       "    data         (time, y, x) uint8 118MB dask.array<chunksize=(1, 7205, 5460), meta=np.ndarray>\n",
       "    spatial_ref  int32 4B ..."
      ]
     },
     "execution_count": 39,
     "metadata": {},
     "output_type": "execute_result"
    }
   ],
   "source": [
    "xr.set_options(display_style=\"text\")\n",
    "\n",
    "water_bodies"
   ]
  },
  {
   "cell_type": "code",
   "execution_count": 43,
   "metadata": {},
   "outputs": [
    {
     "data": {
      "text/html": [
       "<pre>&lt;xarray.DataArray &#x27;spatial_ref&#x27; ()&gt; Size: 4B\n",
       "[1 values with dtype=int32]\n",
       "Attributes: (12/18)\n",
       "    GeoTransform:                      636990 10 0 4482600 0 -10\n",
       "    crs_wkt:                           PROJCRS[&quot;WGS 84 / UTM zone 10N&quot;,BASEGE...\n",
       "    false_easting:                     500000.0\n",
       "    false_northing:                    0.0\n",
       "    geographic_crs_name:               WGS 84\n",
       "    grid_mapping_name:                 transverse_mercator\n",
       "    ...                                ...\n",
       "    projected_crs_name:                WGS 84 / UTM zone 10N\n",
       "    reference_ellipsoid_name:          WGS 84\n",
       "    scale_factor_at_central_meridian:  0.9996\n",
       "    semi_major_axis:                   6378137.0\n",
       "    semi_minor_axis:                   6356752.314245179\n",
       "    spatial_ref:                       PROJCRS[&quot;WGS 84 / UTM zone 10N&quot;,BASEGE...</pre>"
      ],
      "text/plain": [
       "<xarray.DataArray 'spatial_ref' ()> Size: 4B\n",
       "[1 values with dtype=int32]\n",
       "Attributes: (12/18)\n",
       "    GeoTransform:                      636990 10 0 4482600 0 -10\n",
       "    crs_wkt:                           PROJCRS[\"WGS 84 / UTM zone 10N\",BASEGE...\n",
       "    false_easting:                     500000.0\n",
       "    false_northing:                    0.0\n",
       "    geographic_crs_name:               WGS 84\n",
       "    grid_mapping_name:                 transverse_mercator\n",
       "    ...                                ...\n",
       "    projected_crs_name:                WGS 84 / UTM zone 10N\n",
       "    reference_ellipsoid_name:          WGS 84\n",
       "    scale_factor_at_central_meridian:  0.9996\n",
       "    semi_major_axis:                   6378137.0\n",
       "    semi_minor_axis:                   6356752.314245179\n",
       "    spatial_ref:                       PROJCRS[\"WGS 84 / UTM zone 10N\",BASEGE..."
      ]
     },
     "execution_count": 43,
     "metadata": {},
     "output_type": "execute_result"
    }
   ],
   "source": [
    "water_bodies.data_vars[\"spatial_ref\"]"
   ]
  },
  {
   "cell_type": "code",
   "execution_count": 45,
   "metadata": {},
   "outputs": [
    {
     "data": {
      "text/plain": [
       "'32610'"
      ]
     },
     "execution_count": 45,
     "metadata": {},
     "output_type": "execute_result"
    }
   ],
   "source": [
    "str(water_bodies.data_vars[\"spatial_ref\"].values)"
   ]
  },
  {
   "cell_type": "code",
   "execution_count": 36,
   "metadata": {},
   "outputs": [
    {
     "data": {
      "text/plain": [
       "Coordinates:\n",
       "  * time     (time) datetime64[ns] 24B 2021-07-08T19:03:25 ... 2021-07-23T19:...\n",
       "  * x        (x) float64 44kB 6.37e+05 6.37e+05 6.37e+05 ... 6.916e+05 6.916e+05\n",
       "  * y        (y) float64 58kB 4.483e+06 4.483e+06 ... 4.411e+06 4.411e+06"
      ]
     },
     "execution_count": 36,
     "metadata": {},
     "output_type": "execute_result"
    }
   ],
   "source": [
    "water_bodies.coords"
   ]
  },
  {
   "cell_type": "code",
   "execution_count": 46,
   "metadata": {},
   "outputs": [
    {
     "data": {
      "text/plain": [
       "array(['2021-07-08T19:03:25.000000000', '2021-07-13T19:03:24.000000000',\n",
       "       '2021-07-23T19:03:24.000000000'], dtype='datetime64[ns]')"
      ]
     },
     "execution_count": 46,
     "metadata": {},
     "output_type": "execute_result"
    }
   ],
   "source": [
    "water_bodies.coords[\"time\"].values"
   ]
  },
  {
   "cell_type": "code",
   "execution_count": 25,
   "metadata": {},
   "outputs": [
    {
     "data": {
      "image/png": "[encoded data removed]",
      "text/plain": [
       "<Figure size 900x400 with 3 Axes>"
      ]
     },
     "metadata": {},
     "output_type": "display_data"
    }
   ],
   "source": [
    "_ = (\n",
    "    water_bodies.isel(time=0)\n",
    "    .to_array(\"data\")\n",
    "    .plot.imshow(\n",
    "        col=\"data\",\n",
    "        size=4,\n",
    "        vmin=0,\n",
    "        vmax=1,\n",
    "    )\n",
    ")"
   ]
  },
  {
   "cell_type": "code",
   "execution_count": null,
   "metadata": {},
   "outputs": [],
   "source": []
  }
 ],
 "metadata": {
  "kernelspec": {
   "display_name": ".env",
   "language": "python",
   "name": "python3"
  },
  "language_info": {
   "codemirror_mode": {
    "name": "ipython",
    "version": 3
   },
   "file_extension": ".py",
   "mimetype": "text/x-python",
   "name": "python",
   "nbconvert_exporter": "python",
   "pygments_lexer": "ipython3",
   "version": "3.10.14"
  }
 },
 "nbformat": 4,
 "nbformat_minor": 2
}
