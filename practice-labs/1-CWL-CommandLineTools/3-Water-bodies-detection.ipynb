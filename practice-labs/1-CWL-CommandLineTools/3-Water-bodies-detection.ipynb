{
 "cells": [
  {
   "cell_type": "markdown",
   "metadata": {},
   "source": [
    "# Water bodies detection sub-workflow\n",
    "\n",
    "Invoke a Common Workflow Language Workflow for detecting water bodies\n",
    "\n",
    "This notebook is linked to: https://eoap.github.io/zarr-cloud-native-format/sub-workflows/water-bodies-detection/\n",
    "\n"
   ]
  },
  {
   "cell_type": "markdown",
   "metadata": {},
   "source": [
    "## Setup"
   ]
  },
  {
   "cell_type": "code",
   "execution_count": 31,
   "metadata": {
    "vscode": {
     "languageId": "shellscript"
    }
   },
   "outputs": [],
   "source": [
    "export WORKSPACE=/workspace/zarr-cloud-native-format\n",
    "export RUNTIME=${WORKSPACE}/runs\n",
    "mkdir -p ${RUNTIME}\n",
    "cd ${RUNTIME}\n",
    "\n",
    "curl -q -L https://github.com/eoap/zarr-cloud-native-format/releases/download/0.3.0/app-water-bodies.0.3.0.cwl > ${WORKSPACE}/cwl-workflow/app-water-bodies.cwl 2> /dev/null"
   ]
  },
  {
   "cell_type": "markdown",
   "metadata": {},
   "source": [
    "## Run the water bodies detection sub-workflow step\n",
    "\n",
    "Inspect and use `cwltool` to run the water bodies detection sub-workflow definition:\n"
   ]
  },
  {
   "cell_type": "code",
   "execution_count": 32,
   "metadata": {
    "vscode": {
     "languageId": "shellscript"
    }
   },
   "outputs": [
    {
     "name": "stdout",
     "output_type": "stream",
     "text": [
      "\u001b[36mclass\u001b[0m:\u001b[32m Workflow\u001b[0m\n",
      "\u001b[32m\u001b[0m\u001b[36mid\u001b[0m:\u001b[32m detect_water_body\u001b[0m\n",
      "\u001b[32m\u001b[0m\u001b[36mlabel\u001b[0m:\u001b[32m Water body detection based on NDWI and otsu threshold\u001b[0m\n",
      "\u001b[32m\u001b[0m\u001b[36mdoc\u001b[0m:\u001b[32m Water body detection based on NDWI and otsu threshold\u001b[0m\n",
      "\u001b[32m\u001b[0m\u001b[36mrequirements\u001b[0m:\n",
      "  -\u001b[36m class\u001b[0m:\u001b[32m ScatterFeatureRequirement\u001b[0m\n",
      "\u001b[32m\u001b[0m\u001b[36minputs\u001b[0m:\u001b[36m\u001b[0m\n",
      "\u001b[36m  aoi\u001b[0m:\u001b[36m\u001b[0m\n",
      "\u001b[36m    doc\u001b[0m:\u001b[32m area of interest as a bounding box\u001b[0m\n",
      "\u001b[32m    \u001b[0m\u001b[36mtype\u001b[0m:\u001b[32m string\u001b[0m\n",
      "\u001b[32m  \u001b[0m\u001b[36mepsg\u001b[0m:\u001b[36m\u001b[0m\n",
      "\u001b[36m    doc\u001b[0m:\u001b[32m EPSG code\u001b[0m\n",
      "\u001b[32m    \u001b[0m\u001b[36mtype\u001b[0m:\u001b[32m string\u001b[0m\n",
      "\u001b[32m    \u001b[0m\u001b[36mdefault\u001b[0m:\u001b[32m \"EPSG:4326\"\u001b[0m\u001b[36m\u001b[0m\n",
      "\u001b[36m  bands\u001b[0m:\u001b[36m\u001b[0m\n",
      "\u001b[36m    doc\u001b[0m:\u001b[32m bands used for the NDWI\u001b[0m\n",
      "\u001b[32m    \u001b[0m\u001b[36mtype\u001b[0m:\u001b[32m string[]\u001b[0m\n",
      "\u001b[32m  \u001b[0m\u001b[36mitem\u001b[0m:\u001b[36m\u001b[0m\n",
      "\u001b[36m    doc\u001b[0m:\u001b[32m STAC item\u001b[0m\n",
      "\u001b[32m    \u001b[0m\u001b[36mtype\u001b[0m:\u001b[32m string\u001b[0m\n",
      "\u001b[32m\u001b[0m\u001b[36moutputs\u001b[0m:\n",
      "  -\u001b[36m id\u001b[0m:\u001b[32m detected_water_body\u001b[0m\n",
      "\u001b[32m    \u001b[0m\u001b[36moutputSource\u001b[0m:\n",
      "      -\u001b[32m otsu/binary_mask_item\u001b[0m\n",
      "\u001b[32m    \u001b[0m\u001b[36mtype\u001b[0m:\u001b[32m File\u001b[0m\n",
      "\u001b[32m\u001b[0m\u001b[36msteps\u001b[0m:\u001b[36m\u001b[0m\n",
      "\u001b[36m  crop\u001b[0m:\u001b[36m\u001b[0m\n",
      "\u001b[36m    run\u001b[0m:\u001b[32m \"#crop\"\u001b[0m\u001b[36m\u001b[0m\n",
      "\u001b[36m    in\u001b[0m:\u001b[36m\u001b[0m\n",
      "\u001b[36m      item\u001b[0m:\u001b[32m item\u001b[0m\n",
      "\u001b[32m      \u001b[0m\u001b[36maoi\u001b[0m:\u001b[32m aoi\u001b[0m\n",
      "\u001b[32m      \u001b[0m\u001b[36mepsg\u001b[0m:\u001b[32m epsg\u001b[0m\n",
      "\u001b[32m      \u001b[0m\u001b[36mband\u001b[0m:\u001b[32m bands\u001b[0m\n",
      "\u001b[32m    \u001b[0m\u001b[36mout\u001b[0m:\n",
      "      -\u001b[32m cropped\u001b[0m\n",
      "\u001b[32m    \u001b[0m\u001b[36mscatter\u001b[0m:\u001b[32m band\u001b[0m\n",
      "\u001b[32m    \u001b[0m\u001b[36mscatterMethod\u001b[0m:\u001b[32m dotproduct\u001b[0m\n",
      "\u001b[32m  \u001b[0m\u001b[36mnormalized_difference\u001b[0m:\u001b[36m\u001b[0m\n",
      "\u001b[36m    run\u001b[0m:\u001b[32m \"#norm_diff\"\u001b[0m\u001b[36m\u001b[0m\n",
      "\u001b[36m    in\u001b[0m:\u001b[36m\u001b[0m\n",
      "\u001b[36m      rasters\u001b[0m:\u001b[36m\u001b[0m\n",
      "\u001b[36m        source\u001b[0m:\u001b[32m crop/cropped\u001b[0m\n",
      "\u001b[32m    \u001b[0m\u001b[36mout\u001b[0m:\n",
      "      -\u001b[32m ndwi\u001b[0m\n",
      "\u001b[32m  \u001b[0m\u001b[36motsu\u001b[0m:\u001b[36m\u001b[0m\n",
      "\u001b[36m    run\u001b[0m:\u001b[32m \"#otsu\"\u001b[0m\u001b[36m\u001b[0m\n",
      "\u001b[36m    in\u001b[0m:\u001b[36m\u001b[0m\n",
      "\u001b[36m      raster\u001b[0m:\u001b[36m\u001b[0m\n",
      "\u001b[36m        source\u001b[0m:\u001b[32m normalized_difference/ndwi\u001b[0m\n",
      "\u001b[32m    \u001b[0m\u001b[36mout\u001b[0m:\n",
      "      -\u001b[32m binary_mask_item\u001b[0m\n"
     ]
    }
   ],
   "source": [
    "cat ${WORKSPACE}/cwl-workflow/app-water-bodies.cwl | yq e '.[\"$graph\"][2]' -"
   ]
  },
  {
   "cell_type": "markdown",
   "metadata": {},
   "source": [
    "Run the CWL description, but first prepare the parameters.\n",
    "\n",
    "The previous step generated part of inputs for the water bodies detection sub-workflow:"
   ]
  },
  {
   "cell_type": "code",
   "execution_count": 33,
   "metadata": {
    "vscode": {
     "languageId": "shellscript"
    }
   },
   "outputs": [
    {
     "name": "stdout",
     "output_type": "stream",
     "text": [
      "{\n",
      "    \"aoi\": \"-121.399,39.834,-120.74,40.472\",\n",
      "    \"items\": [\n",
      "        \"https://earth-search.aws.element84.com/v1/collections/sentinel-2-l2a/items/S2A_10TFK_20210728_0_L2A\",\n",
      "        \"https://earth-search.aws.element84.com/v1/collections/sentinel-2-l2a/items/S2A_10TFK_20210728_1_L2A\",\n",
      "        \"https://earth-search.aws.element84.com/v1/collections/sentinel-2-l2a/items/S2B_10TFK_20210723_1_L2A\",\n",
      "        \"https://earth-search.aws.element84.com/v1/collections/sentinel-2-l2a/items/S2B_10TFK_20210723_0_L2A\",\n",
      "        \"https://earth-search.aws.element84.com/v1/collections/sentinel-2-l2a/items/S2A_10TFK_20210718_0_L2A\",\n",
      "        \"https://earth-search.aws.element84.com/v1/collections/sentinel-2-l2a/items/S2B_10TFK_20210713_1_L2A\",\n",
      "        \"https://earth-search.aws.element84.com/v1/collections/sentinel-2-l2a/items/S2B_10TFK_20210713_0_L2A\",\n",
      "        \"https://earth-search.aws.element84.com/v1/collections/sentinel-2-l2a/items/S2A_10TFK_20210708_0_L2A\",\n",
      "        \"https://earth-search.aws.element84.com/v1/collections/sentinel-2-l2a/items/S2A_10TFK_20210708_1_L2A\",\n",
      "        \"https://earth-search.aws.element84.com/v1/collections/sentinel-2-l2a/items/S2A_10TFK_20210628_0_L2A\"\n",
      "    ]\n",
      "}\n"
     ]
    }
   ],
   "source": [
    "cat convert-search-results.json"
   ]
  },
  {
   "cell_type": "markdown",
   "metadata": {},
   "source": [
    "Let's add the `bands` and `epsg`:"
   ]
  },
  {
   "cell_type": "code",
   "execution_count": 34,
   "metadata": {
    "vscode": {
     "languageId": "shellscript"
    }
   },
   "outputs": [
    {
     "name": "stdout",
     "output_type": "stream",
     "text": [
      "\u001b[0;32m\"-121.399,39.834,-120.74,40.472\"\u001b[0m\n"
     ]
    }
   ],
   "source": [
    "cat convert-search-results.json | jq .aoi"
   ]
  },
  {
   "cell_type": "code",
   "execution_count": 35,
   "metadata": {
    "vscode": {
     "languageId": "shellscript"
    }
   },
   "outputs": [
    {
     "name": "stdout",
     "output_type": "stream",
     "text": [
      "\"-121.399,39.834,-120.74,40.472\"\n"
     ]
    }
   ],
   "source": [
    "aoi=$( cat convert-search-results.json | jq '.aoi' )\n",
    "\n",
    "echo ${aoi}"
   ]
  },
  {
   "cell_type": "code",
   "execution_count": 36,
   "metadata": {
    "vscode": {
     "languageId": "shellscript"
    }
   },
   "outputs": [
    {
     "name": "stdout",
     "output_type": "stream",
     "text": [
      "\"https://earth-search.aws.element84.com/v1/collections/sentinel-2-l2a/items/S2A_10TFK_20210728_0_L2A\"\n"
     ]
    }
   ],
   "source": [
    "item=$( cat convert-search-results.json | jq '.items[0]' )\n",
    "\n",
    "echo ${item}"
   ]
  },
  {
   "cell_type": "markdown",
   "metadata": {},
   "source": [
    "Let's create the parameter file:"
   ]
  },
  {
   "cell_type": "code",
   "execution_count": 38,
   "metadata": {
    "vscode": {
     "languageId": "shellscript"
    }
   },
   "outputs": [
    {
     "name": "stdout",
     "output_type": "stream",
     "text": [
      "\u001b[36mitem\u001b[0m:\u001b[32m \"https://earth-search.aws.element84.com/v1/collections/sentinel-2-l2a/items/S2A_10TFK_20210728_0_L2A\"\u001b[0m\u001b[36m\u001b[0m\n",
      "\u001b[36maoi\u001b[0m:\u001b[32m \"-121.399,39.834,-120.74,40.472\"\u001b[0m\u001b[36m\u001b[0m\n",
      "\u001b[36mbands\u001b[0m:\n",
      "  -\u001b[32m green\u001b[0m\n",
      "\u001b[32m  \u001b[0m-\u001b[32m nir\u001b[0m\n",
      "\u001b[32m\u001b[0m\u001b[36mepsg\u001b[0m:\u001b[32m \"4326\"\u001b[0m\n"
     ]
    }
   ],
   "source": [
    "cat <<EOF > water-bodies-params.yaml\n",
    "item: ${item}\n",
    "aoi: ${aoi}\n",
    "bands:\n",
    "  - green\n",
    "  - nir\n",
    "epsg: \"4326\"\n",
    "EOF\n",
    "\n",
    "cat water-bodies-params.yaml | yq ."
   ]
  },
  {
   "cell_type": "code",
   "execution_count": 39,
   "metadata": {
    "vscode": {
     "languageId": "shellscript"
    }
   },
   "outputs": [],
   "source": [
    "\n",
    "\n",
    "cwltool \\\n",
    "    --podman \\\n",
    "    --outdir ${WORKSPACE}/runs \\\n",
    "    ${WORKSPACE}/cwl-workflow/app-water-bodies.cwl#detect_water_body \\\n",
    "    water-bodies-params.yaml > water-bodies-results.json 2> water-bodies.log"
   ]
  },
  {
   "cell_type": "markdown",
   "metadata": {},
   "source": [
    "Let's look at the content of the stderr:"
   ]
  },
  {
   "cell_type": "code",
   "execution_count": 40,
   "metadata": {
    "vscode": {
     "languageId": "shellscript"
    }
   },
   "outputs": [
    {
     "name": "stdout",
     "output_type": "stream",
     "text": [
      "\u001b[1;30mINFO\u001b[0m /home/fbrito/.local/bin/cwltool 3.1.20250110105449\n",
      "\u001b[1;30mINFO\u001b[0m Resolved '/workspace/zarr-cloud-native-format/cwl-workflow/app-water-bodies.cwl#detect_water_body' to 'file:///workspace/zarr-cloud-native-format/cwl-workflow/app-water-bodies.cwl#detect_water_body'\n",
      "\u001b[1;30mINFO\u001b[0m [workflow ] start\n",
      "\u001b[1;30mINFO\u001b[0m [workflow ] starting step crop\n",
      "\u001b[1;30mINFO\u001b[0m [step crop] start\n",
      "\u001b[1;30mINFO\u001b[0m [job crop] /tmp/z5uh7awb$ podman \\\n",
      "    run \\\n",
      "    -i \\\n",
      "    --userns=keep-id \\\n",
      "    --mount=type=bind,source=/tmp/z5uh7awb,target=/XKbcXp \\\n",
      "    --mount=type=bind,source=/tmp/jmtfsa5m,target=/tmp \\\n",
      "    --workdir=/XKbcXp \\\n",
      "    --read-only=true \\\n",
      "    --user=1000:1000 \\\n",
      "    --rm \\\n",
      "    --cidfile=/tmp/8zk8ll90/20250915142950-574947.cid \\\n",
      "    --env=TMPDIR=/tmp \\\n",
      "    --env=HOME=/XKbcXp \\\n",
      "    --env=PATH=/usr/local/sbin:/usr/local/bin:/usr/sbin:/usr/bin:/sbin:/bin \\\n",
      "    --env=PYTHONPATH=/app \\\n",
      "    ghcr.io/eoap/mastering-app-package/crop@sha256:25985f43b299e12b8c476746c4b5edf328f4d0b0fea9d017c3dafd2f4f5116ba \\\n",
      "    python \\\n",
      "    -m \\\n",
      "    app \\\n",
      "    --aoi \\\n",
      "    -121.399,39.834,-120.74,40.472 \\\n",
      "    --band \\\n",
      "    green \\\n",
      "    --epsg \\\n",
      "    4326 \\\n",
      "    --input-item \\\n",
      "    https://earth-search.aws.element84.com/v1/collections/sentinel-2-l2a/items/S2A_10TFK_20210728_0_L2A\n",
      "2025-09-15 12:29:52.329 | INFO     | __main__:crop:69 - Read S2A_10TFK_20210728_0_L2A from https://earth-search.aws.element84.com/v1/collections/sentinel-2-l2a/items/S2A_10TFK_20210728_0_L2A\n",
      "2025-09-15 12:29:52.412 | INFO     | __main__:crop:72 - Read asset green from https://sentinel-cogs.s3.us-west-2.amazonaws.com/sentinel-s2-l2a-cogs/10/T/FK/2021/7/S2A_10TFK_20210728_0_L2A/B03.tif\n",
      "2025-09-15 12:29:55.048 | INFO     | __main__:crop:90 - Crop https://sentinel-cogs.s3.us-west-2.amazonaws.com/sentinel-s2-l2a-cogs/10/T/FK/2021/7/S2A_10TFK_20210728_0_L2A/B03.tif\n",
      "2025-09-15 12:30:08.257 | INFO     | __main__:crop:112 - Write crop_green.tif\n",
      "2025-09-15 12:30:14.163 | INFO     | __main__:crop:115 - Done!\n",
      "\u001b[1;30mINFO\u001b[0m [job crop] Max memory used: 358MiB\n",
      "\u001b[1;30mINFO\u001b[0m [job crop] completed success\n",
      "\u001b[1;30mINFO\u001b[0m [step crop] start\n",
      "\u001b[1;30mINFO\u001b[0m [job crop_2] /tmp/ei0gdxzz$ podman \\\n",
      "    run \\\n",
      "    -i \\\n",
      "    --userns=keep-id \\\n",
      "    --mount=type=bind,source=/tmp/ei0gdxzz,target=/XKbcXp \\\n",
      "    --mount=type=bind,source=/tmp/5526cdd7,target=/tmp \\\n",
      "    --workdir=/XKbcXp \\\n",
      "    --read-only=true \\\n",
      "    --user=1000:1000 \\\n",
      "    --rm \\\n",
      "    --cidfile=/tmp/39w6szt0/20250915143014-568737.cid \\\n",
      "    --env=TMPDIR=/tmp \\\n",
      "    --env=HOME=/XKbcXp \\\n",
      "    --env=PATH=/usr/local/sbin:/usr/local/bin:/usr/sbin:/usr/bin:/sbin:/bin \\\n",
      "    --env=PYTHONPATH=/app \\\n",
      "    ghcr.io/eoap/mastering-app-package/crop@sha256:25985f43b299e12b8c476746c4b5edf328f4d0b0fea9d017c3dafd2f4f5116ba \\\n",
      "    python \\\n",
      "    -m \\\n",
      "    app \\\n",
      "    --aoi \\\n",
      "    -121.399,39.834,-120.74,40.472 \\\n",
      "    --band \\\n",
      "    nir \\\n",
      "    --epsg \\\n",
      "    4326 \\\n",
      "    --input-item \\\n",
      "    https://earth-search.aws.element84.com/v1/collections/sentinel-2-l2a/items/S2A_10TFK_20210728_0_L2A\n",
      "2025-09-15 12:30:15.608 | INFO     | __main__:crop:69 - Read S2A_10TFK_20210728_0_L2A from https://earth-search.aws.element84.com/v1/collections/sentinel-2-l2a/items/S2A_10TFK_20210728_0_L2A\n",
      "2025-09-15 12:30:15.684 | INFO     | __main__:crop:72 - Read asset nir from https://sentinel-cogs.s3.us-west-2.amazonaws.com/sentinel-s2-l2a-cogs/10/T/FK/2021/7/S2A_10TFK_20210728_0_L2A/B08.tif\n",
      "2025-09-15 12:30:18.335 | INFO     | __main__:crop:90 - Crop https://sentinel-cogs.s3.us-west-2.amazonaws.com/sentinel-s2-l2a-cogs/10/T/FK/2021/7/S2A_10TFK_20210728_0_L2A/B08.tif\n",
      "2025-09-15 12:30:31.736 | INFO     | __main__:crop:112 - Write crop_nir.tif\n",
      "2025-09-15 12:30:37.291 | INFO     | __main__:crop:115 - Done!\n",
      "\u001b[1;30mINFO\u001b[0m [job crop_2] Max memory used: 348MiB\n",
      "\u001b[1;30mINFO\u001b[0m [job crop_2] completed success\n",
      "\u001b[1;30mINFO\u001b[0m [step crop] completed success\n",
      "\u001b[1;30mINFO\u001b[0m [workflow ] starting step normalized_difference\n",
      "\u001b[1;30mINFO\u001b[0m [step normalized_difference] start\n",
      "\u001b[1;30mINFO\u001b[0m [job normalized_difference] /tmp/pv7dn75f$ podman \\\n",
      "    run \\\n",
      "    -i \\\n",
      "    --userns=keep-id \\\n",
      "    --mount=type=bind,source=/tmp/pv7dn75f,target=/XKbcXp \\\n",
      "    --mount=type=bind,source=/tmp/kaaus721,target=/tmp \\\n",
      "    --mount=type=bind,source=/tmp/z5uh7awb/crop_green.tif,target=/var/lib/cwl/stge1496226-6373-4ee8-97c3-7ca0b7819282/crop_green.tif,readonly \\\n",
      "    --mount=type=bind,source=/tmp/ei0gdxzz/crop_nir.tif,target=/var/lib/cwl/stg7aaf871e-7f2c-43d0-be00-3550b66bc365/crop_nir.tif,readonly \\\n",
      "    --workdir=/XKbcXp \\\n",
      "    --read-only=true \\\n",
      "    --user=1000:1000 \\\n",
      "    --rm \\\n",
      "    --cidfile=/tmp/qej8e708/20250915143037-930229.cid \\\n",
      "    --env=TMPDIR=/tmp \\\n",
      "    --env=HOME=/XKbcXp \\\n",
      "    --env=PATH=/usr/local/sbin:/usr/local/bin:/usr/sbin:/usr/bin:/sbin:/bin \\\n",
      "    --env=PYTHONPATH=/app \\\n",
      "    ghcr.io/eoap/mastering-app-package/norm_diff@sha256:9332428544aec5d694c4834fcd286d60c5bd973aa96313998f5f5a8dd181ed56 \\\n",
      "    python \\\n",
      "    -m \\\n",
      "    app \\\n",
      "    /var/lib/cwl/stge1496226-6373-4ee8-97c3-7ca0b7819282/crop_green.tif \\\n",
      "    /var/lib/cwl/stg7aaf871e-7f2c-43d0-be00-3550b66bc365/crop_nir.tif\n",
      "2025-09-15 12:30:38.532 | INFO     | __main__:normalized_difference:18 - Processing the normalized image with /var/lib/cwl/stge1496226-6373-4ee8-97c3-7ca0b7819282/crop_green.tif and /var/lib/cwl/stg7aaf871e-7f2c-43d0-be00-3550b66bc365/crop_nir.tif\n",
      "2025-09-15 12:30:40.223 | INFO     | __main__:normalized_difference:39 - Write norm_diff.tif\n",
      "2025-09-15 12:30:48.483 | INFO     | __main__:normalized_difference:42 - Done!\n",
      "\u001b[1;30mINFO\u001b[0m [job normalized_difference] Max memory used: 497MiB\n",
      "\u001b[1;30mINFO\u001b[0m [job normalized_difference] completed success\n",
      "\u001b[1;30mINFO\u001b[0m [step normalized_difference] completed success\n",
      "\u001b[1;30mINFO\u001b[0m [workflow ] starting step otsu\n",
      "\u001b[1;30mINFO\u001b[0m [step otsu] start\n",
      "\u001b[1;30mINFO\u001b[0m [job otsu] /tmp/i4zcfl3r$ podman \\\n",
      "    run \\\n",
      "    -i \\\n",
      "    --userns=keep-id \\\n",
      "    --mount=type=bind,source=/tmp/i4zcfl3r,target=/XKbcXp \\\n",
      "    --mount=type=bind,source=/tmp/di1zv7hw,target=/tmp \\\n",
      "    --mount=type=bind,source=/tmp/pv7dn75f/norm_diff.tif,target=/var/lib/cwl/stg77b84424-e354-4349-8adb-13e0054aa528/norm_diff.tif,readonly \\\n",
      "    --workdir=/XKbcXp \\\n",
      "    --read-only=true \\\n",
      "    --user=1000:1000 \\\n",
      "    --rm \\\n",
      "    --cidfile=/tmp/w130xcn1/20250915143048-971735.cid \\\n",
      "    --env=TMPDIR=/tmp \\\n",
      "    --env=HOME=/XKbcXp \\\n",
      "    --env=PATH=/usr/local/sbin:/usr/local/bin:/usr/sbin:/usr/bin:/sbin:/bin \\\n",
      "    --env=PYTHONPATH=/app \\\n",
      "    ghcr.io/eoap/mastering-app-package/otsu@sha256:45866d928037c38c1c0d90678bfeda885991e85dbc6edb2ecaba5873bf4a8d83 \\\n",
      "    python \\\n",
      "    -m \\\n",
      "    app \\\n",
      "    /var/lib/cwl/stg77b84424-e354-4349-8adb-13e0054aa528/norm_diff.tif\n",
      "2025-09-15 12:30:51.612 | INFO     | __main__:otsu:37 - Applying the Otsu threshold to /var/lib/cwl/stg77b84424-e354-4349-8adb-13e0054aa528/norm_diff.tif\n",
      "2025-09-15 12:30:51.617 | INFO     | __main__:otsu:40 - Write otsu.tif\n",
      "2025-09-15 12:30:54.206 | INFO     | __main__:otsu:43 - Done!\n",
      "\u001b[1;30mINFO\u001b[0m [job otsu] Max memory used: 40MiB\n",
      "\u001b[1;30mINFO\u001b[0m [job otsu] completed success\n",
      "\u001b[1;30mINFO\u001b[0m [step otsu] completed success\n",
      "\u001b[1;30mINFO\u001b[0m [workflow ] completed success\n",
      "\u001b[1;30mINFO\u001b[0m Final process status is success\n"
     ]
    }
   ],
   "source": [
    "cat water-bodies.log | egrep -v \"WARNING|JSHINT\""
   ]
  },
  {
   "cell_type": "markdown",
   "metadata": {},
   "source": [
    "Let's inspect the stdout produced. There are two `output` blocks with the id `aoi` and `items`. \n",
    "\n",
    "These are what the water bodies detection sub-workflow expects as inputs"
   ]
  },
  {
   "cell_type": "code",
   "execution_count": 41,
   "metadata": {
    "vscode": {
     "languageId": "shellscript"
    }
   },
   "outputs": [
    {
     "name": "stdout",
     "output_type": "stream",
     "text": [
      "\u001b[1;39m{\n",
      "  \u001b[0m\u001b[1;34m\"detected_water_body\"\u001b[0m\u001b[1;39m: \u001b[0m\u001b[1;39m{\n",
      "    \u001b[0m\u001b[1;34m\"location\"\u001b[0m\u001b[1;39m: \u001b[0m\u001b[0;32m\"file:///workspace/zarr-cloud-native-format/runs/otsu.tif\"\u001b[0m\u001b[1;39m,\n",
      "    \u001b[0m\u001b[1;34m\"basename\"\u001b[0m\u001b[1;39m: \u001b[0m\u001b[0;32m\"otsu.tif\"\u001b[0m\u001b[1;39m,\n",
      "    \u001b[0m\u001b[1;34m\"class\"\u001b[0m\u001b[1;39m: \u001b[0m\u001b[0;32m\"File\"\u001b[0m\u001b[1;39m,\n",
      "    \u001b[0m\u001b[1;34m\"checksum\"\u001b[0m\u001b[1;39m: \u001b[0m\u001b[0;32m\"sha1$a7f9a22f096d7bb5e2a0ecfe0abba2eab2350f1f\"\u001b[0m\u001b[1;39m,\n",
      "    \u001b[0m\u001b[1;34m\"size\"\u001b[0m\u001b[1;39m: \u001b[0m\u001b[0;39m1100785\u001b[0m\u001b[1;39m,\n",
      "    \u001b[0m\u001b[1;34m\"path\"\u001b[0m\u001b[1;39m: \u001b[0m\u001b[0;32m\"/workspace/zarr-cloud-native-format/runs/otsu.tif\"\u001b[0m\u001b[1;39m\n",
      "  \u001b[1;39m}\u001b[0m\u001b[1;39m\n",
      "\u001b[1;39m}\u001b[0m\n"
     ]
    }
   ],
   "source": [
    "cat water-bodies-results.json | jq . -"
   ]
  },
  {
   "cell_type": "code",
   "execution_count": null,
   "metadata": {
    "vscode": {
     "languageId": "shellscript"
    }
   },
   "outputs": [],
   "source": []
  }
 ],
 "metadata": {
  "kernelspec": {
   "display_name": "Bash",
   "language": "bash",
   "name": "bash"
  },
  "language_info": {
   "codemirror_mode": "shell",
   "file_extension": ".sh",
   "mimetype": "text/x-sh",
   "name": "bash"
  }
 },
 "nbformat": 4,
 "nbformat_minor": 2
}
